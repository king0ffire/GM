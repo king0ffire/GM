{
 "cells": [
  {
   "cell_type": "code",
   "execution_count": 1,
   "id": "5e29aa5c-ff47-4109-b717-15c6f2ad63c8",
   "metadata": {},
   "outputs": [
    {
     "data": {
      "application/vnd.jupyter.widget-view+json": {
       "model_id": "ef67925285ae48959dc81d6123e95f42",
       "version_major": 2,
       "version_minor": 0
      },
      "text/plain": [
       "Renderer(camera=PerspectiveCamera(children=(DirectionalLight(color='white', intensity=0.6, position=(1.0, 0.5,…"
      ]
     },
     "metadata": {},
     "output_type": "display_data"
    },
    {
     "data": {
      "text/plain": [
       "<meshplot.Viewer.Viewer at 0x1667e322c50>"
      ]
     },
     "execution_count": 1,
     "metadata": {},
     "output_type": "execute_result"
    }
   ],
   "source": [
    "import igl\n",
    "import scipy as sp\n",
    "import numpy as np\n",
    "from meshplot import plot, subplot, interact\n",
    "import meshplot as mp\n",
    "mp.jupyter()\n",
    "import os\n",
    "root_folder = os.getcwd()\n",
    "V = np.array([\n",
    "    [0., 0, 0],\n",
    "    [1, 0, 0],\n",
    "    [1, 1, 1],\n",
    "    [2, 1, 0]\n",
    "])\n",
    "\n",
    "F = np.array([\n",
    "    [0, 1, 2],\n",
    "    [1, 3, 2]\n",
    "])\n",
    "\n",
    "plot(V, F)"
   ]
  },
  {
   "cell_type": "code",
   "execution_count": 3,
   "id": "73496e76-6720-4208-a3bf-91e830f96f72",
   "metadata": {},
   "outputs": [],
   "source": [
    "import numpy as np\n",
    "import meshplot as mp\n",
    "\n",
    "v: np.array\n",
    "f: np.array\n",
    "\n",
    "data = np.load('data.npz')\n",
    "v, f, n, fs = data[\"v\"], data[\"f\"], data[\"n\"], data[\"fs\"]\n",
    "v1, f1, v2, f2 = data[\"v1\"], data[\"f1\"], data[\"v2\"], data[\"f2\"]\n",
    "\n"
   ]
  },
  {
   "cell_type": "code",
   "execution_count": 4,
   "id": "e6e424ee",
   "metadata": {},
   "outputs": [
    {
     "data": {
      "application/vnd.jupyter.widget-view+json": {
       "model_id": "334e1b66a42d441e8a4f4c75ad855d1b",
       "version_major": 2,
       "version_minor": 0
      },
      "text/plain": [
       "Renderer(camera=PerspectiveCamera(children=(DirectionalLight(color='white', intensity=0.6, position=(-0.016860…"
      ]
     },
     "metadata": {},
     "output_type": "display_data"
    },
    {
     "data": {
      "text/plain": [
       "<meshplot.Viewer.Viewer at 0x1d13c472d90>"
      ]
     },
     "execution_count": 4,
     "metadata": {},
     "output_type": "execute_result"
    }
   ],
   "source": [
    "mp.plot(v, f)"
   ]
  },
  {
   "cell_type": "code",
   "execution_count": 6,
   "id": "2b07022f",
   "metadata": {},
   "outputs": [],
   "source": [
    "from IPython.core.display import display, HTML\n",
    "\n",
    "def plot_mesh(v, f):\n",
    "  display(HTML(mp.plot(v, f).to_html()))\n",
    "\n",
    "plot_mesh(v, f)"
   ]
  },
  {
   "cell_type": "code",
   "execution_count": 4,
   "id": "8c369c7b",
   "metadata": {},
   "outputs": [
    {
     "name": "stdout",
     "output_type": "stream",
     "text": [
      "Vertices:  3485\n",
      "Faces:  6966\n"
     ]
    }
   ],
   "source": [
    "import igl\n",
    "import scipy as sp\n",
    "import numpy as np\n",
    "from meshplot import plot, subplot, interact\n",
    "import meshplot as mp\n",
    "import os\n",
    "## Load a mesh in OFF format\n",
    "root_folder = os.getcwd()\n",
    "v, f = igl.read_triangle_mesh(os.path.join(root_folder, \"data\", \"bunny.off\"))\n",
    "\n",
    "## Print the vertices and faces matrices \n",
    "print(\"Vertices: \", len(v))\n",
    "print(\"Faces: \", len(f))"
   ]
  },
  {
   "cell_type": "code",
   "execution_count": 5,
   "id": "b8d91301-68e2-46dc-a0cf-e88ad3674f59",
   "metadata": {},
   "outputs": [
    {
     "data": {
      "application/vnd.jupyter.widget-view+json": {
       "model_id": "35e75543375042e79dba66274a1b9512",
       "version_major": 2,
       "version_minor": 0
      },
      "text/plain": [
       "HBox(children=(Output(), Output()))"
      ]
     },
     "metadata": {},
     "output_type": "display_data"
    },
    {
     "data": {
      "application/vnd.jupyter.widget-view+json": {
       "model_id": "62edda966f58433babbe885d75b77c15",
       "version_major": 2,
       "version_minor": 0
      },
      "text/plain": [
       "HBox(children=(Output(), Output()))"
      ]
     },
     "metadata": {},
     "output_type": "display_data"
    },
    {
     "data": {
      "application/vnd.jupyter.widget-view+json": {
       "model_id": "6e71343a12724306af41ddc6de583d63",
       "version_major": 2,
       "version_minor": 0
      },
      "text/plain": [
       "Renderer(camera=PerspectiveCamera(children=(DirectionalLight(color='white', intensity=0.6, position=(-0.016860…"
      ]
     },
     "metadata": {},
     "output_type": "display_data"
    },
    {
     "data": {
      "text/plain": [
       "<meshplot.Viewer.Viewer at 0x1a4ad898d90>"
      ]
     },
     "execution_count": 5,
     "metadata": {},
     "output_type": "execute_result"
    }
   ],
   "source": [
    "import numpy as np\n",
    "import meshplot as mp\n",
    "v: np.array\n",
    "f: np.array\n",
    "\n",
    "data = np.load('data.npz')\n",
    "v, f, n, fs = data[\"v\"], data[\"f\"], data[\"n\"], data[\"fs\"]\n",
    "v1, f1, v2, f2 = data[\"v1\"], data[\"f1\"], data[\"v2\"], data[\"f2\"]\n",
    "d = mp.subplot(v, f, c=v[:, 1], s=[2, 2, 0])\n",
    "mp.subplot(v, f, c=n, s=[2, 2, 1], data=d)\n",
    "mp.subplot(v, f, c=np.random.rand(*f.shape), s=[2, 2, 2], data=d)\n",
    "mp.subplot(v, f, c=fs, s=[2, 2, 3], data=d)\n",
    "mp.plot(v,f)"
   ]
  },
  {
   "cell_type": "code",
   "execution_count": null,
   "id": "1d8f623e-ab62-4fb4-9338-6a33f420e8d9",
   "metadata": {},
   "outputs": [],
   "source": []
  }
 ],
 "metadata": {
  "kernelspec": {
   "display_name": "Python 3 (ipykernel)",
   "language": "python",
   "name": "python3"
  },
  "language_info": {
   "codemirror_mode": {
    "name": "ipython",
    "version": 3
   },
   "file_extension": ".py",
   "mimetype": "text/x-python",
   "name": "python",
   "nbconvert_exporter": "python",
   "pygments_lexer": "ipython3",
   "version": "3.11.8"
  }
 },
 "nbformat": 4,
 "nbformat_minor": 5
}
