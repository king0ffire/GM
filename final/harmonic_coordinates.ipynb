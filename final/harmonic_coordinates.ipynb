{
 "cells": [
  {
   "cell_type": "code",
   "execution_count": 32,
   "id": "local-investor",
   "metadata": {},
   "outputs": [],
   "source": [
    "import numpy as np\n",
    "import igl\n",
    "import meshplot as mp\n",
    "from scipy.spatial.transform import Rotation\n",
    "import ipywidgets as iw\n",
    "import time\n",
    "from scipy.sparse import csc_matrix,diags,lil_matrix,vstack\n",
    "from scipy.sparse.linalg import spsolve,inv\n",
    "from scipy.linalg import det\n",
    "from scipy.spatial import Delaunay\n",
    "from IPython.display import display, HTML,IFrame\n",
    "import scipy.sparse as sp\n",
    "\n",
    "interactive = True\n",
    "use_cholesky = False\n",
    "filename = 'woody-hi'\n",
    "html=False\n",
    "triangulation_methods=2 # 0 for scipy, 1 for triangle (removing unnecessary triangular), 2 for tiangle with random sample points"
   ]
  },
  {
   "cell_type": "code",
   "execution_count": 33,
   "id": "4afe9993-58cc-4aa9-8b0d-cec71deae450",
   "metadata": {},
   "outputs": [],
   "source": [
    "if interactive:\n",
    "    html=False\n",
    "if html:\n",
    "    mp.website()\n",
    "file_counter = 0\n",
    "def htmlit(plot,method=1):\n",
    "    if method==1:\n",
    "        global file_counter\n",
    "        unique_filename = f\"./htmls/plot_{filename}{file_counter}.html\"\n",
    "        file_counter += 1\n",
    "        plot.save(unique_filename)\n",
    "        return unique_filename\n",
    "    else:\n",
    "        html = plot.to_html(imports=True, html_frame=False)\n",
    "        return HTML(html)"
   ]
  },
  {
   "cell_type": "code",
   "execution_count": 34,
   "id": "pharmaceutical-transsexual",
   "metadata": {},
   "outputs": [],
   "source": [
    "v, f = igl.read_triangle_mesh(f'data/{filename}.off')\n",
    "cage_verts=np.load(\"data/woody-hi.cage.npy\")\n",
    "v -= v.min(axis=0)\n",
    "v /= v.max()"
   ]
  },
  {
   "cell_type": "code",
   "execution_count": 35,
   "id": "2c0027e7-cf52-440c-9f79-d9c25a874e5b",
   "metadata": {},
   "outputs": [
    {
     "name": "stdout",
     "output_type": "stream",
     "text": [
      "(59, 3)\n"
     ]
    },
    {
     "data": {
      "application/vnd.jupyter.widget-view+json": {
       "model_id": "6eeffd536a3e401e93b5b688f231684f",
       "version_major": 2,
       "version_minor": 0
      },
      "text/plain": [
       "Renderer(camera=PerspectiveCamera(children=(DirectionalLight(color='white', intensity=0.6, position=(0.4299999…"
      ]
     },
     "metadata": {},
     "output_type": "display_data"
    }
   ],
   "source": [
    "if triangulation_methods==0:\n",
    "    tri_verts=np.vstack((cage_verts,v))[:,:2]\n",
    "    temp=Delaunay(tri_verts)\n",
    "    tri_verts,tri_faces=temp.points,temp.simplices\n",
    "    padding=np.zeros((tri_verts.shape[0],1))\n",
    "    tri_verts=np.hstack((tri_verts,padding))\n",
    "    p=mp.plot(tri_verts,tri_faces,shading={\"wireframe\":True})\n",
    "elif triangulation_methods==1:\n",
    "    import triangle\n",
    "    seg=[]\n",
    "    for i in range(cage_verts.shape[0]):\n",
    "        seg.append([i,(i+1)%cage_verts.shape[0]])\n",
    "    tri_verts=np.vstack((cage_verts,v))[:,:2]\n",
    "    t = triangle.triangulate({'vertices': tri_verts,'segments':seg},'p')\n",
    "    tri_verts=np.array(t['vertices'])\n",
    "    tri_faces=np.array(t['triangles'])\n",
    "    padding=np.zeros((tri_verts.shape[0],1))\n",
    "    tri_verts=np.hstack((tri_verts,padding))\n",
    "    p=mp.plot(tri_verts,tri_faces,shading={\"wireframe\":True})\n",
    "elif triangulation_methods==2:    \n",
    "    import triangle\n",
    "    seg=[]\n",
    "    for i in range(cage_verts.shape[0]):\n",
    "        seg.append([i,(i+1)%cage_verts.shape[0]])\n",
    "    t = triangle.triangulate({'vertices': cage_verts[:,:2],'segments':seg},'pa0.01')\n",
    "    tri_verts=np.array(t['vertices'])\n",
    "    tri_faces=np.array(t['triangles'])\n",
    "    padding=np.zeros((tri_verts.shape[0],1))\n",
    "    tri_verts=np.hstack((tri_verts,padding))\n",
    "    print(tri_verts.shape)\n",
    "    p=mp.plot(tri_verts,tri_faces,shading={\"wireframe\":True})"
   ]
  },
  {
   "cell_type": "code",
   "execution_count": 36,
   "id": "tight-course",
   "metadata": {},
   "outputs": [],
   "source": [
    "handle_vertex_positions = cage_verts.copy()\n",
    "pos_f_saver = np.zeros((cage_verts.shape[0], 3))\n",
    "def pos_f(s,x,y,z):\n",
    "    #slices = (labels==s)\n",
    "    #r = Rotation.from_euler('xyz', [α, β, γ], degrees=True)\n",
    "    v_slice = cage_verts[s] + np.array([x,y,z])\n",
    "    handle_vertex_positions[s] = v_slice\n",
    "    pos_f_saver[s - 1] = [x,y,z]\n",
    "    t0 = time.time()\n",
    "    v_deformed = pos_f.deformer(handle_vertex_positions)\n",
    "    #v_deformed = add_detail(v_deformed)\n",
    "    print(v_deformed.shape)\n",
    "    global lines_obj\n",
    "    p.update_object(vertices = v_deformed,colors=np.array(weights[:,s]))\n",
    "    p.remove_object(lines_obj)\n",
    "\n",
    "    lines_obj=p.add_lines(handle_vertex_positions,np.vstack((handle_vertex_positions[1:],handle_vertex_positions[0])))\n",
    "    #p.add_lines(handle_vertex_positions)\n",
    "    t1 = time.time()\n",
    "    print('FPS', 1/(t1 - t0))\n",
    "#pos_f.deformer = lambda x:x"
   ]
  },
  {
   "cell_type": "code",
   "execution_count": 37,
   "id": "stone-element",
   "metadata": {},
   "outputs": [],
   "source": [
    "def widgets_wrapper():\n",
    "    segment_widget = iw.Dropdown(options=np.arange(cage_verts.shape[0]))\n",
    "    translate_widget = {i:iw.FloatSlider(min=-1, max=1, value=0) \n",
    "                        for i in 'xyz'}\n",
    "    #rotate_widget = {a:iw.FloatSlider(min=-90, max=90, value=0, step=1) for a in 'αβγ'}\n",
    "\n",
    "    def update_seg(*args):\n",
    "        (translate_widget['x'].value,translate_widget['y'].value,\n",
    "        translate_widget['z'].value) = pos_f_saver[segment_widget.value]\n",
    "    segment_widget.observe(update_seg, 'value')\n",
    "    widgets_dict = dict(s=segment_widget)\n",
    "    widgets_dict.update(translate_widget)\n",
    "    #widgets_dict.update(rotate_widget)\n",
    "    return widgets_dict"
   ]
  },
  {
   "cell_type": "code",
   "execution_count": 47,
   "id": "8881931a-c9dd-41ee-bdd9-2a6370ae0c0f",
   "metadata": {},
   "outputs": [],
   "source": [
    "def mybarycentric(p, a, b, c):\n",
    "    v0 = b - a\n",
    "    v1 = c - a\n",
    "    v2 = p - a\n",
    "    d00 = np.dot(v0, v0)\n",
    "    d01 = np.dot(v0, v1)\n",
    "    d11 = np.dot(v1, v1)\n",
    "    d20 = np.dot(v2, v0)\n",
    "    d21 = np.dot(v2, v1)\n",
    "    denom = d00 * d11 - d01 * d01\n",
    "    v = (d11 * d20 - d01 * d21) / denom\n",
    "    w = (d00 * d21 - d01 * d20) / denom\n",
    "    u = 1.0 - v - w\n",
    "    return np.array([u,v,w])\n",
    "\n",
    "def find_barycentric_triangle(obj_verts,cage_verts,cage_faces):\n",
    "    index=np.zeros(obj_verts.shape[0],dtype=\"int\")\n",
    "    weight=np.zeros((obj_verts.shape[0],3))\n",
    "    for i in range(obj_verts.shape[0]):\n",
    "        for j in range(cage_faces.shape[0]):\n",
    "            res=mybarycentric(obj_verts[i][:2],cage_verts[cage_faces[j,0]][:2],cage_verts[cage_faces[j,1]][:2],cage_verts[cage_faces[j,2]][:2])\n",
    "            if res[0]>=0 and res[1]>=0 and res[2]>=0:\n",
    "                index[i]=j\n",
    "                weight[i]=res\n",
    "                break\n",
    "    return index,weight\n",
    "    \n",
    "def cagesolver_2d(tri_verts,tri_faces,cage_verts,obj_verts):\n",
    "    \n",
    "    weights_res=np.zeros((obj_verts.shape[0],cage_verts.shape[0]))\n",
    "    mass_mat=igl.massmatrix(tri_verts,tri_faces)\n",
    "    M=mass_mat\n",
    "    cot_mat=igl.cotmatrix(tri_verts,tri_faces)\n",
    "    L=inv(M)@cot_mat\n",
    "    Lff=L[cage_verts.shape[0]:,:][:,cage_verts.shape[0]:]\n",
    "    Lfc=L[cage_verts.shape[0]:,:][:,:cage_verts.shape[0]]\n",
    "    xc=np.ones(cage_verts.shape[0])\n",
    "    xc=diags(xc)\n",
    "    result=spsolve(Lff,-Lfc@xc) # result weight is for any cage points not on boundary\n",
    "    if triangulation_methods<=1:\n",
    "        return result.toarray()\n",
    "    print(np.eye(cage_verts.shape[0]).shape)\n",
    "    print(result.shape)\n",
    "    result=np.vstack((np.eye(cage_verts.shape[0]),result.toarray()))\n",
    "    index,barycentric_weight=find_barycentric_triangle(obj_verts,tri_verts,tri_faces)\n",
    "    for i in range(obj_verts.shape[0]):\n",
    "        i_in_face=index[i]\n",
    "        face_v0=tri_faces[i_in_face,0]\n",
    "        face_v1=tri_faces[i_in_face,1]\n",
    "        face_v2=tri_faces[i_in_face,2]\n",
    "        weights_res[i]=(result[face_v0]*barycentric_weight[i,0]+result[face_v1]*barycentric_weight[i,1]+result[face_v2]*barycentric_weight[i,2])\n",
    "    print(index[0])\n",
    "    print(barycentric_weight[0])\n",
    "    \n",
    "    return weights_res\n",
    "    \n",
    "def cage_deformer(tri_verts):\n",
    "    res=weights@tri_verts\n",
    "    return res\n",
    "pos_f.deformer=cage_deformer"
   ]
  },
  {
   "cell_type": "code",
   "execution_count": 48,
   "id": "7b28120a-5bbb-4277-a146-c79b22d5221e",
   "metadata": {},
   "outputs": [
    {
     "name": "stdout",
     "output_type": "stream",
     "text": [
      "(21, 21)\n",
      "(38, 21)\n",
      "77\n",
      "[0.43086378 0.31011267 0.25902356]\n"
     ]
    }
   ],
   "source": [
    "weights=cagesolver_2d(tri_verts,tri_faces,cage_verts,v)"
   ]
  },
  {
   "cell_type": "code",
   "execution_count": 30,
   "id": "1c3bd73f-88bc-4fdf-a039-651b9a8d4b38",
   "metadata": {},
   "outputs": [
    {
     "data": {
      "text/plain": [
       "(2642, 3)"
      ]
     },
     "execution_count": 30,
     "metadata": {},
     "output_type": "execute_result"
    }
   ],
   "source": [
    "weights.shape\n",
    "v.shape"
   ]
  },
  {
   "cell_type": "code",
   "execution_count": 58,
   "id": "728cd5c3-7063-4de2-ba53-11f79befa327",
   "metadata": {},
   "outputs": [
    {
     "data": {
      "application/vnd.jupyter.widget-view+json": {
       "model_id": "724b3e0aef2f4719a25c640e14d3c4ae",
       "version_major": 2,
       "version_minor": 0
      },
      "text/plain": [
       "Renderer(camera=PerspectiveCamera(children=(DirectionalLight(color='white', intensity=0.6, position=(0.4306930…"
      ]
     },
     "metadata": {},
     "output_type": "display_data"
    },
    {
     "name": "stdout",
     "output_type": "stream",
     "text": [
      "[0.00123762 0.61138614 0.        ]\n"
     ]
    },
    {
     "data": {
      "application/vnd.jupyter.widget-view+json": {
       "model_id": "8e2c6ee0cc8447b4845c692fca19a961",
       "version_major": 2,
       "version_minor": 0
      },
      "text/plain": [
       "interactive(children=(Dropdown(description='s', options=(0, 1, 2, 3, 4, 5, 6, 7, 8, 9, 10, 11, 12, 13, 14, 15,…"
      ]
     },
     "metadata": {},
     "output_type": "display_data"
    }
   ],
   "source": [
    "## Widget UI\n",
    "if interactive==True:\n",
    "    p = mp.plot(v, f, c=weights[:,0])\n",
    "    p.add_points(tri_verts[tri_faces[0]],shading={\"point_size\": 0.1})\n",
    "    print(v[0])\n",
    "    p.add_points(v[0][None,:],shading={\"point_size\": 0.1})\n",
    "    lines_obj=p.add_lines(handle_vertex_positions,np.vstack((handle_vertex_positions[1:],handle_vertex_positions[0])))\n",
    "\n",
    "    iw.interact(pos_f, **widgets_wrapper())"
   ]
  },
  {
   "cell_type": "code",
   "execution_count": null,
   "id": "d19e4a0e-2a8b-46b8-a1af-9bde1084e8bd",
   "metadata": {},
   "outputs": [],
   "source": []
  }
 ],
 "metadata": {
  "kernelspec": {
   "display_name": "Python 3 (ipykernel)",
   "language": "python",
   "name": "python3"
  },
  "language_info": {
   "codemirror_mode": {
    "name": "ipython",
    "version": 3
   },
   "file_extension": ".py",
   "mimetype": "text/x-python",
   "name": "python",
   "nbconvert_exporter": "python",
   "pygments_lexer": "ipython3",
   "version": "3.10.14"
  }
 },
 "nbformat": 4,
 "nbformat_minor": 5
}
