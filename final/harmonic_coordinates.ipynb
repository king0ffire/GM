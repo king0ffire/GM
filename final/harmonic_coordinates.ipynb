{
 "cells": [
  {
   "cell_type": "code",
   "execution_count": 58,
   "id": "local-investor",
   "metadata": {},
   "outputs": [],
   "source": [
    "import numpy as np\n",
    "import igl\n",
    "import meshplot as mp\n",
    "from scipy.spatial.transform import Rotation\n",
    "import ipywidgets as iw\n",
    "import time\n",
    "from scipy.sparse import csc_matrix,diags,lil_matrix,vstack\n",
    "from scipy.sparse.linalg import spsolve,inv\n",
    "from scipy.linalg import det\n",
    "from scipy.spatial import Delaunay\n",
    "from IPython.display import display, HTML,IFrame\n",
    "import scipy.sparse as sp\n",
    "\n",
    "interactive = True\n",
    "use_cholesky = False\n",
    "filename = 'woody-hi'\n",
    "html=False\n",
    "triangulation_methods=0 # 0 for scipy, and 1 for triangle and using barycentric coordinates to sample interior points"
   ]
  },
  {
   "cell_type": "code",
   "execution_count": 59,
   "id": "4afe9993-58cc-4aa9-8b0d-cec71deae450",
   "metadata": {},
   "outputs": [],
   "source": [
    "if interactive:\n",
    "    html=False\n",
    "if html:\n",
    "    mp.website()\n",
    "file_counter = 0\n",
    "def htmlit(plot,method=1):\n",
    "    if method==1:\n",
    "        global file_counter\n",
    "        unique_filename = f\"./htmls/plot_{filename}{file_counter}.html\"\n",
    "        file_counter += 1\n",
    "        plot.save(unique_filename)\n",
    "        return unique_filename\n",
    "    else:\n",
    "        html = plot.to_html(imports=True, html_frame=False)\n",
    "        return HTML(html)"
   ]
  },
  {
   "cell_type": "code",
   "execution_count": 60,
   "id": "pharmaceutical-transsexual",
   "metadata": {},
   "outputs": [],
   "source": [
    "v, f = igl.read_triangle_mesh(f'data/{filename}.off')\n",
    "cage_verts=np.load(\"data/woody-hi.cage.npy\")\n",
    "v -= v.min(axis=0)\n",
    "v /= v.max()"
   ]
  },
  {
   "cell_type": "code",
   "execution_count": 61,
   "id": "2c0027e7-cf52-440c-9f79-d9c25a874e5b",
   "metadata": {},
   "outputs": [
    {
     "name": "stdout",
     "output_type": "stream",
     "text": [
      "[[ 0.2   0.    0.  ]\n",
      " [ 0.28 -0.04  0.  ]\n",
      " [ 0.39 -0.01  0.  ]\n",
      " [ 0.44  0.21  0.  ]\n",
      " [ 0.52  0.    0.  ]\n",
      " [ 0.62 -0.03  0.  ]\n",
      " [ 0.74  0.01  0.  ]\n",
      " [ 0.75  0.16  0.  ]\n",
      " [ 0.65  0.49  0.  ]\n",
      " [ 0.89  0.49  0.  ]\n",
      " [ 0.89  0.72  0.  ]\n",
      " [ 0.62  0.73  0.  ]\n",
      " [ 0.58  0.93  0.  ]\n",
      " [ 0.41  1.1   0.  ]\n",
      " [ 0.22  0.94  0.  ]\n",
      " [ 0.19  0.81  0.  ]\n",
      " [ 0.26  0.73  0.  ]\n",
      " [-0.03  0.73  0.  ]\n",
      " [-0.03  0.48  0.  ]\n",
      " [ 0.23  0.48  0.  ]\n",
      " [ 0.13  0.12  0.  ]]\n",
      "2642\n"
     ]
    },
    {
     "data": {
      "application/vnd.jupyter.widget-view+json": {
       "model_id": "dabf97792a304578a49db6e968c1fcd3",
       "version_major": 2,
       "version_minor": 0
      },
      "text/plain": [
       "Renderer(camera=PerspectiveCamera(children=(DirectionalLight(color='white', intensity=0.6, position=(0.4299999…"
      ]
     },
     "metadata": {},
     "output_type": "display_data"
    }
   ],
   "source": [
    "print(cage_verts)\n",
    "print(v.shape[0])\n",
    "tri_verts=np.vstack((cage_verts,v))[:,:2]\n",
    "temp=Delaunay(tri_verts)\n",
    "tri_verts,tri_faces=temp.points,temp.simplices\n",
    "padding=np.zeros((tri_verts.shape[0],1))\n",
    "tri_verts=np.hstack((tri_verts,padding))\n",
    "p=mp.plot(tri_verts,tri_faces,shading={\"wireframe\":True})"
   ]
  },
  {
   "cell_type": "code",
   "execution_count": 62,
   "id": "tight-course",
   "metadata": {},
   "outputs": [],
   "source": [
    "handle_vertex_positions = cage_verts.copy()\n",
    "pos_f_saver = np.zeros((cage_verts.shape[0], 3))\n",
    "def pos_f(s,x,y,z):\n",
    "    #slices = (labels==s)\n",
    "    #r = Rotation.from_euler('xyz', [α, β, γ], degrees=True)\n",
    "    v_slice = cage_verts[s] + np.array([x,y,z])\n",
    "    handle_vertex_positions[s] = v_slice\n",
    "    pos_f_saver[s - 1] = [x,y,z]\n",
    "    t0 = time.time()\n",
    "    v_deformed = pos_f.deformer(handle_vertex_positions)\n",
    "    #v_deformed = add_detail(v_deformed)\n",
    "    print(v_deformed.shape)\n",
    "    global lines_obj\n",
    "    p.update_object(vertices = v_deformed,colors=np.array(weights[:,s]))\n",
    "    p.remove_object(lines_obj)\n",
    "\n",
    "    lines_obj=p.add_lines(handle_vertex_positions,np.vstack((handle_vertex_positions[1:],handle_vertex_positions[0])))\n",
    "    #p.add_lines(handle_vertex_positions)\n",
    "    t1 = time.time()\n",
    "    print('FPS', 1/(t1 - t0))\n",
    "#pos_f.deformer = lambda x:x"
   ]
  },
  {
   "cell_type": "code",
   "execution_count": 63,
   "id": "stone-element",
   "metadata": {},
   "outputs": [],
   "source": [
    "def widgets_wrapper():\n",
    "    segment_widget = iw.Dropdown(options=np.arange(cage_verts.shape[0]))\n",
    "    translate_widget = {i:iw.FloatSlider(min=-1, max=1, value=0) \n",
    "                        for i in 'xyz'}\n",
    "    #rotate_widget = {a:iw.FloatSlider(min=-90, max=90, value=0, step=1) for a in 'αβγ'}\n",
    "\n",
    "    def update_seg(*args):\n",
    "        (translate_widget['x'].value,translate_widget['y'].value,\n",
    "        translate_widget['z'].value) = pos_f_saver[segment_widget.value]\n",
    "    segment_widget.observe(update_seg, 'value')\n",
    "    widgets_dict = dict(s=segment_widget)\n",
    "    widgets_dict.update(translate_widget)\n",
    "    #widgets_dict.update(rotate_widget)\n",
    "    return widgets_dict"
   ]
  },
  {
   "cell_type": "code",
   "execution_count": 64,
   "id": "8881931a-c9dd-41ee-bdd9-2a6370ae0c0f",
   "metadata": {},
   "outputs": [],
   "source": [
    "def find_barycentric_triangle(obj_verts,cage_verts,cage_faces):\n",
    "    index=np.zeros(obj_verts.shape[0])\n",
    "    weight=np.zeros((obj_verts.shape[0],3))\n",
    "    for i in range(obj_verts.shape[0]):\n",
    "        for j in range(cage_faces.shape[0]):\n",
    "            res=igl.barycentric_coordinates_tri(obj_verts[i],cage_verts[cage_faces[j,0]],cage_verts[cage_faces[j,1]],cage_verts[cage_faces[j,2]])\n",
    "            if res[0]>=0 and res[1]>=0 and res[2]>=0:\n",
    "                index[i]=j\n",
    "                weight[i]=res\n",
    "                break\n",
    "    return index,weight\n",
    "    \n",
    "def cagesolver_2d(tri_verts,tri_faces,cage_verts):\n",
    "    #index,weight=find_barycentric_triangle(verts,triangulated_cage,cage_f)\n",
    "    mass_mat=igl.massmatrix(tri_verts,tri_faces,igl.MASSMATRIX_TYPE_BARYCENTRIC)\n",
    "    M=mass_mat\n",
    "    cot_mat=igl.cotmatrix(tri_verts,tri_faces)\n",
    "    L=inv(M)@cot_mat\n",
    "    '''\n",
    "    d=np.ones((cage.shape[0]))\n",
    "    d=diags(d)\n",
    "    consA=lil_matrix((cage.shape[0],tri_verts.shape[0]))\n",
    "    for i in range(cage.shape[0]):\n",
    "        consA[:,:cage.shape[0]]=d\n",
    "        L_prime=L.copy().tolil()\n",
    "        L_prime[:cage.shape[0],:]=consA\n",
    "        #consA=consA.tocsc()\n",
    "        \n",
    "        consA=np.zeros((cage_verts.shape[0],tri_verts.shape[0]))\n",
    "        for j in range(cage.shape[0]):\n",
    "            consA[j,j]=1\n",
    "        \n",
    "        \n",
    "        consb=np.zeros((tri_verts.shape[0],1))\n",
    "        consb[i]=1\n",
    "\n",
    "        result[:,i]=spsolve(L_prime,consb)[cage_verts.shape[0]:]\n",
    "    '''\n",
    "    Lff=L[cage_verts.shape[0]:,:][:,cage_verts.shape[0]:]\n",
    "    Lfc=L[cage_verts.shape[0]:,:][:,:cage_verts.shape[0]]\n",
    "    xc=np.ones(cage_verts.shape[0])\n",
    "    xc=diags(xc)\n",
    "    result=spsolve(Lff,-Lfc@xc)\n",
    "    return result\n",
    "    \n",
    "\n",
    "def cage_deformer(cage):\n",
    "    res=weights@cage\n",
    "    return res\n",
    "pos_f.deformer=cage_deformer"
   ]
  },
  {
   "cell_type": "code",
   "execution_count": 65,
   "id": "7b28120a-5bbb-4277-a146-c79b22d5221e",
   "metadata": {},
   "outputs": [],
   "source": [
    "weights=cagesolver_2d(tri_verts,tri_faces,cage_verts).todense()\n"
   ]
  },
  {
   "cell_type": "code",
   "execution_count": 66,
   "id": "1c3bd73f-88bc-4fdf-a039-651b9a8d4b38",
   "metadata": {},
   "outputs": [
    {
     "data": {
      "text/plain": [
       "(2642, 1)"
      ]
     },
     "execution_count": 66,
     "metadata": {},
     "output_type": "execute_result"
    }
   ],
   "source": [
    "np.array(weights[:,0]).shape"
   ]
  },
  {
   "cell_type": "code",
   "execution_count": 67,
   "id": "728cd5c3-7063-4de2-ba53-11f79befa327",
   "metadata": {},
   "outputs": [
    {
     "data": {
      "application/vnd.jupyter.widget-view+json": {
       "model_id": "13aca71081c94a229b59380dd6a9c0d6",
       "version_major": 2,
       "version_minor": 0
      },
      "text/plain": [
       "Renderer(camera=PerspectiveCamera(children=(DirectionalLight(color='white', intensity=0.6, position=(0.4306930…"
      ]
     },
     "metadata": {},
     "output_type": "display_data"
    },
    {
     "data": {
      "application/vnd.jupyter.widget-view+json": {
       "model_id": "9b67287a07434c87abea980e8b87174d",
       "version_major": 2,
       "version_minor": 0
      },
      "text/plain": [
       "interactive(children=(Dropdown(description='s', options=(0, 1, 2, 3, 4, 5, 6, 7, 8, 9, 10, 11, 12, 13, 14, 15,…"
      ]
     },
     "metadata": {},
     "output_type": "display_data"
    }
   ],
   "source": [
    "## Widget UI\n",
    "if interactive==True:\n",
    "    p = mp.plot(v, f)\n",
    "    lines_obj=p.add_lines(handle_vertex_positions,np.vstack((handle_vertex_positions[1:],handle_vertex_positions[0])))\n",
    "\n",
    "    iw.interact(pos_f, **widgets_wrapper())"
   ]
  },
  {
   "cell_type": "code",
   "execution_count": 56,
   "id": "7d5cf998-4883-46cb-9527-eb1d367334ee",
   "metadata": {},
   "outputs": [
    {
     "ename": "NameError",
     "evalue": "name 'Aff' is not defined",
     "output_type": "error",
     "traceback": [
      "\u001b[0;31m---------------------------------------------------------------------------\u001b[0m",
      "\u001b[0;31mNameError\u001b[0m                                 Traceback (most recent call last)",
      "Cell \u001b[0;32mIn[56], line 2\u001b[0m\n\u001b[1;32m      1\u001b[0m \u001b[38;5;28;01mfrom\u001b[39;00m \u001b[38;5;21;01msksparse\u001b[39;00m\u001b[38;5;21;01m.\u001b[39;00m\u001b[38;5;21;01mcholmod\u001b[39;00m \u001b[38;5;28;01mimport\u001b[39;00m cholesky\n\u001b[0;32m----> 2\u001b[0m factor \u001b[38;5;241m=\u001b[39m cholesky(\u001b[43mAff\u001b[49m)\n\u001b[1;32m      3\u001b[0m \u001b[38;5;28;01mdef\u001b[39;00m \u001b[38;5;21mCholesky_deformer\u001b[39m(target_pos):\n\u001b[1;32m      4\u001b[0m     b\u001b[38;5;241m=\u001b[39m\u001b[38;5;241m-\u001b[39mAfc\u001b[38;5;129m@target_pos\u001b[39m[slicesconstraint]\n",
      "\u001b[0;31mNameError\u001b[0m: name 'Aff' is not defined"
     ]
    }
   ],
   "source": [
    "from sksparse.cholmod import cholesky\n",
    "factor = cholesky(Aff)\n",
    "def Cholesky_deformer(target_pos):\n",
    "    b=-Afc@target_pos[slicesconstraint]\n",
    "    x = factor(b)\n",
    "    new=target_pos.copy()\n",
    "    new[slicesfree]=x\n",
    "    return new\n",
    "\n",
    "if use_cholesky:\n",
    "    pos_f.deformer=Cholesky_deformer"
   ]
  },
  {
   "cell_type": "code",
   "execution_count": 57,
   "id": "97bfc62a-b078-4377-87fb-6b4c9bbec828",
   "metadata": {},
   "outputs": [],
   "source": [
    "def manual_pos_f(verts, labels, s, x, y, z, α, β, γ):\n",
    "    slices = (labels==s)\n",
    "    r = Rotation.from_euler('xyz', [α, β, γ], degrees=True)\n",
    "    v_slice = v[slices] + np.array([[x,y,z]])\n",
    "    center = v_slice.mean(axis=0)\n",
    "    verts[slices] = r.apply(v_slice - center) + center\n",
    "    v_smoothed = pos_f.deformer(verts) # B'\n",
    "    v_deformed = add_detail(v_smoothed) # S'\n",
    "    return v_smoothed,v_deformed\n",
    "    \n",
    "if interactive==False:\n",
    "    c = np.load(f'data/{filename}.pos.npy')\n",
    "    V=v\n",
    "    #B,_=manual_pos_f(V,labels,0,0,0,0,0,0)\n",
    "    B_prime=V\n",
    "    for i in range(c.shape[0]):\n",
    "        B_prime,S_prime=manual_pos_f(V,labels,c[i,0].astype(int),c[i,1],c[i,2],c[i,3],c[i,4],c[i,5],c[i,6])\n",
    "    p1= mp.plot(B_prime, f, c=labels)\n",
    "    p2= mp.plot(S_prime, f, c=labels)"
   ]
  },
  {
   "cell_type": "code",
   "execution_count": null,
   "id": "36164851-f398-409a-b72c-66083b3d91ee",
   "metadata": {},
   "outputs": [],
   "source": [
    "if html and interactive==False:\n",
    "    html=htmlit(p1)\n",
    "IFrame(src=html, width=700, height=600)"
   ]
  },
  {
   "cell_type": "code",
   "execution_count": null,
   "id": "d26790a0-9bf5-40c1-8f77-81495805fefd",
   "metadata": {},
   "outputs": [],
   "source": [
    "if html and interactive==False:\n",
    "    html=htmlit(p2)\n",
    "IFrame(src=html, width=700, height=600)"
   ]
  },
  {
   "cell_type": "code",
   "execution_count": null,
   "id": "ce44b2d0-f50f-45c8-be49-d0584a262b1d",
   "metadata": {},
   "outputs": [],
   "source": []
  }
 ],
 "metadata": {
  "kernelspec": {
   "display_name": "Python 3 (ipykernel)",
   "language": "python",
   "name": "python3"
  },
  "language_info": {
   "codemirror_mode": {
    "name": "ipython",
    "version": 3
   },
   "file_extension": ".py",
   "mimetype": "text/x-python",
   "name": "python",
   "nbconvert_exporter": "python",
   "pygments_lexer": "ipython3",
   "version": "3.10.14"
  }
 },
 "nbformat": 4,
 "nbformat_minor": 5
}
