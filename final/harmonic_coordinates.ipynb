{
 "cells": [
  {
   "cell_type": "code",
   "execution_count": 38,
   "id": "local-investor",
   "metadata": {},
   "outputs": [],
   "source": [
    "import numpy as np\n",
    "import igl\n",
    "import meshplot as mp\n",
    "from scipy.spatial.transform import Rotation\n",
    "import ipywidgets as iw\n",
    "import time\n",
    "from scipy.sparse import csc_matrix,diags,lil_matrix,vstack\n",
    "from scipy.sparse.linalg import spsolve,inv\n",
    "from scipy.linalg import det\n",
    "from scipy.spatial import Delaunay\n",
    "from IPython.display import display, HTML,IFrame\n",
    "import scipy.sparse as sp\n",
    "\n",
    "interactive = True\n",
    "use_cholesky = False\n",
    "filename = 'woody-hi'\n",
    "html=False\n",
    "triangulation_methods=4 # 0 for scipy, 1 for triangle (removing unnecessary triangular), 2 for mean value, 3 for triangle with random sample points"
   ]
  },
  {
   "cell_type": "code",
   "execution_count": 39,
   "id": "pharmaceutical-transsexual",
   "metadata": {},
   "outputs": [],
   "source": [
    "v, f = igl.read_triangle_mesh(f'data/{filename}.off')\n",
    "cage_verts=np.load(\"data/woody-hi.cage.npy\")\n",
    "v -= v.min(axis=0)\n",
    "v /= v.max()"
   ]
  },
  {
   "cell_type": "markdown",
   "id": "60b93fc7-eeb2-4f74-b99a-8cdd0921b508",
   "metadata": {},
   "source": [
    "# Triangulation\n"
   ]
  },
  {
   "cell_type": "code",
   "execution_count": 48,
   "id": "2c0027e7-cf52-440c-9f79-d9c25a874e5b",
   "metadata": {},
   "outputs": [
    {
     "name": "stdout",
     "output_type": "stream",
     "text": [
      "(21, 3)\n"
     ]
    },
    {
     "data": {
      "application/vnd.jupyter.widget-view+json": {
       "model_id": "da9a1407da7a46ae9237b3296f5a853e",
       "version_major": 2,
       "version_minor": 0
      },
      "text/plain": [
       "Renderer(camera=PerspectiveCamera(children=(DirectionalLight(color='white', intensity=0.6, position=(0.4299999…"
      ]
     },
     "metadata": {},
     "output_type": "display_data"
    }
   ],
   "source": [
    "seg=[]\n",
    "for i in range(cage_verts.shape[0]):\n",
    "        seg.append([i,(i+1)%cage_verts.shape[0]])\n",
    "if triangulation_methods==0:\n",
    "    tri_verts=np.vstack((cage_verts,v))[:,:2]\n",
    "    temp=Delaunay(tri_verts)\n",
    "    tri_verts,tri_faces=temp.points,temp.simplices\n",
    "    padding=np.zeros((tri_verts.shape[0],1))\n",
    "    tri_verts=np.hstack((tri_verts,padding))\n",
    "    p=mp.plot(tri_verts,tri_faces,shading={\"wireframe\":True})\n",
    "elif triangulation_methods==1:\n",
    "    import triangle\n",
    "    tri_verts=np.vstack((cage_verts,v))[:,:2]\n",
    "    t = triangle.triangulate({'vertices': tri_verts,'segments':seg},'p')\n",
    "    tri_verts=np.array(t['vertices'])\n",
    "    tri_faces=np.array(t['triangles'])\n",
    "    padding=np.zeros((tri_verts.shape[0],1))\n",
    "    tri_verts=np.hstack((tri_verts,padding))\n",
    "    p=mp.plot(tri_verts,tri_faces,shading={\"wireframe\":True})\n",
    "elif triangulation_methods==2:    \n",
    "    import triangle\n",
    "    t = triangle.triangulate({'vertices': cage_verts[:,:2],'segments':seg},'p')\n",
    "    tri_verts=np.array(t['vertices'])\n",
    "    tri_faces=np.array(t['triangles'])\n",
    "    padding=np.zeros((tri_verts.shape[0],1))\n",
    "    tri_verts=np.hstack((tri_verts,padding))\n",
    "    print(tri_verts.shape)\n",
    "    p=mp.plot(tri_verts,tri_faces,shading={\"wireframe\":True})\n",
    "elif triangulation_methods==3:    \n",
    "    import triangle\n",
    "    t = triangle.triangulate({'vertices': cage_verts[:,:2],'segments':seg},'pa0.01')\n",
    "    tri_verts=np.array(t['vertices'])\n",
    "    tri_faces=np.array(t['triangles'])\n",
    "    padding=np.zeros((tri_verts.shape[0],1))\n",
    "    tri_verts=np.hstack((tri_verts,padding))\n",
    "    print(tri_verts.shape)\n",
    "    p=mp.plot(tri_verts,tri_faces,shading={\"wireframe\":True})"
   ]
  },
  {
   "cell_type": "code",
   "execution_count": 49,
   "id": "tight-course",
   "metadata": {},
   "outputs": [],
   "source": [
    "handle_vertex_positions = cage_verts.copy()\n",
    "pos_f_saver = np.zeros((cage_verts.shape[0], 3))\n",
    "def pos_f(s,x,y,z):\n",
    "    v_slice = cage_verts[s] + np.array([x,y,z])\n",
    "    handle_vertex_positions[s] = v_slice\n",
    "    pos_f_saver[s - 1] = [x,y,z]\n",
    "    t0 = time.time()\n",
    "    v_deformed = pos_f.deformer(handle_vertex_positions)\n",
    "    global lines_obj\n",
    "    p.update_object(vertices = v_deformed,colors=np.array(weights[:,s]))\n",
    "    p.remove_object(lines_obj)\n",
    "    lines_obj=p.add_lines(handle_vertex_positions,np.vstack((handle_vertex_positions[1:],handle_vertex_positions[0])))\n",
    "    t1 = time.time()\n",
    "    print('FPS', 1/(t1 - t0))"
   ]
  },
  {
   "cell_type": "code",
   "execution_count": 50,
   "id": "stone-element",
   "metadata": {},
   "outputs": [],
   "source": [
    "def widgets_wrapper():\n",
    "    segment_widget = iw.Dropdown(options=np.arange(cage_verts.shape[0]))\n",
    "    translate_widget = {i:iw.FloatSlider(min=-1, max=1, value=0) \n",
    "                        for i in 'xyz'}\n",
    "    #rotate_widget = {a:iw.FloatSlider(min=-90, max=90, value=0, step=1) for a in 'αβγ'}\n",
    "\n",
    "    def update_seg(*args):\n",
    "        (translate_widget['x'].value,translate_widget['y'].value,\n",
    "        translate_widget['z'].value) = pos_f_saver[segment_widget.value]\n",
    "    segment_widget.observe(update_seg, 'value')\n",
    "    widgets_dict = dict(s=segment_widget)\n",
    "    widgets_dict.update(translate_widget)\n",
    "    #widgets_dict.update(rotate_widget)\n",
    "    return widgets_dict"
   ]
  },
  {
   "cell_type": "markdown",
   "id": "b0c38d63-b3e5-4de6-8dfd-372f1172b7cc",
   "metadata": {},
   "source": [
    "# Find the triangle in which a vertex is."
   ]
  },
  {
   "cell_type": "code",
   "execution_count": 51,
   "id": "8881931a-c9dd-41ee-bdd9-2a6370ae0c0f",
   "metadata": {},
   "outputs": [],
   "source": [
    "def mybarycentric(p, a, b, c): # solve barycentric weight of a point\n",
    "    v0=b-a\n",
    "    v1=c-a\n",
    "    v2=p-a\n",
    "    d00=np.dot(v0,v0)\n",
    "    d01=np.dot(v0,v1)\n",
    "    d11=np.dot(v1,v1)\n",
    "    d20=np.dot(v2,v0)\n",
    "    d21=np.dot(v2,v1)\n",
    "    denom=d00*d11-d01*d01\n",
    "    v=(d11*d20-d01*d21)/denom\n",
    "    w=(d00*d21-d01*d20)/denom\n",
    "    u=1.0-v-w\n",
    "    return np.array([u,v,w])\n",
    "\n",
    "def find_barycentric_triangle(obj_verts,tri_verts,tri_faces):\n",
    "    index=np.zeros(obj_verts.shape[0],dtype=\"int\")\n",
    "    weight=np.zeros((obj_verts.shape[0],3))\n",
    "    for i in range(obj_verts.shape[0]):\n",
    "        for j in range(tri_faces.shape[0]):\n",
    "            res=mybarycentric(obj_verts[i][:2],tri_verts[tri_faces[j,0]][:2],tri_verts[tri_faces[j,1]][:2],tri_verts[tri_faces[j,2]][:2])\n",
    "            if res[0]>=0 and res[1]>=0 and res[2]>=0:\n",
    "                index[i]=j\n",
    "                weight[i]=res\n",
    "                break\n",
    "    return index,weight\n",
    "if triangulation_methods>=2:\n",
    "    index,barycentric_weight=find_barycentric_triangle(v,tri_verts,tri_faces)\n"
   ]
  },
  {
   "cell_type": "markdown",
   "id": "a89b2773-4b4f-4ce8-b09c-5f0f9f8d7540",
   "metadata": {},
   "source": [
    "# Find new free vertices and constraint vertices.\n",
    "\n",
    "If the triangulation add some points on the boundary(cage), then they have to be contraints."
   ]
  },
  {
   "cell_type": "code",
   "execution_count": 52,
   "id": "e8f199fa-d7b4-4829-8321-2233d4ab07dd",
   "metadata": {},
   "outputs": [],
   "source": [
    "def find_new_free_vertices(tri_verts,tri_faces,cage_verts,segment): #in random sample point method, there might be new points on boundary who cannot be free\n",
    "    index=[] # free index in tri_verts\n",
    "    nonfreeinedge=[] # \n",
    "    nonfreeedgeweight=[]\n",
    "    for i in range(tri_verts.shape[0]):\n",
    "        flag=False\n",
    "        for j in segment:\n",
    "            if np.allclose(tri_verts[i],cage_verts[j[0]]):\n",
    "                flag=True\n",
    "                nonfreeinedge.append(j)\n",
    "                nonfreeedgeweight.append([1,0])\n",
    "                break\n",
    "            if np.allclose(tri_verts[i],cage_verts[j[1]]):\n",
    "                flag=True\n",
    "                nonfreeinedge.append(j)\n",
    "                nonfreeedgeweight.append([0,1])\n",
    "                break\n",
    "            e1=cage_verts[j[0]]-cage_verts[j[1]]\n",
    "            e2=tri_verts[i]-cage_verts[j[1]]\n",
    "            norm1=np.linalg.norm(e1)\n",
    "            norm2=np.linalg.norm(e2)\n",
    "            cos_value=np.dot(e1,e2)/(norm1*norm2)\n",
    "            length=np.dot(e1,e2)/(norm1)\n",
    "            if np.allclose(cos_value,1) and length>0 and length<norm1:\n",
    "                nonfreeinedge.append(j)\n",
    "                nonfreeedgeweight.append([length,1-length])\n",
    "                flag=True\n",
    "                break\n",
    "        if flag==False:\n",
    "            index.append(i)\n",
    "    return index,nonfreeinedge,nonfreeedgeweight\n",
    "\n",
    "if triangulation_methods>=2:\n",
    "    free_index_tri,nonfreeinedge,nonfreeedgeweight=find_new_free_vertices(tri_verts,tri_faces,cage_verts,seg)\n",
    "else:\n",
    "    free_index_tri=[i for i in range(cage_verts.shape[0],tri_verts.shape[0])]\n",
    "    nonfreeinedge=seg\n",
    "    nonfreeedgeweight=np.ones((cage_verts.shape[0],2))\n",
    "    nonfreeedgeweight[:,1]=0"
   ]
  },
  {
   "cell_type": "markdown",
   "id": "147bd149-2ace-4bc5-902a-9862c6f87310",
   "metadata": {},
   "source": [
    "# Solve every interior vertex's barycentric position. \n",
    "If the interior vertex is already on the trangular corner of cage, then no barycentric is needed to approximate it."
   ]
  },
  {
   "cell_type": "code",
   "execution_count": 53,
   "id": "7c00b41a-264d-4a4e-977b-60723c0e889e",
   "metadata": {},
   "outputs": [],
   "source": [
    "def valuebybarycentric(weights,value):\n",
    "    return weights@value\n",
    "\n",
    "def cagesolver_2d(tri_verts,tri_faces,cage_verts,obj_verts,free_indices):\n",
    "    inverse_mask=np.ones(tri_verts.shape[0],dtype=bool)\n",
    "    inverse_mask[free_indices]=False\n",
    "    weights_res=np.zeros((obj_verts.shape[0],cage_verts.shape[0]))\n",
    "    mass_mat=igl.massmatrix(tri_verts,tri_faces)\n",
    "    M=mass_mat\n",
    "    cot_mat=igl.cotmatrix(tri_verts,tri_faces)\n",
    "    L=inv(M)@cot_mat\n",
    "    Lff=L[free_indices,:][:,free_indices]\n",
    "    Lfc=L[free_indices,:][:,inverse_mask]\n",
    "    xc=np.zeros((inverse_mask.sum(),cage_verts.shape[0]))\n",
    "    xc[:cage_verts.shape[0],:]=np.eye(cage_verts.shape[0])\n",
    "    for i in range(cage_verts.shape[0],inverse_mask.sum()):\n",
    "        xc[i,:]=valuebybarycentric(nonfreeedgeweight[i],xc[nonfreeinedge[i]])\n",
    "    free_result=spsolve(Lff,-Lfc@xc) # result weight is for any cage points not on boundary\n",
    "    if triangulation_methods<=1:\n",
    "        return free_result\n",
    "        \n",
    "    result2=np.zeros((tri_verts.shape[0],cage_verts.shape[0]))\n",
    "    result2[inverse_mask]=xc\n",
    "    result2[free_indices]=free_result\n",
    "    \n",
    "\n",
    "    for i in range(obj_verts.shape[0]):\n",
    "        i_in_face=index[i]\n",
    "        weights_res[i]=valuebybarycentric(barycentric_weight[i],result2[tri_faces[i_in_face]])\n",
    "    \n",
    "    return weights_res\n",
    "    \n",
    "def cage_deformer(tri_verts):\n",
    "    res=valuebybarycentric(weights,tri_verts)\n",
    "    return res\n",
    "pos_f.deformer=cage_deformer"
   ]
  },
  {
   "cell_type": "code",
   "execution_count": 54,
   "id": "7b28120a-5bbb-4277-a146-c79b22d5221e",
   "metadata": {},
   "outputs": [],
   "source": [
    "weights=cagesolver_2d(tri_verts,tri_faces,cage_verts,v,free_index_tri)\n",
    "#print(weights.sum(axis=1))"
   ]
  },
  {
   "cell_type": "code",
   "execution_count": 55,
   "id": "728cd5c3-7063-4de2-ba53-11f79befa327",
   "metadata": {},
   "outputs": [
    {
     "data": {
      "application/vnd.jupyter.widget-view+json": {
       "model_id": "d368d5d7dfb448b0953cbf021f45627a",
       "version_major": 2,
       "version_minor": 0
      },
      "text/plain": [
       "Renderer(camera=PerspectiveCamera(children=(DirectionalLight(color='white', intensity=0.6, position=(0.4306930…"
      ]
     },
     "metadata": {},
     "output_type": "display_data"
    },
    {
     "data": {
      "application/vnd.jupyter.widget-view+json": {
       "model_id": "b0970612504c4422a5c7e9d83ea4d12f",
       "version_major": 2,
       "version_minor": 0
      },
      "text/plain": [
       "interactive(children=(Dropdown(description='s', options=(0, 1, 2, 3, 4, 5, 6, 7, 8, 9, 10, 11, 12, 13, 14, 15,…"
      ]
     },
     "metadata": {},
     "output_type": "display_data"
    }
   ],
   "source": [
    "## Widget UI\n",
    "if interactive==True:\n",
    "    p = mp.plot(v, f, c=weights[:,0])\n",
    "\n",
    "    lines_obj=p.add_lines(handle_vertex_positions,np.vstack((handle_vertex_positions[1:],handle_vertex_positions[0])))\n",
    "\n",
    "    iw.interact(pos_f, **widgets_wrapper())"
   ]
  },
  {
   "cell_type": "code",
   "execution_count": null,
   "id": "2ce30117-c112-4f6c-97a0-4edde194ae6a",
   "metadata": {},
   "outputs": [],
   "source": []
  }
 ],
 "metadata": {
  "kernelspec": {
   "display_name": "Python 3 (ipykernel)",
   "language": "python",
   "name": "python3"
  },
  "language_info": {
   "codemirror_mode": {
    "name": "ipython",
    "version": 3
   },
   "file_extension": ".py",
   "mimetype": "text/x-python",
   "name": "python",
   "nbconvert_exporter": "python",
   "pygments_lexer": "ipython3",
   "version": "3.10.14"
  }
 },
 "nbformat": 4,
 "nbformat_minor": 5
}
