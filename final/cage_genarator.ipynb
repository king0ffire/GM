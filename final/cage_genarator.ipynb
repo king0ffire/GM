{
 "cells": [
  {
   "cell_type": "code",
   "execution_count": 1,
   "id": "c0422be0-767f-44aa-a5a0-942b05d35d97",
   "metadata": {},
   "outputs": [],
   "source": [
    "import numpy as np\n",
    "import igl\n",
    "import meshplot as mp\n",
    "from scipy.spatial.transform import Rotation\n",
    "import ipywidgets as iw\n",
    "with np.load('data/octa_sphere_5.npz') as npl:\n",
    "    v_s, f_s = npl['v'], npl['f']\n",
    "\n",
    "filename=\"woody-hi\"\n",
    "v, f = igl.read_triangle_mesh(f'data/{filename}.off')\n",
    "segments_recording = np.zeros(len(v), dtype=int)\n",
    "value=[]"
   ]
  },
  {
   "cell_type": "code",
   "execution_count": 2,
   "id": "45349f8c-25c2-4a89-8077-a12ddc5d8c27",
   "metadata": {},
   "outputs": [],
   "source": [
    "v -= v.min(axis=0)\n",
    "v /= v.max()"
   ]
  },
  {
   "cell_type": "code",
   "execution_count": 3,
   "id": "6db5f118-63fd-4cc0-aa64-24aeb3f313db",
   "metadata": {},
   "outputs": [
    {
     "data": {
      "application/vnd.jupyter.widget-view+json": {
       "model_id": "b7025c6df0cd4825873cc7a0e583b438",
       "version_major": 2,
       "version_minor": 0
      },
      "text/plain": [
       "interactive(children=(ToggleButtons(description='Segment', options=(1, '+'), value=1), Output()), _dom_classes…"
      ]
     },
     "metadata": {},
     "output_type": "display_data"
    },
    {
     "data": {
      "application/vnd.jupyter.widget-view+json": {
       "model_id": "07b90b1a7ded4fb0a7d5ef79260cf574",
       "version_major": 2,
       "version_minor": 0
      },
      "text/plain": [
       "HBox(children=(Button(description='Paint!', style=ButtonStyle()), Button(description='Clear!', style=ButtonSty…"
      ]
     },
     "metadata": {},
     "output_type": "display_data"
    },
    {
     "data": {
      "application/vnd.jupyter.widget-view+json": {
       "model_id": "1500f7826d8842b486cfc71a769c46e2",
       "version_major": 2,
       "version_minor": 0
      },
      "text/plain": [
       "Renderer(camera=PerspectiveCamera(children=(DirectionalLight(color='white', intensity=0.6, position=(0.4306930…"
      ]
     },
     "metadata": {},
     "output_type": "display_data"
    },
    {
     "data": {
      "application/vnd.jupyter.widget-view+json": {
       "model_id": "37d4057810c14aa29bbd4e8a61ce5c57",
       "version_major": 2,
       "version_minor": 0
      },
      "text/plain": [
       "interactive(children=(FloatSlider(value=0.01, description='radius', max=0.1, min=0.01, step=0.01), FloatSlider…"
      ]
     },
     "metadata": {},
     "output_type": "display_data"
    },
    {
     "data": {
      "text/plain": [
       "<function __main__.sf(radius, x, y, z)>"
      ]
     },
     "execution_count": 3,
     "metadata": {},
     "output_type": "execute_result"
    }
   ],
   "source": [
    "tb = iw.ToggleButtons(description='Segment', options=[1,'+'])\n",
    "@mp.interact(x=tb)\n",
    "def s_but(x):\n",
    "    if x == '+':\n",
    "        tb.options = list(range(1,len(tb.options)+1)) + ['+']\n",
    "        tb.value = len(tb.options) - 1\n",
    "    else:\n",
    "        tb.current = x\n",
    "\n",
    "button = iw.Button(description=\"Paint!\")\n",
    "clear_button = iw.Button(description=\"Clear!\")\n",
    "\n",
    "# Set Callback\n",
    "def paint_clicked(b):\n",
    "    slicer = np.where(np.linalg.norm(v - sf.coord[1:],axis=1) < sf.coord[0])[0]\n",
    "    value.append(sf.coord[1:])\n",
    "    segments_recording[slicer] = tb.current\n",
    "    paint_ui.update_object(oid=0, colors=segments_recording)\n",
    "    paint_ui.add_points(np.array(sf.coord[1:])[None,:],shading={\"point_size\": 0.3})\n",
    "def clear_clicked(b):\n",
    "    value=[]\n",
    "    segments_recording[segments_recording == tb.current] = 0\n",
    "    paint_ui.update_object(oid=0, colors=segments_recording)\n",
    "button.on_click(paint_clicked)\n",
    "clear_button.on_click(clear_clicked)\n",
    "\n",
    "# Display Buttons\n",
    "display(iw.HBox([button, clear_button]))\n",
    "\n",
    "# Meshplot\n",
    "paint_ui = mp.plot(v,f,c=segments_recording)\n",
    "paint_ui.add_mesh(v_s*0.1, f_s,shading={\"flat\" : False},c=np.array([1,0,0]))\n",
    "def sf(radius,x,y,z):\n",
    "    paint_ui.update_object(oid = 1, vertices = v_s*radius + np.array([x,y,z]))\n",
    "    sf.coord = [radius,x,y,z]\n",
    "mp.interact(sf, \n",
    "            radius = iw.FloatSlider(min=0.01, max=0.1, value=0.01,step=0.01),\n",
    "            x = iw.FloatSlider(min=-0.1, max=1, value=0,step=0.01),\n",
    "            y = iw.FloatSlider(min=-0.1, max=1.5, value=0,step=0.01),\n",
    "            z = iw.FloatSlider(min=-0.1, max=1, value=0,step=0.01))"
   ]
  },
  {
   "cell_type": "code",
   "execution_count": 6,
   "id": "b7d12c34-00d2-402a-843e-928fd42a9d34",
   "metadata": {},
   "outputs": [
    {
     "data": {
      "text/plain": [
       "[[0.20000000000000004, 0.0, 0.0],\n",
       " [0.28, -0.04000000000000001, 0.0],\n",
       " [0.39, -0.010000000000000009, 0.0],\n",
       " [0.44000000000000006, 0.21, 0.0],\n",
       " [0.52, 0.0, 0.0],\n",
       " [0.62, -0.03, 0.0],\n",
       " [0.74, 0.009999999999999995, 0.0],\n",
       " [0.75, 0.16, 0.0],\n",
       " [0.65, 0.49, 0.0],\n",
       " [0.8900000000000001, 0.49, 0.0],\n",
       " [0.8900000000000001, 0.7200000000000002, 0.0],\n",
       " [0.62, 0.73, 0.0],\n",
       " [0.5800000000000001, 0.9300000000000003, 0.0],\n",
       " [0.41000000000000003, 1.0, 0.0],\n",
       " [0.22, 0.9400000000000001, 0.0],\n",
       " [0.19000000000000003, 0.81, 0.0],\n",
       " [0.26, 0.73, 0.0],\n",
       " [-0.03, 0.73, 0.0],\n",
       " [-0.03, 0.4800000000000001, 0.0],\n",
       " [0.23, 0.4800000000000001, 0.0],\n",
       " [0.13000000000000003, 0.12, 0.0]]"
      ]
     },
     "execution_count": 6,
     "metadata": {},
     "output_type": "execute_result"
    }
   ],
   "source": [
    "value"
   ]
  },
  {
   "cell_type": "code",
   "execution_count": 8,
   "id": "6ef41ce6-2ff6-4a27-966a-3ba80f691d38",
   "metadata": {},
   "outputs": [
    {
     "data": {
      "text/plain": [
       "[0.41000000000000003, 1.1, 0.0]"
      ]
     },
     "execution_count": 8,
     "metadata": {},
     "output_type": "execute_result"
    }
   ],
   "source": [
    "value[13][1]=1.1\n",
    "value[13]"
   ]
  },
  {
   "cell_type": "code",
   "execution_count": 10,
   "id": "48b99ea2-f481-4473-a279-f4fd81f25bff",
   "metadata": {},
   "outputs": [],
   "source": [
    "temp=np.array(value)\n",
    "np.save(f'data/{filename}.cage.npy', temp)"
   ]
  },
  {
   "cell_type": "code",
   "execution_count": null,
   "id": "a21eccbf-e837-4ac9-96af-e100ba1a333a",
   "metadata": {},
   "outputs": [],
   "source": []
  }
 ],
 "metadata": {
  "kernelspec": {
   "display_name": "Python 3 (ipykernel)",
   "language": "python",
   "name": "python3"
  },
  "language_info": {
   "codemirror_mode": {
    "name": "ipython",
    "version": 3
   },
   "file_extension": ".py",
   "mimetype": "text/x-python",
   "name": "python",
   "nbconvert_exporter": "python",
   "pygments_lexer": "ipython3",
   "version": "3.10.14"
  }
 },
 "nbformat": 4,
 "nbformat_minor": 5
}
