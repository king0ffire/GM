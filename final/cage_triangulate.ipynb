{
 "cells": [
  {
   "cell_type": "code",
   "execution_count": 32,
   "id": "af7c8595-ab97-4447-bc65-661930f18188",
   "metadata": {},
   "outputs": [
    {
     "name": "stdout",
     "output_type": "stream",
     "text": [
      "[[ 0.2   0.    0.  ]\n",
      " [ 0.28 -0.04  0.  ]\n",
      " [ 0.39 -0.01  0.  ]\n",
      " [ 0.44  0.21  0.  ]\n",
      " [ 0.52  0.    0.  ]\n",
      " [ 0.62 -0.03  0.  ]\n",
      " [ 0.74  0.01  0.  ]\n",
      " [ 0.75  0.16  0.  ]\n",
      " [ 0.65  0.49  0.  ]\n",
      " [ 0.89  0.49  0.  ]\n",
      " [ 0.89  0.72  0.  ]\n",
      " [ 0.62  0.73  0.  ]\n",
      " [ 0.58  0.93  0.  ]\n",
      " [ 0.41  1.1   0.  ]\n",
      " [ 0.22  0.94  0.  ]\n",
      " [ 0.19  0.81  0.  ]\n",
      " [ 0.26  0.73  0.  ]\n",
      " [-0.03  0.73  0.  ]\n",
      " [-0.03  0.48  0.  ]\n",
      " [ 0.23  0.48  0.  ]\n",
      " [ 0.13  0.12  0.  ]]\n"
     ]
    },
    {
     "data": {
      "application/vnd.jupyter.widget-view+json": {
       "model_id": "f36e5d9ba56c4842956fb671e4e64e47",
       "version_major": 2,
       "version_minor": 0
      },
      "text/plain": [
       "Renderer(camera=PerspectiveCamera(children=(DirectionalLight(color='white', intensity=0.6, position=(0.4306930…"
      ]
     },
     "metadata": {},
     "output_type": "display_data"
    },
    {
     "data": {
      "text/plain": [
       "1"
      ]
     },
     "execution_count": 32,
     "metadata": {},
     "output_type": "execute_result"
    }
   ],
   "source": [
    "import numpy as np\n",
    "import igl\n",
    "import meshplot as mp\n",
    "from scipy.spatial.transform import Rotation\n",
    "import ipywidgets as iw\n",
    "import time\n",
    "from scipy.sparse import csc_matrix,diags\n",
    "from scipy.sparse.linalg import spsolve,inv\n",
    "from scipy.linalg import det\n",
    "from scipy.spatial import Delaunay\n",
    "from IPython.display import display, HTML,IFrame\n",
    "\n",
    "\n",
    "interactive = True\n",
    "use_cholesky = True\n",
    "filename = 'woody-hi'\n",
    "html=False\n",
    "v, f = igl.read_triangle_mesh(f'data/{filename}.off')\n",
    "labels = np.load(f'data/{filename}.label.npy').astype(int)\n",
    "v -= v.min(axis=0)\n",
    "v /= v.max()\n",
    "\n",
    "def cage_triangulate(cage):\n",
    "    temp=Delaunay(cage)\n",
    "    v=temp.points.copy()\n",
    "    f=temp.simplices.copy()\n",
    "    for i in range(0):\n",
    "        v=false_barycentric_subdivision(v,f)\n",
    "    return v,f\n",
    "\n",
    "\n",
    "\n",
    "cage = np.load(f'data/{filename}.cage.npy')\n",
    "print(cage)\n",
    "cage_v, cage_f= cage_triangulate(cage[:,:2])\n",
    "zeros = np.zeros((cage_v.shape[0], 1))\n",
    "cage_v=np.hstack((cage_v, zeros))\n",
    "edges=igl.edges(cage_f)\n",
    "p=mp.plot(v,f)\n",
    "p.add_lines(cage_v[edges[:,0].flatten()],cage_v[edges[:,1].flatten()])"
   ]
  },
  {
   "cell_type": "code",
   "execution_count": 31,
   "id": "981cfee6-b28d-46cc-a819-c4bf1599f1dd",
   "metadata": {},
   "outputs": [
    {
     "data": {
      "text/plain": [
       "True"
      ]
     },
     "execution_count": 31,
     "metadata": {},
     "output_type": "execute_result"
    }
   ],
   "source": [
    "igl.write_obj(\"data/output_mesh.obj\", cage_v, cage_f)"
   ]
  },
  {
   "cell_type": "code",
   "execution_count": 58,
   "id": "21974789-3fdf-4c2b-8d3d-7851f5ce4d3a",
   "metadata": {},
   "outputs": [
    {
     "data": {
      "text/plain": [
       "array([[18, 19, 17],\n",
       "       [20,  3, 19],\n",
       "       [ 0,  3, 20],\n",
       "       [19, 16, 17],\n",
       "       [ 2,  0,  1],\n",
       "       [ 0,  2,  3],\n",
       "       [10,  8,  9],\n",
       "       [11,  8, 10],\n",
       "       [ 3,  8, 19],\n",
       "       [ 8, 16, 19],\n",
       "       [16,  8, 11],\n",
       "       [ 7,  5,  6],\n",
       "       [ 7,  8,  3],\n",
       "       [12, 16, 11],\n",
       "       [14, 12, 13],\n",
       "       [16, 12, 14],\n",
       "       [ 7,  4,  5],\n",
       "       [ 4,  7,  3]])"
      ]
     },
     "execution_count": 58,
     "metadata": {},
     "output_type": "execute_result"
    }
   ],
   "source": [
    "cage_f"
   ]
  },
  {
   "cell_type": "code",
   "execution_count": 64,
   "id": "e9c243d6-84fb-4bff-bc4e-3d212863fcd9",
   "metadata": {},
   "outputs": [],
   "source": [
    "cage_v,cage_f=igl.read_triangle_mesh(\"data/woody-hi.cage-refined.obj\")"
   ]
  },
  {
   "cell_type": "code",
   "execution_count": 65,
   "id": "dfc1bdae-1297-4017-8c42-3bf359fe2e29",
   "metadata": {},
   "outputs": [
    {
     "data": {
      "application/vnd.jupyter.widget-view+json": {
       "model_id": "b0986c9ad99f4cdabd750f5cff949ca4",
       "version_major": 2,
       "version_minor": 0
      },
      "text/plain": [
       "Renderer(camera=PerspectiveCamera(children=(DirectionalLight(color='white', intensity=0.6, position=(0.4306930…"
      ]
     },
     "metadata": {},
     "output_type": "display_data"
    },
    {
     "data": {
      "text/plain": [
       "1"
      ]
     },
     "execution_count": 65,
     "metadata": {},
     "output_type": "execute_result"
    }
   ],
   "source": [
    "for i in range(3):\n",
    "    cage_v,cage_f=igl.false_barycentric_subdivision(cage_v,cage_f)\n",
    "edges=igl.edges(cage_f)\n",
    "p=mp.plot(v,f)\n",
    "p.add_lines(cage_v[edges[:,0].flatten()],cage_v[edges[:,1].flatten()])"
   ]
  },
  {
   "cell_type": "code",
   "execution_count": 66,
   "id": "1fabd4d6-f739-4f0b-862c-3f3b363bf607",
   "metadata": {},
   "outputs": [
    {
     "data": {
      "text/plain": [
       "True"
      ]
     },
     "execution_count": 66,
     "metadata": {},
     "output_type": "execute_result"
    }
   ],
   "source": [
    "igl.write_obj(\"data/woody-hi.cage-refined.obj\", cage_v, cage_f)"
   ]
  },
  {
   "cell_type": "code",
   "execution_count": null,
   "id": "45ef54be-96f9-4786-9777-6f1f2a326dbd",
   "metadata": {},
   "outputs": [],
   "source": []
  }
 ],
 "metadata": {
  "kernelspec": {
   "display_name": "Python 3 (ipykernel)",
   "language": "python",
   "name": "python3"
  },
  "language_info": {
   "codemirror_mode": {
    "name": "ipython",
    "version": 3
   },
   "file_extension": ".py",
   "mimetype": "text/x-python",
   "name": "python",
   "nbconvert_exporter": "python",
   "pygments_lexer": "ipython3",
   "version": "3.10.14"
  }
 },
 "nbformat": 4,
 "nbformat_minor": 5
}
