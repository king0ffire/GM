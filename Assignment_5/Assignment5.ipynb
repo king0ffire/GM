{
 "cells": [
  {
   "cell_type": "code",
   "execution_count": 1,
   "id": "local-investor",
   "metadata": {},
   "outputs": [],
   "source": [
    "import numpy as np\n",
    "import igl\n",
    "import meshplot as mp\n",
    "from scipy.spatial.transform import Rotation\n",
    "import ipywidgets as iw\n",
    "import time\n",
    "from scipy.sparse import csc_matrix,diags\n",
    "from scipy.sparse.linalg import spsolve,inv\n",
    "from scipy.linalg import det\n",
    "from IPython.display import display, HTML,IFrame\n",
    "\n",
    "interactive = True\n",
    "use_cholesky = True\n",
    "filename = 'woody-hi'\n",
    "html=True"
   ]
  },
  {
   "cell_type": "code",
   "execution_count": 2,
   "id": "4afe9993-58cc-4aa9-8b0d-cec71deae450",
   "metadata": {},
   "outputs": [],
   "source": [
    "if interactive:\n",
    "    html=False\n",
    "if html:\n",
    "    mp.website()\n",
    "file_counter = 0\n",
    "def htmlit(plot,method=1):\n",
    "    if method==1:\n",
    "        global file_counter\n",
    "        unique_filename = f\"./htmls/plot_{filename}{file_counter}.html\"\n",
    "        file_counter += 1\n",
    "        plot.save(unique_filename)\n",
    "        return unique_filename\n",
    "    else:\n",
    "        html = plot.to_html(imports=True, html_frame=False)\n",
    "        return HTML(html)"
   ]
  },
  {
   "cell_type": "code",
   "execution_count": 3,
   "id": "pharmaceutical-transsexual",
   "metadata": {},
   "outputs": [],
   "source": [
    "v, f = igl.read_triangle_mesh(f'data/{filename}.off')\n",
    "labels = np.load(f'data/{filename}.label.npy').astype(int)\n",
    "v -= v.min(axis=0)\n",
    "v /= v.max()"
   ]
  },
  {
   "cell_type": "code",
   "execution_count": 4,
   "id": "tight-course",
   "metadata": {},
   "outputs": [],
   "source": [
    "handle_vertex_positions = v.copy()\n",
    "pos_f_saver = np.zeros((labels.max() + 1, 6))\n",
    "def pos_f(s,x,y,z, α, β, γ):\n",
    "    slices = (labels==s)\n",
    "    r = Rotation.from_euler('xyz', [α, β, γ], degrees=True)\n",
    "    v_slice = v[slices] + np.array([[x,y,z]])\n",
    "    center = v_slice.mean(axis=0)\n",
    "    handle_vertex_positions[slices] = r.apply(v_slice - center) + center\n",
    "    pos_f_saver[s - 1] = [x,y,z,α,β,γ]\n",
    "    t0 = time.time()\n",
    "    v_deformed = pos_f.deformer(handle_vertex_positions)\n",
    "    v_deformed = add_detail(v_deformed)\n",
    "    p.update_object(vertices = v_deformed)\n",
    "    t1 = time.time()\n",
    "    print('FPS', 1/(t1 - t0))\n",
    "#pos_f.deformer = lambda x:x"
   ]
  },
  {
   "cell_type": "code",
   "execution_count": 5,
   "id": "stone-element",
   "metadata": {},
   "outputs": [],
   "source": [
    "def widgets_wrapper():\n",
    "    segment_widget = iw.Dropdown(options=np.arange(labels.max()) + 1)\n",
    "    translate_widget = {i:iw.FloatSlider(min=-1, max=1, value=0) \n",
    "                        for i in 'xyz'}\n",
    "    rotate_widget = {a:iw.FloatSlider(min=-90, max=90, value=0, step=1) \n",
    "                     for a in 'αβγ'}\n",
    "\n",
    "    def update_seg(*args):\n",
    "        (translate_widget['x'].value,translate_widget['y'].value,\n",
    "        translate_widget['z'].value,\n",
    "        rotate_widget['α'].value,rotate_widget['β'].value,\n",
    "        rotate_widget['γ'].value) = pos_f_saver[segment_widget.value]\n",
    "    segment_widget.observe(update_seg, 'value')\n",
    "    widgets_dict = dict(s=segment_widget)\n",
    "    widgets_dict.update(translate_widget)\n",
    "    widgets_dict.update(rotate_widget)\n",
    "    return widgets_dict"
   ]
  },
  {
   "cell_type": "code",
   "execution_count": 6,
   "id": "divine-variety",
   "metadata": {},
   "outputs": [
    {
     "name": "stdout",
     "output_type": "stream",
     "text": [
      "[ 0.00322185 -0.00874238  0.00094199 ... -0.00584843  0.00036549\n",
      "  0.00467662]\n",
      "[-0.04017827 -0.04029144 -0.03434543 ...  0.01803664  0.01211022\n",
      " -0.03438885]\n"
     ]
    }
   ],
   "source": [
    "slicesconstraint = np.where(labels>0)[0]\n",
    "slicesfree=np.where(labels==0)[0]\n",
    "mass_mat=igl.massmatrix(v,f,igl.MASSMATRIX_TYPE_BARYCENTRIC)\n",
    "M=mass_mat\n",
    "cot_mat=csc_matrix(igl.cotmatrix(v,f))\n",
    "A=cot_mat@inv(M)@cot_mat\n",
    "#b=np.zeros_like(target_pos)\n",
    "#b = csc_matrix((target_pos.shape[0], target_pos.shape[1]), dtype=np.float64)\n",
    "Aff=A[slicesfree,:][:,slicesfree]\n",
    "Afc=A[slicesfree,:][:,slicesconstraint]\n",
    "\n",
    "def position_deformer(target_pos):\n",
    "    b=-Afc@target_pos[slicesconstraint]\n",
    "    x = spsolve(Aff,b)\n",
    "    new=target_pos.copy()\n",
    "    new[slicesfree]=x\n",
    "    return new\n",
    "\n",
    "pos_f.deformer = position_deformer\n",
    "B_v=position_deformer(handle_vertex_positions)\n",
    "\n",
    "\n",
    "## Below for step 3\n",
    "d=v-B_v\n",
    "normal_B=igl.per_vertex_normals(B_v, f)\n",
    "#normal_B=normal_B/np.linalg.norm(normal_B,axis=1)[:,None]\n",
    "adjlist=igl.adjacency_list(f)\n",
    "x_i=np.zeros_like(normal_B) # v*3\n",
    "y_i=np.zeros_like(normal_B)\n",
    "longest_adj=np.zeros((v.shape[0]),dtype=int)\n",
    "for i in range(v.shape[0]):\n",
    "    edgelist=B_v[adjlist[i]]-B_v[i]\n",
    "    projectlist=edgelist-np.outer(np.dot(edgelist,normal_B[i]) , normal_B[i]) # the projected edges\n",
    "    longest_adj[i]=np.argmax(np.linalg.norm(projectlist,axis=1)) # the index inside a adjlist, usually 0-6\n",
    "    x_i[i]= projectlist[longest_adj[i]] # the longest one\n",
    "    x_i[i]=x_i[i]/np.linalg.norm(x_i[i])\n",
    "    y_i[i]=np.cross(x_i[i], normal_B[i])\n",
    "\n",
    "d_x=np.einsum('ij,ij->i', x_i, d)\n",
    "d_y=np.einsum('ij,ij->i', y_i, d)\n",
    "d_z=np.einsum('ij,ij->i', normal_B, d)\n",
    "\n",
    "print(d_x)\n",
    "print(d_y)\n",
    "def add_detail(B_new):\n",
    "    new_normals=igl.per_vertex_normals(B_new,f)\n",
    "    #new_normals=new_normals/np.linalg.norm(new_normals,axis=1)[:,None]\n",
    "    x_j=np.zeros_like(new_normals)\n",
    "    y_j=np.zeros_like(new_normals)\n",
    "    for i in range(v.shape[0]):\n",
    "        x_j[i]=B_new[adjlist[i][longest_adj[i]]]-B_new[i]\n",
    "        x_j[i]=x_j[i]-np.dot(x_j[i],new_normals[i])*new_normals[i]\n",
    "        x_j[i]=x_j[i]/np.linalg.norm(x_j[i])\n",
    "        y_j[i]=np.cross(x_j[i],new_normals[i])\n",
    "    new=B_new.copy()\n",
    "    offset=np.zeros_like(B_new)\n",
    "    offset+=d_x[:,None]*x_j\n",
    "    offset+=d_y[:,None]*y_j\n",
    "    offset+=d_z[:,None]*new_normals\n",
    "    new+=offset\n",
    "    return new"
   ]
  },
  {
   "cell_type": "code",
   "execution_count": 7,
   "id": "proprietary-prediction",
   "metadata": {},
   "outputs": [
    {
     "name": "stdout",
     "output_type": "stream",
     "text": [
      "Plot saved to file ./htmls/plot_cactus0.html.\n"
     ]
    },
    {
     "data": {
      "text/html": [
       "\n",
       "        <iframe\n",
       "            width=\"700\"\n",
       "            height=\"600\"\n",
       "            src=\"./htmls/plot_cactus0.html\"\n",
       "            frameborder=\"0\"\n",
       "            allowfullscreen\n",
       "            \n",
       "        ></iframe>\n",
       "        "
      ],
      "text/plain": [
       "<IPython.lib.display.IFrame at 0x7f3a7cc46590>"
      ]
     },
     "execution_count": 7,
     "metadata": {},
     "output_type": "execute_result"
    }
   ],
   "source": [
    "## result for step 1\n",
    "p = mp.plot(v, f, c=labels)\n",
    "if html:\n",
    "    html=htmlit(p)\n",
    "IFrame(src=html, width=700, height=600)"
   ]
  },
  {
   "cell_type": "code",
   "execution_count": 8,
   "id": "9ecfe51a-eb84-4093-a7a8-e52fc73970ad",
   "metadata": {},
   "outputs": [
    {
     "name": "stdout",
     "output_type": "stream",
     "text": [
      "Plot saved to file ./htmls/plot_cactus1.html.\n"
     ]
    },
    {
     "data": {
      "text/html": [
       "\n",
       "        <iframe\n",
       "            width=\"700\"\n",
       "            height=\"600\"\n",
       "            src=\"./htmls/plot_cactus1.html\"\n",
       "            frameborder=\"0\"\n",
       "            allowfullscreen\n",
       "            \n",
       "        ></iframe>\n",
       "        "
      ],
      "text/plain": [
       "<IPython.lib.display.IFrame at 0x7f3a7cc45240>"
      ]
     },
     "execution_count": 8,
     "metadata": {},
     "output_type": "execute_result"
    }
   ],
   "source": [
    "## result for step 1\n",
    "p = mp.plot(B_v, f, c=labels)\n",
    "if html:\n",
    "    html=htmlit(p)\n",
    "IFrame(src=html, width=700, height=600)"
   ]
  },
  {
   "cell_type": "code",
   "execution_count": 9,
   "id": "7d5cf998-4883-46cb-9527-eb1d367334ee",
   "metadata": {},
   "outputs": [],
   "source": [
    "from sksparse.cholmod import cholesky\n",
    "factor = cholesky(Aff)\n",
    "def Cholesky_deformer(target_pos):\n",
    "    b=-Afc@target_pos[slicesconstraint]\n",
    "    x = factor(b)\n",
    "    new=target_pos.copy()\n",
    "    new[slicesfree]=x\n",
    "    return new\n",
    "\n",
    "if use_cholesky:\n",
    "    pos_f.deformer=Cholesky_deformer"
   ]
  },
  {
   "cell_type": "code",
   "execution_count": 10,
   "id": "728cd5c3-7063-4de2-ba53-11f79befa327",
   "metadata": {},
   "outputs": [],
   "source": [
    "## Widget UI\n",
    "if interactive==True:\n",
    "    p = mp.plot(handle_vertex_positions, f, c=labels)\n",
    "    iw.interact(pos_f, **widgets_wrapper())"
   ]
  },
  {
   "cell_type": "code",
   "execution_count": 11,
   "id": "97bfc62a-b078-4377-87fb-6b4c9bbec828",
   "metadata": {},
   "outputs": [],
   "source": [
    "def manual_pos_f(verts, labels, s, x, y, z, α, β, γ):\n",
    "    slices = (labels==s)\n",
    "    r = Rotation.from_euler('xyz', [α, β, γ], degrees=True)\n",
    "    v_slice = v[slices] + np.array([[x,y,z]])\n",
    "    center = v_slice.mean(axis=0)\n",
    "    verts[slices] = r.apply(v_slice - center) + center\n",
    "    v_smoothed = pos_f.deformer(verts) # B'\n",
    "    v_deformed = add_detail(v_smoothed) # S'\n",
    "    return v_smoothed,v_deformed\n",
    "    \n",
    "if interactive==False:\n",
    "    c = np.load(f'data/{filename}.pos.npy')\n",
    "    V=v\n",
    "    #B,_=manual_pos_f(V,labels,0,0,0,0,0,0)\n",
    "    B_prime=V\n",
    "    for i in range(c.shape[0]):\n",
    "        B_prime,S_prime=manual_pos_f(V,labels,c[i,0].astype(int),c[i,1],c[i,2],c[i,3],c[i,4],c[i,5],c[i,6])\n",
    "    p1= mp.plot(B_prime, f, c=labels)\n",
    "    p2= mp.plot(S_prime, f, c=labels)"
   ]
  },
  {
   "cell_type": "code",
   "execution_count": 12,
   "id": "36164851-f398-409a-b72c-66083b3d91ee",
   "metadata": {},
   "outputs": [
    {
     "name": "stdout",
     "output_type": "stream",
     "text": [
      "Plot saved to file ./htmls/plot_cactus2.html.\n"
     ]
    },
    {
     "data": {
      "text/html": [
       "\n",
       "        <iframe\n",
       "            width=\"700\"\n",
       "            height=\"600\"\n",
       "            src=\"./htmls/plot_cactus2.html\"\n",
       "            frameborder=\"0\"\n",
       "            allowfullscreen\n",
       "            \n",
       "        ></iframe>\n",
       "        "
      ],
      "text/plain": [
       "<IPython.lib.display.IFrame at 0x7f3a7c94bd30>"
      ]
     },
     "execution_count": 12,
     "metadata": {},
     "output_type": "execute_result"
    }
   ],
   "source": [
    "if html and interactive==False:\n",
    "    html=htmlit(p1)\n",
    "IFrame(src=html, width=700, height=600)"
   ]
  },
  {
   "cell_type": "code",
   "execution_count": 13,
   "id": "d26790a0-9bf5-40c1-8f77-81495805fefd",
   "metadata": {},
   "outputs": [
    {
     "name": "stdout",
     "output_type": "stream",
     "text": [
      "Plot saved to file ./htmls/plot_cactus3.html.\n"
     ]
    },
    {
     "data": {
      "text/html": [
       "\n",
       "        <iframe\n",
       "            width=\"700\"\n",
       "            height=\"600\"\n",
       "            src=\"./htmls/plot_cactus3.html\"\n",
       "            frameborder=\"0\"\n",
       "            allowfullscreen\n",
       "            \n",
       "        ></iframe>\n",
       "        "
      ],
      "text/plain": [
       "<IPython.lib.display.IFrame at 0x7f3a7cc47790>"
      ]
     },
     "execution_count": 13,
     "metadata": {},
     "output_type": "execute_result"
    }
   ],
   "source": [
    "if html and interactive==False:\n",
    "    html=htmlit(p2)\n",
    "IFrame(src=html, width=700, height=600)"
   ]
  },
  {
   "cell_type": "code",
   "execution_count": null,
   "id": "ce44b2d0-f50f-45c8-be49-d0584a262b1d",
   "metadata": {},
   "outputs": [],
   "source": []
  }
 ],
 "metadata": {
  "kernelspec": {
   "display_name": "Python 3 (ipykernel)",
   "language": "python",
   "name": "python3"
  },
  "language_info": {
   "codemirror_mode": {
    "name": "ipython",
    "version": 3
   },
   "file_extension": ".py",
   "mimetype": "text/x-python",
   "name": "python",
   "nbconvert_exporter": "python",
   "pygments_lexer": "ipython3",
   "version": "3.10.14"
  }
 },
 "nbformat": 4,
 "nbformat_minor": 5
}
