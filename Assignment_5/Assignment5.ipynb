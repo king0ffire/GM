{
 "cells": [
  {
   "cell_type": "code",
   "execution_count": 1,
   "id": "local-investor",
   "metadata": {},
   "outputs": [],
   "source": [
    "import numpy as np\n",
    "import igl\n",
    "import meshplot as mp\n",
    "from scipy.spatial.transform import Rotation\n",
    "import ipywidgets as iw\n",
    "import time\n",
    "from scipy.sparse import csc_matrix,diags\n",
    "from scipy.sparse.linalg import spsolve,inv\n",
    "from scipy.linalg import det"
   ]
  },
  {
   "cell_type": "code",
   "execution_count": 2,
   "id": "pharmaceutical-transsexual",
   "metadata": {},
   "outputs": [],
   "source": [
    "v, f = igl.read_triangle_mesh('data/hand.off')\n",
    "labels = np.load('data/hand.label.npy').astype(int)\n",
    "#v, f = igl.read_triangle_mesh('data/woody-hi.off')\n",
    "#labels = np.load('data/woody-hi.label.npy').astype(int)\n",
    "v -= v.min(axis=0)\n",
    "v /= v.max()"
   ]
  },
  {
   "cell_type": "code",
   "execution_count": 3,
   "id": "tight-course",
   "metadata": {},
   "outputs": [],
   "source": [
    "handle_vertex_positions = v.copy()\n",
    "pos_f_saver = np.zeros((labels.max() + 1, 6))\n",
    "def pos_f(s,x,y,z, α, β, γ):\n",
    "    slices = (labels==s)\n",
    "    r = Rotation.from_euler('xyz', [α, β, γ], degrees=True)\n",
    "    v_slice = v[slices] + np.array([[x,y,z]])\n",
    "    center = v_slice.mean(axis=0)\n",
    "    handle_vertex_positions[slices] = r.apply(v_slice - center) + center\n",
    "    pos_f_saver[s - 1] = [x,y,z,α,β,γ]\n",
    "    t0 = time.time()\n",
    "    v_deformed = pos_f.deformer(handle_vertex_positions)\n",
    "    v_deformed = add_detail(v_deformed)\n",
    "    p.update_object(vertices = v_deformed)\n",
    "    t1 = time.time()\n",
    "    print('FPS', 1/(t1 - t0))\n",
    "#pos_f.deformer = lambda x:x"
   ]
  },
  {
   "cell_type": "code",
   "execution_count": 4,
   "id": "stone-element",
   "metadata": {},
   "outputs": [],
   "source": [
    "def widgets_wrapper():\n",
    "    segment_widget = iw.Dropdown(options=np.arange(labels.max()) + 1)\n",
    "    translate_widget = {i:iw.FloatSlider(min=-1, max=1, value=0) \n",
    "                        for i in 'xyz'}\n",
    "    rotate_widget = {a:iw.FloatSlider(min=-90, max=90, value=0, step=1) \n",
    "                     for a in 'αβγ'}\n",
    "\n",
    "    def update_seg(*args):\n",
    "        (translate_widget['x'].value,translate_widget['y'].value,\n",
    "        translate_widget['z'].value,\n",
    "        rotate_widget['α'].value,rotate_widget['β'].value,\n",
    "        rotate_widget['γ'].value) = pos_f_saver[segment_widget.value]\n",
    "    segment_widget.observe(update_seg, 'value')\n",
    "    widgets_dict = dict(s=segment_widget)\n",
    "    widgets_dict.update(translate_widget)\n",
    "    widgets_dict.update(rotate_widget)\n",
    "    return widgets_dict"
   ]
  },
  {
   "cell_type": "code",
   "execution_count": 5,
   "id": "divine-variety",
   "metadata": {},
   "outputs": [
    {
     "name": "stdout",
     "output_type": "stream",
     "text": [
      "[0. 0. 0. ... 0. 0. 0.]\n",
      "[0. 0. 0. ... 0. 0. 0.]\n"
     ]
    }
   ],
   "source": [
    "slicesconstraint = np.where(labels>0)[0]\n",
    "slicesfree=np.where(labels==0)[0]\n",
    "mass_mat=igl.massmatrix(v,f,igl.MASSMATRIX_TYPE_BARYCENTRIC)\n",
    "M=mass_mat\n",
    "cot_mat=csc_matrix(igl.cotmatrix(v,f))\n",
    "A=cot_mat@inv(M)@cot_mat\n",
    "#b=np.zeros_like(target_pos)\n",
    "#b = csc_matrix((target_pos.shape[0], target_pos.shape[1]), dtype=np.float64)\n",
    "Aff=A[slicesfree,:][:,slicesfree]\n",
    "Afc=A[slicesfree,:][:,slicesconstraint]\n",
    "\n",
    "def position_deformer(target_pos):\n",
    "    b=-Afc@target_pos[slicesconstraint]\n",
    "    x = spsolve(Aff,b)\n",
    "    new=target_pos.copy()\n",
    "    new[slicesfree]=x\n",
    "    return new\n",
    "\n",
    "pos_f.deformer = position_deformer\n",
    "B_v=position_deformer(handle_vertex_positions)\n",
    "\n",
    "\n",
    "## Below for step 3\n",
    "d=v-B_v\n",
    "normal_B=igl.per_vertex_normals(B_v, f)\n",
    "#normal_B=normal_B/np.linalg.norm(normal_B,axis=1)[:,None]\n",
    "adjlist=igl.adjacency_list(f)\n",
    "x_i=np.zeros_like(normal_B) # v*3\n",
    "y_i=np.zeros_like(normal_B)\n",
    "longest_adj=np.zeros((v.shape[0]),dtype=int)\n",
    "for i in range(v.shape[0]):\n",
    "    edgelist=B_v[adjlist[i]]-B_v[i]\n",
    "    projectlist=edgelist-np.outer(np.dot(edgelist,normal_B[i]) , normal_B[i]) # the projected edges\n",
    "    longest_adj[i]=np.argmax(np.linalg.norm(projectlist,axis=1)) # the index inside a adjlist, usually 0-6\n",
    "    x_i[i]= projectlist[longest_adj[i]] # the longest one\n",
    "    x_i[i]=x_i[i]/np.linalg.norm(x_i[i])\n",
    "    y_i[i]=np.cross(x_i[i], normal_B[i])\n",
    "\n",
    "d_x=np.einsum('ij,ij->i', x_i, d)\n",
    "d_y=np.einsum('ij,ij->i', y_i, d)\n",
    "d_z=np.einsum('ij,ij->i', normal_B, d)\n",
    "\n",
    "print(d_x)\n",
    "print(d_y)\n",
    "def add_detail(B_new):\n",
    "    new_normals=igl.per_vertex_normals(B_new,f)\n",
    "    #new_normals=new_normals/np.linalg.norm(new_normals,axis=1)[:,None]\n",
    "    x_j=np.zeros_like(new_normals)\n",
    "    y_j=np.zeros_like(new_normals)\n",
    "    for i in range(v.shape[0]):\n",
    "        x_j[i]=B_new[adjlist[i][longest_adj[i]]]-B_new[i]\n",
    "        x_j[i]=x_j[i]-np.dot(x_j[i],new_normals[i])*new_normals[i]\n",
    "        x_j[i]=x_j[i]/np.linalg.norm(x_j[i])\n",
    "        y_j[i]=np.cross(x_j[i],new_normals[i])\n",
    "    new=B_new.copy()\n",
    "    offset=np.zeros_like(B_new)\n",
    "    offset+=d_x[:,None]*x_j\n",
    "    offset+=d_y[:,None]*y_j\n",
    "    offset+=d_z[:,None]*new_normals\n",
    "    new+=offset\n",
    "    return new"
   ]
  },
  {
   "cell_type": "code",
   "execution_count": 6,
   "id": "proprietary-prediction",
   "metadata": {},
   "outputs": [
    {
     "data": {
      "application/vnd.jupyter.widget-view+json": {
       "model_id": "7a9b935e43a84f92b14acfae6baec842",
       "version_major": 2,
       "version_minor": 0
      },
      "text/plain": [
       "Renderer(camera=PerspectiveCamera(children=(DirectionalLight(color='white', intensity=0.6, position=(0.5, 0.19…"
      ]
     },
     "metadata": {},
     "output_type": "display_data"
    },
    {
     "data": {
      "application/vnd.jupyter.widget-view+json": {
       "model_id": "e473519896d546a1ba561d111a0bb31f",
       "version_major": 2,
       "version_minor": 0
      },
      "text/plain": [
       "Renderer(camera=PerspectiveCamera(children=(DirectionalLight(color='white', intensity=0.6, position=(0.5, 0.19…"
      ]
     },
     "metadata": {},
     "output_type": "display_data"
    }
   ],
   "source": [
    "## result for step 1\n",
    "p = mp.plot(v, f, c=labels)\n",
    "p = mp.plot(B_v, f, c=labels)"
   ]
  },
  {
   "cell_type": "code",
   "execution_count": 7,
   "id": "7d5cf998-4883-46cb-9527-eb1d367334ee",
   "metadata": {},
   "outputs": [],
   "source": [
    "def Cholesky_deformer():\n",
    "    None"
   ]
  },
  {
   "cell_type": "code",
   "execution_count": 8,
   "id": "728cd5c3-7063-4de2-ba53-11f79befa327",
   "metadata": {},
   "outputs": [
    {
     "data": {
      "application/vnd.jupyter.widget-view+json": {
       "model_id": "1d741303244e4fa5bada982dae8208da",
       "version_major": 2,
       "version_minor": 0
      },
      "text/plain": [
       "Renderer(camera=PerspectiveCamera(children=(DirectionalLight(color='white', intensity=0.6, position=(0.5, 0.19…"
      ]
     },
     "metadata": {},
     "output_type": "display_data"
    },
    {
     "data": {
      "application/vnd.jupyter.widget-view+json": {
       "model_id": "8456de79a905477a8a27cfc21df67636",
       "version_major": 2,
       "version_minor": 0
      },
      "text/plain": [
       "interactive(children=(Dropdown(description='s', options=(1, 2, 3, 4), value=1), FloatSlider(value=0.0, descrip…"
      ]
     },
     "metadata": {},
     "output_type": "display_data"
    },
    {
     "data": {
      "text/plain": [
       "<function __main__.pos_f(s, x, y, z, α, β, γ)>"
      ]
     },
     "execution_count": 8,
     "metadata": {},
     "output_type": "execute_result"
    }
   ],
   "source": [
    "## Widget UI\n",
    "p = mp.plot(handle_vertex_positions, f, c=labels)\n",
    "iw.interact(pos_f, **widgets_wrapper())"
   ]
  },
  {
   "cell_type": "code",
   "execution_count": null,
   "id": "c5c473de-1be2-494d-a3e9-38c312170cd0",
   "metadata": {},
   "outputs": [],
   "source": []
  }
 ],
 "metadata": {
  "kernelspec": {
   "display_name": "Python 3 (ipykernel)",
   "language": "python",
   "name": "python3"
  },
  "language_info": {
   "codemirror_mode": {
    "name": "ipython",
    "version": 3
   },
   "file_extension": ".py",
   "mimetype": "text/x-python",
   "name": "python",
   "nbconvert_exporter": "python",
   "pygments_lexer": "ipython3",
   "version": "3.10.14"
  }
 },
 "nbformat": 4,
 "nbformat_minor": 5
}
