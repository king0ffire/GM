{
 "cells": [
  {
   "cell_type": "markdown",
   "metadata": {},
   "source": [
    "# Assigment 4"
   ]
  },
  {
   "cell_type": "code",
   "execution_count": 1,
   "metadata": {},
   "outputs": [],
   "source": [
    "from IPython.display import display, HTML,IFrame\n",
    "import math\n",
    "import numpy as np\n",
    "import scipy.sparse as sp\n",
    "\n",
    "import igl\n",
    "import meshplot as mp\n",
    "\n",
    "from math import sqrt\n",
    "\n",
    "html=True\n",
    "if html:\n",
    "    mp.website()\n",
    "file_counter = 0\n",
    "def htmlit(plot,method=1):\n",
    "    if method==1:\n",
    "        global file_counter\n",
    "        unique_filename = f\"./htmls/plot_{file_counter}.html\"\n",
    "        file_counter += 1\n",
    "        plot.save(unique_filename)\n",
    "        return unique_filename\n",
    "    else:\n",
    "        html = plot.to_html(imports=True, html_frame=False)\n",
    "        return HTML(html)"
   ]
  },
  {
   "cell_type": "code",
   "execution_count": 2,
   "metadata": {},
   "outputs": [],
   "source": [
    "v, f = igl.read_triangle_mesh(\"data/irr4-cyl2.off\")\n",
    "tt, _ = igl.triangle_triangle_adjacency(f)\n",
    "\n",
    "c = np.loadtxt(\"data/irr4-cyl2.constraints\")\n",
    "cf = c[:, 0].astype(np.int64)\n",
    "c = c[:, 1:]"
   ]
  },
  {
   "cell_type": "code",
   "execution_count": 3,
   "metadata": {},
   "outputs": [],
   "source": [
    "def plot_mesh_field(V, F, R, constrain_faces):\n",
    "    # Highlight in red the constrained faces\n",
    "    col = np.ones_like(f)\n",
    "    col[constrain_faces, 1:] = 0\n",
    "    \n",
    "    # Scaling of the representative vectors\n",
    "    avg = igl.avg_edge_length(V, F)/2\n",
    "\n",
    "    #Plot from face barycenters\n",
    "    B = igl.barycenter(V, F)\n",
    "\n",
    "    p = mp.plot(V, F, c=col)\n",
    "    p.add_lines(B, B + R * avg)\n",
    "\n",
    "    return p"
   ]
  },
  {
   "cell_type": "markdown",
   "metadata": {},
   "source": [
    "# 1. Tangent vector fields for scalar field design\n"
   ]
  },
  {
   "cell_type": "code",
   "execution_count": 4,
   "metadata": {},
   "outputs": [],
   "source": [
    "def align_field_Q(V, F, TT, soft_id, soft_value, llambda):\n",
    "    assert (soft_id[0] > 0)\n",
    "    assert (soft_id.shape[0] == soft_value.shape[0])\n",
    "\n",
    "    # Edges\n",
    "    e1 = V[F[:, 1], :] - V[F[:, 0], :]\n",
    "    e2 = V[F[:, 2], :] - V[F[:, 0], :]\n",
    "\n",
    "    # Compute the local reference systems for each face, T1, T2\n",
    "    T1 = e1 / np.linalg.norm(e1, axis=1)[:, None]\n",
    "\n",
    "    T2 = np.cross(T1, np.cross(T1, e2))\n",
    "    T2 /= np.linalg.norm(T2, axis=1)[:, None]\n",
    "\n",
    "    # Arrays for the entries of the matrix\n",
    "    data = []\n",
    "    ii = []\n",
    "    jj = []\n",
    "\n",
    "    for f in range(F.shape[0]):\n",
    "        for ei in range(3):  # Loop over the edges\n",
    "\n",
    "            # Look up the opposite face\n",
    "            g = TT[f, ei]\n",
    "\n",
    "            # If it is a boundary edge, it does not contribute to the energy\n",
    "            # or avoid to count every edge twice\n",
    "            if g == -1 or f > g:\n",
    "                continue\n",
    "\n",
    "            # Compute the complex representation of the common edge\n",
    "            e = V[F[f, (ei + 1) % 3], :] - V[F[f, ei], :]\n",
    "\n",
    "            vef = np.array([np.dot(e, T1[f, :]), np.dot(e, T2[f, :])])\n",
    "            vef /= np.linalg.norm(vef)\n",
    "            ef = (vef[0] + vef[1] * 1j).conjugate()\n",
    "\n",
    "            veg = np.array([np.dot(e, T1[g, :]), np.dot(e, T2[g, :])])\n",
    "            veg /= np.linalg.norm(veg)\n",
    "            eg = (veg[0] + veg[1] * 1j).conjugate()\n",
    "\n",
    "            # Add the term conj(f)^n*ui - conj(g)^n*uj to the energy matrix\n",
    "            data.append(np.dot(ef,ef.conjugate()))\n",
    "            ii.append(f)\n",
    "            jj.append(f)\n",
    "\n",
    "            data.append(np.dot(ef.conjugate(),-eg))\n",
    "            ii.append(f)\n",
    "            jj.append(g)\n",
    "\n",
    "            data.append(np.dot(-ef, eg.conjugate()))\n",
    "            ii.append(g)\n",
    "            jj.append(f)\n",
    "\n",
    "            data.append(np.dot(eg.conjugate(), eg))\n",
    "            ii.append(g)\n",
    "            jj.append(g)\n",
    "\n",
    "\n",
    "    # Convert the constraints into the complex polynomial coefficients and add them as soft constraints\n",
    "    Q = sp.coo_matrix((data, (ii, jj)), shape=(F.shape[0], F.shape[0])).asformat(\"lil\")\n",
    "\n",
    "    # Rhs of the system\n",
    "    b = np.zeros(F.shape[0], dtype=complex)\n",
    "\n",
    "\n",
    "    for ci in range(soft_id.shape[0]):\n",
    "        f = soft_id[ci]\n",
    "        v = soft_value[ci, :]\n",
    "        # Project on the local frame\n",
    "        c = np.dot(v, T1[f, :]) + np.dot(v, T2[f, :]) * 1j\n",
    "        Q[f,:]=0\n",
    "        Q[f,f]=1\n",
    "        b[f]=c\n",
    "\n",
    "    for ci in range(soft_id.shape[0]):\n",
    "        f = soft_id[ci]\n",
    "        v = soft_value[ci, :]\n",
    "\n",
    "        # Project on the local frame\n",
    "        c = np.dot(v, T1[f, :]) + np.dot(v, T2[f, :]) * 1j\n",
    "\n",
    "        for fj in range(F.shape[0]):\n",
    "            b[fj] -= np.dot(Q[fj,f],c)\n",
    "\n",
    "    #assert (b.shape[0] == index)\n",
    "\n",
    "    # Solve the linear system\n",
    "    A = Q.asformat(\"csr\")\n",
    "    u = sp.linalg.spsolve(A, b)\n",
    "    for ci in range(soft_id.shape[0]):\n",
    "        f = soft_id[ci]\n",
    "        v = soft_value[ci, :]\n",
    "        # Project on the local frame\n",
    "        c = np.dot(v, T1[f, :]) + np.dot(v, T2[f, :]) * 1j\n",
    "        u[f] = c\n",
    "\n",
    "    R = T1 * u.real[:, None] + T2 * u.imag[:, None]\n",
    "\n",
    "    return R"
   ]
  },
  {
   "cell_type": "code",
   "execution_count": 5,
   "metadata": {},
   "outputs": [
    {
     "name": "stdout",
     "output_type": "stream",
     "text": [
      "Plot saved to file ./htmls/plot_0.html.\n"
     ]
    },
    {
     "data": {
      "text/html": [
       "\n",
       "        <iframe\n",
       "            width=\"700\"\n",
       "            height=\"600\"\n",
       "            src=\"./htmls/plot_0.html\"\n",
       "            frameborder=\"0\"\n",
       "            allowfullscreen\n",
       "            \n",
       "        ></iframe>\n",
       "        "
      ],
      "text/plain": [
       "<IPython.lib.display.IFrame at 0x1a7bb8b3d00>"
      ]
     },
     "execution_count": 5,
     "metadata": {},
     "output_type": "execute_result"
    }
   ],
   "source": [
    "R2 = align_field_Q(v, f, tt, cf, c, 1e6)\n",
    "p=plot_mesh_field(v, f, R2, cf)\n",
    "np.savetxt(\"1_interpolated_field.txt\",R2)\n",
    "if html:\n",
    "    html=htmlit(p)\n",
    "IFrame(src=html, width=700, height=600)"
   ]
  },
  {
   "cell_type": "markdown",
   "metadata": {},
   "source": [
    "# 2. Reconstructing a scalar field from a vector field"
   ]
  },
  {
   "cell_type": "code",
   "execution_count": 6,
   "metadata": {},
   "outputs": [],
   "source": [
    "def scalar_field(v,f,vector_field):\n",
    "    G=igl.grad(v,f)\n",
    "    area=igl.doublearea(v,f)/2\n",
    "    At=np.diag(np.tile(area, 3))\n",
    "    ut=vector_field.T.flatten()\n",
    "    K=G.T@At@G\n",
    "    b=G.T@At@ut\n",
    "    '''\n",
    "    K[0,:]=0\n",
    "    K[0,0]=1\n",
    "    b[0]=0\n",
    "    '''\n",
    "    si=sp.linalg.spsolve(K, b)\n",
    "    gt=(G@si).reshape(3,-1).T\n",
    "    poisson_error1=np.linalg.norm(gt-vector_field,axis=1)\n",
    "    poisson_error2=np.linalg.norm(gt-vector_field)\n",
    "\n",
    "    return si,poisson_error1,poisson_error2,gt\n",
    "\n",
    "\n",
    "def plot_mesh_scalar_field(V, F, R, s_field):\n",
    "    avg = igl.avg_edge_length(V, F) / 2\n",
    "    B = igl.barycenter(V, F)\n",
    "    p = mp.plot(V, F, c=s_field)\n",
    "\n",
    "    p.add_lines(B, B + R * avg)\n",
    "    return p"
   ]
  },
  {
   "cell_type": "code",
   "execution_count": 7,
   "metadata": {},
   "outputs": [
    {
     "name": "stdout",
     "output_type": "stream",
     "text": [
      "Below is visualization of computed scalar function and its gradient.\n",
      "Plot saved to file ./htmls/plot_1.html.\n"
     ]
    },
    {
     "name": "stderr",
     "output_type": "stream",
     "text": [
      "F:\\tools\\miniconda\\envs\\gp\\lib\\site-packages\\scipy\\sparse\\linalg\\_dsolve\\linsolve.py:214: SparseEfficiencyWarning: spsolve requires A be CSC or CSR matrix format\n",
      "  warn('spsolve requires A be CSC or CSR matrix format',\n"
     ]
    },
    {
     "data": {
      "text/html": [
       "\n",
       "        <iframe\n",
       "            width=\"700\"\n",
       "            height=\"600\"\n",
       "            src=\"./htmls/plot_1.html\"\n",
       "            frameborder=\"0\"\n",
       "            allowfullscreen\n",
       "            \n",
       "        ></iframe>\n",
       "        "
      ],
      "text/plain": [
       "<IPython.lib.display.IFrame at 0x1a7bb8b3a90>"
      ]
     },
     "execution_count": 7,
     "metadata": {},
     "output_type": "execute_result"
    }
   ],
   "source": [
    "print(\"Below is visualization of computed scalar function and its gradient.\")\n",
    "s_field,p_error1,p_error2,gt = scalar_field(v,f,R2)\n",
    "p=plot_mesh_scalar_field(v,f,gt,s_field)\n",
    "\n",
    "np.savetxt(\"2_reconstructed_scalar_function.txt\",s_field)\n",
    "if html:\n",
    "    html=htmlit(p)\n",
    "IFrame(src=html, width=700, height=600)"
   ]
  },
  {
   "cell_type": "code",
   "execution_count": 8,
   "metadata": {},
   "outputs": [],
   "source": [
    "def plot_possion_error(V,F,error):\n",
    "    p=mp.plot(V,F,c=error)\n",
    "    return p"
   ]
  },
  {
   "cell_type": "code",
   "execution_count": 9,
   "metadata": {},
   "outputs": [
    {
     "name": "stdout",
     "output_type": "stream",
     "text": [
      "Below is plot of the Poisson reconstruction error.\n",
      "Plot saved to file ./htmls/plot_2.html.\n"
     ]
    },
    {
     "data": {
      "text/html": [
       "\n",
       "        <iframe\n",
       "            width=\"700\"\n",
       "            height=\"600\"\n",
       "            src=\"./htmls/plot_2.html\"\n",
       "            frameborder=\"0\"\n",
       "            allowfullscreen\n",
       "            \n",
       "        ></iframe>\n",
       "        "
      ],
      "text/plain": [
       "<IPython.lib.display.IFrame at 0x1a7ec428970>"
      ]
     },
     "execution_count": 9,
     "metadata": {},
     "output_type": "execute_result"
    }
   ],
   "source": [
    "print(\"Below is plot of the Poisson reconstruction error.\")\n",
    "p=plot_possion_error(v,f,p_error1)\n",
    "if html:\n",
    "    html=htmlit(p)\n",
    "IFrame(src=html, width=700, height=600)"
   ]
  },
  {
   "cell_type": "code",
   "execution_count": 10,
   "metadata": {},
   "outputs": [
    {
     "name": "stdout",
     "output_type": "stream",
     "text": [
      "The poisson reconstruction error is: \n",
      "7.375992424336967\n"
     ]
    }
   ],
   "source": [
    "print(\"The poisson reconstruction error is: \")\n",
    "print(p_error2)"
   ]
  },
  {
   "cell_type": "markdown",
   "metadata": {},
   "source": [
    "# 3. Harmonic and LSCM Parameterizations"
   ]
  },
  {
   "cell_type": "code",
   "execution_count": 11,
   "metadata": {},
   "outputs": [],
   "source": [
    "v, f = igl.read_triangle_mesh(\"data/camel_head.off\")"
   ]
  },
  {
   "cell_type": "markdown",
   "metadata": {},
   "source": [
    "## Harmonic"
   ]
  },
  {
   "cell_type": "code",
   "execution_count": 12,
   "metadata": {},
   "outputs": [],
   "source": [
    "def harmonic_para(v,f):\n",
    "    boundaryloop=igl.boundary_loop(f)\n",
    "    boundaryuv=igl.map_vertices_to_circle(v,boundaryloop)\n",
    "    uv = igl.harmonic(v,f,boundaryloop, boundaryuv,1)\n",
    "    return uv"
   ]
  },
  {
   "cell_type": "code",
   "execution_count": 13,
   "metadata": {},
   "outputs": [
    {
     "name": "stdout",
     "output_type": "stream",
     "text": [
      "Harmonic: The first plot is a visualization of the computed mapping functions. The second plot is a visualization of the flattened mesh on the UV plane. The third plot is the gradient of its V function.\n",
      "Plot saved to file ./htmls/plot_3.html.\n"
     ]
    },
    {
     "data": {
      "text/html": [
       "\n",
       "        <iframe\n",
       "            width=\"700\"\n",
       "            height=\"600\"\n",
       "            src=\"./htmls/plot_3.html\"\n",
       "            frameborder=\"0\"\n",
       "            allowfullscreen\n",
       "            \n",
       "        ></iframe>\n",
       "        "
      ],
      "text/plain": [
       "<IPython.lib.display.IFrame at 0x1a7bb82b880>"
      ]
     },
     "execution_count": 13,
     "metadata": {},
     "output_type": "execute_result"
    }
   ],
   "source": [
    "print(\"Harmonic: The first plot is a visualization of the computed mapping functions. The second plot is a visualization of the flattened mesh on the UV plane. The third plot is the gradient of its V function.\")\n",
    "uv=harmonic_para(v,f)\n",
    "G = igl.grad(v, f)\n",
    "v_grad = (G @ uv[:, 1]).reshape(3, -1).T\n",
    "p = mp.plot(v, f, uv=uv)\n",
    "if html:\n",
    "    html=htmlit(p)\n",
    "IFrame(src=html, width=700, height=600)"
   ]
  },
  {
   "cell_type": "code",
   "execution_count": 14,
   "metadata": {},
   "outputs": [
    {
     "name": "stdout",
     "output_type": "stream",
     "text": [
      "Plot saved to file ./htmls/plot_4.html.\n"
     ]
    },
    {
     "data": {
      "text/html": [
       "\n",
       "        <iframe\n",
       "            width=\"700\"\n",
       "            height=\"600\"\n",
       "            src=\"./htmls/plot_4.html\"\n",
       "            frameborder=\"0\"\n",
       "            allowfullscreen\n",
       "            \n",
       "        ></iframe>\n",
       "        "
      ],
      "text/plain": [
       "<IPython.lib.display.IFrame at 0x1a7ec428640>"
      ]
     },
     "execution_count": 14,
     "metadata": {},
     "output_type": "execute_result"
    }
   ],
   "source": [
    "p=mp.plot(uv, f, shading={\"wireframe\": True})\n",
    "if html:\n",
    "    html=htmlit(p)\n",
    "IFrame(src=html, width=700, height=600)"
   ]
  },
  {
   "cell_type": "code",
   "execution_count": 15,
   "metadata": {},
   "outputs": [
    {
     "name": "stdout",
     "output_type": "stream",
     "text": [
      "Plot saved to file ./htmls/plot_5.html.\n"
     ]
    },
    {
     "data": {
      "text/html": [
       "\n",
       "        <iframe\n",
       "            width=\"700\"\n",
       "            height=\"600\"\n",
       "            src=\"./htmls/plot_5.html\"\n",
       "            frameborder=\"0\"\n",
       "            allowfullscreen\n",
       "            \n",
       "        ></iframe>\n",
       "        "
      ],
      "text/plain": [
       "<IPython.lib.display.IFrame at 0x1a7ec4a2d00>"
      ]
     },
     "execution_count": 15,
     "metadata": {},
     "output_type": "execute_result"
    }
   ],
   "source": [
    "p=plot_mesh_scalar_field(v,f,v_grad,uv[:,1])\n",
    "if html:\n",
    "    html=htmlit(p)\n",
    "IFrame(src=html, width=700, height=600)"
   ]
  },
  {
   "cell_type": "markdown",
   "metadata": {},
   "source": [
    "## LSCM"
   ]
  },
  {
   "cell_type": "code",
   "execution_count": 16,
   "metadata": {},
   "outputs": [],
   "source": [
    "def LSCM_para(v,f):\n",
    "    boundaryloop = igl.boundary_loop(f)\n",
    "    b = np.array([boundaryloop[0], boundaryloop[int(len(boundaryloop) / 2)]])\n",
    "    bc = np.array([[0., 0.], [1., 0.]])\n",
    "    _,uv = igl.lscm(v, f,b,bc)\n",
    "    return uv"
   ]
  },
  {
   "cell_type": "code",
   "execution_count": 17,
   "metadata": {},
   "outputs": [
    {
     "name": "stdout",
     "output_type": "stream",
     "text": [
      "LSCM: The first plot is a visualization of the computed mapping functions. The second plot is a visualization of the flattened mesh on the UV plane. The third plot is the gradient of its V function.\n",
      "Plot saved to file ./htmls/plot_6.html.\n"
     ]
    },
    {
     "data": {
      "text/html": [
       "\n",
       "        <iframe\n",
       "            width=\"700\"\n",
       "            height=\"600\"\n",
       "            src=\"./htmls/plot_6.html\"\n",
       "            frameborder=\"0\"\n",
       "            allowfullscreen\n",
       "            \n",
       "        ></iframe>\n",
       "        "
      ],
      "text/plain": [
       "<IPython.lib.display.IFrame at 0x1a7ec4a2d30>"
      ]
     },
     "execution_count": 17,
     "metadata": {},
     "output_type": "execute_result"
    }
   ],
   "source": [
    "print(\"LSCM: The first plot is a visualization of the computed mapping functions. The second plot is a visualization of the flattened mesh on the UV plane. The third plot is the gradient of its V function.\")\n",
    "uv=LSCM_para(v,f)\n",
    "G = igl.grad(v, f)\n",
    "v_grad = (G @ uv[:, 1]).reshape(3, -1).T\n",
    "p = mp.plot(v, f, uv=uv)\n",
    "if html:\n",
    "    html=htmlit(p)\n",
    "IFrame(src=html, width=700, height=600)\n"
   ]
  },
  {
   "cell_type": "code",
   "execution_count": 18,
   "metadata": {},
   "outputs": [
    {
     "name": "stdout",
     "output_type": "stream",
     "text": [
      "Plot saved to file ./htmls/plot_7.html.\n"
     ]
    },
    {
     "data": {
      "text/html": [
       "\n",
       "        <iframe\n",
       "            width=\"700\"\n",
       "            height=\"600\"\n",
       "            src=\"./htmls/plot_7.html\"\n",
       "            frameborder=\"0\"\n",
       "            allowfullscreen\n",
       "            \n",
       "        ></iframe>\n",
       "        "
      ],
      "text/plain": [
       "<IPython.lib.display.IFrame at 0x1a7ec4d2910>"
      ]
     },
     "execution_count": 18,
     "metadata": {},
     "output_type": "execute_result"
    }
   ],
   "source": [
    "p=mp.plot(uv, f, shading={\"wireframe\": True})\n",
    "if html:\n",
    "    html=htmlit(p)\n",
    "IFrame(src=html, width=700, height=600)"
   ]
  },
  {
   "cell_type": "code",
   "execution_count": 19,
   "metadata": {},
   "outputs": [
    {
     "name": "stdout",
     "output_type": "stream",
     "text": [
      "Plot saved to file ./htmls/plot_8.html.\n"
     ]
    },
    {
     "data": {
      "text/html": [
       "\n",
       "        <iframe\n",
       "            width=\"700\"\n",
       "            height=\"600\"\n",
       "            src=\"./htmls/plot_8.html\"\n",
       "            frameborder=\"0\"\n",
       "            allowfullscreen\n",
       "            \n",
       "        ></iframe>\n",
       "        "
      ],
      "text/plain": [
       "<IPython.lib.display.IFrame at 0x1a7ec4d2f70>"
      ]
     },
     "execution_count": 19,
     "metadata": {},
     "output_type": "execute_result"
    }
   ],
   "source": [
    "p=plot_mesh_scalar_field(v,f,v_grad,uv[:,1])\n",
    "if html:\n",
    "    html=htmlit(p)\n",
    "IFrame(src=html, width=700, height=600)"
   ]
  },
  {
   "cell_type": "markdown",
   "metadata": {},
   "source": [
    "# 4. Editing a parameterization with vector fields"
   ]
  },
  {
   "cell_type": "code",
   "execution_count": 20,
   "metadata": {},
   "outputs": [
    {
     "name": "stdout",
     "output_type": "stream",
     "text": [
      "The first plot is a virtualization of harmonic parameteraizaion before editting. The second plot is that after editting.\n",
      "Plot saved to file ./htmls/plot_9.html.\n"
     ]
    },
    {
     "data": {
      "text/html": [
       "\n",
       "        <iframe\n",
       "            width=\"700\"\n",
       "            height=\"600\"\n",
       "            src=\"./htmls/plot_9.html\"\n",
       "            frameborder=\"0\"\n",
       "            allowfullscreen\n",
       "            \n",
       "        ></iframe>\n",
       "        "
      ],
      "text/plain": [
       "<IPython.lib.display.IFrame at 0x1a7ec4e6790>"
      ]
     },
     "execution_count": 20,
     "metadata": {},
     "output_type": "execute_result"
    }
   ],
   "source": [
    "print(\"The first plot is a virtualization of harmonic parameteraizaion before editting. The second plot is that after editting.\")\n",
    "v, f = igl.read_triangle_mesh(\"data/irr4-cyl2.off\")\n",
    "tt, _ = igl.triangle_triangle_adjacency(f)\n",
    "c = np.loadtxt(\"data/irr4-cyl2.constraints\")\n",
    "cf = c[:, 0].astype(np.int64)\n",
    "c = c[:, 1:]\n",
    "R = align_field_Q(v, f, tt, cf, c, 1e6)\n",
    "s_field,_,_,_ = scalar_field(v,f,R)\n",
    "uv=harmonic_para(v,f)\n",
    "p=mp.plot(v, f,uv=uv, shading={\"wireframe\": False})\n",
    "if html:\n",
    "    html=htmlit(p)\n",
    "IFrame(src=html, width=700, height=600)"
   ]
  },
  {
   "cell_type": "code",
   "execution_count": 21,
   "metadata": {},
   "outputs": [
    {
     "name": "stdout",
     "output_type": "stream",
     "text": [
      "Plot saved to file ./htmls/plot_10.html.\n"
     ]
    },
    {
     "data": {
      "text/html": [
       "\n",
       "        <iframe\n",
       "            width=\"700\"\n",
       "            height=\"600\"\n",
       "            src=\"./htmls/plot_10.html\"\n",
       "            frameborder=\"0\"\n",
       "            allowfullscreen\n",
       "            \n",
       "        ></iframe>\n",
       "        "
      ],
      "text/plain": [
       "<IPython.lib.display.IFrame at 0x1a7ec48c580>"
      ]
     },
     "execution_count": 21,
     "metadata": {},
     "output_type": "execute_result"
    }
   ],
   "source": [
    "uv_e=uv.copy()\n",
    "uv_e[:,1]=s_field\n",
    "\n",
    "p = mp.plot(v, f, uv=uv_e)\n",
    "#mp.plot(uv_e, f, c=color,shading={\"wireframe\": True})\n",
    "if html:\n",
    "    html=htmlit(p)\n",
    "IFrame(src=html, width=700, height=600)"
   ]
  },
  {
   "cell_type": "code",
   "execution_count": 22,
   "metadata": {},
   "outputs": [
    {
     "name": "stdout",
     "output_type": "stream",
     "text": [
      "The first plot is a visualization of flipped elements within 3d space of xyz. The second plot is a visualization of flipped elements within 2d space of UV\n",
      "Plot saved to file ./htmls/plot_11.html.\n"
     ]
    },
    {
     "data": {
      "text/html": [
       "\n",
       "        <iframe\n",
       "            width=\"700\"\n",
       "            height=\"600\"\n",
       "            src=\"./htmls/plot_11.html\"\n",
       "            frameborder=\"0\"\n",
       "            allowfullscreen\n",
       "            \n",
       "        ></iframe>\n",
       "        "
      ],
      "text/plain": [
       "<IPython.lib.display.IFrame at 0x1a7ec4e64f0>"
      ]
     },
     "execution_count": 22,
     "metadata": {},
     "output_type": "execute_result"
    }
   ],
   "source": [
    "print(\"The first plot is a visualization of flipped elements within 3d space of xyz. The second plot is a visualization of flipped elements within 2d space of UV\")\n",
    "color=np.ones_like(f)\n",
    "flipped_face=[]\n",
    "for i,face in enumerate(f):\n",
    "    #print(uv_e[face[1]])\n",
    "    if np.cross(uv_e[face[1]]-uv_e[face[0]],uv_e[face[2]]-uv_e[face[0]])>0:\n",
    "        color[i]=np.array([1.0,0.0,0.0])\n",
    "        flipped_face.append(i)\n",
    "p=mp.plot(v, f, c=color,shading={\"wireframe\": True})\n",
    "if html:\n",
    "    html=htmlit(p)\n",
    "IFrame(src=html, width=700, height=600)"
   ]
  },
  {
   "cell_type": "code",
   "execution_count": 23,
   "metadata": {},
   "outputs": [
    {
     "name": "stdout",
     "output_type": "stream",
     "text": [
      "Plot saved to file ./htmls/plot_12.html.\n"
     ]
    },
    {
     "data": {
      "text/html": [
       "\n",
       "        <iframe\n",
       "            width=\"700\"\n",
       "            height=\"600\"\n",
       "            src=\"./htmls/plot_12.html\"\n",
       "            frameborder=\"0\"\n",
       "            allowfullscreen\n",
       "            \n",
       "        ></iframe>\n",
       "        "
      ],
      "text/plain": [
       "<IPython.lib.display.IFrame at 0x1a7ec503bb0>"
      ]
     },
     "execution_count": 23,
     "metadata": {},
     "output_type": "execute_result"
    }
   ],
   "source": [
    "p=mp.plot(uv_e, f, c=color,shading={\"wireframe\": True})\n",
    "if html:\n",
    "    html=htmlit(p)\n",
    "IFrame(src=html, width=700, height=600)"
   ]
  },
  {
   "cell_type": "code",
   "execution_count": 24,
   "metadata": {},
   "outputs": [],
   "source": [
    "np.savetxt(\"4_flipped_triangle_indices.txt\",flipped_face,fmt=\"%d\")"
   ]
  }
 ],
 "metadata": {
  "kernelspec": {
   "display_name": "Python 3 (ipykernel)",
   "language": "python",
   "name": "python3"
  },
  "language_info": {
   "codemirror_mode": {
    "name": "ipython",
    "version": 3
   },
   "file_extension": ".py",
   "mimetype": "text/x-python",
   "name": "python",
   "nbconvert_exporter": "python",
   "pygments_lexer": "ipython3",
   "version": "3.8.18"
  }
 },
 "nbformat": 4,
 "nbformat_minor": 4
}
