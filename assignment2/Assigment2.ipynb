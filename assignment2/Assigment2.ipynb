{
 "cells": [
  {
   "cell_type": "code",
   "execution_count": 1,
   "metadata": {
    "scrolled": true
   },
   "outputs": [],
   "source": [
    "import numpy as np\n",
    "import igl\n",
    "import meshplot as mp"
   ]
  },
  {
   "cell_type": "code",
   "execution_count": 2,
   "metadata": {
    "scrolled": true
   },
   "outputs": [],
   "source": [
    "# Utility function to generate a tet grid\n",
    "# n is a 3-tuple with the number of cell in every direction\n",
    "# mmin/mmax are the grid bounding box corners\n",
    "\n",
    "def tet_grid(n, mmin, mmax):\n",
    "    nx = n[0]\n",
    "    ny = n[1]\n",
    "    nz = n[2]\n",
    "    \n",
    "    delta = mmax-mmin\n",
    "    \n",
    "    deltax = delta[0]/(nx-1)\n",
    "    deltay = delta[1]/(ny-1)\n",
    "    deltaz = delta[2]/(nz-1)\n",
    "    \n",
    "    T = np.zeros(((nx-1)*(ny-1)*(nz-1)*6, 4), dtype=np.int64)\n",
    "    V = np.zeros((nx*ny*nz, 3))\n",
    "\n",
    "    mapping = -np.ones((nx, ny, nz), dtype=np.int64)\n",
    "\n",
    "\n",
    "    index = 0\n",
    "    for i in range(nx):\n",
    "        for j in range(ny):\n",
    "            for k in range(nz):\n",
    "                mapping[i, j, k] = index\n",
    "                V[index, :] = [i*deltax, j*deltay, k*deltaz]\n",
    "                index += 1\n",
    "    assert(index == V.shape[0])\n",
    "    \n",
    "    tets = np.array([\n",
    "        [0,1,3,4],\n",
    "        [5,2,6,7],\n",
    "        [4,1,5,3],\n",
    "        [4,3,7,5],\n",
    "        [3,1,5,2],\n",
    "        [2,3,7,5]\n",
    "    ])\n",
    "    \n",
    "    index = 0\n",
    "    for i in range(nx-1):\n",
    "        for j in range(ny-1):\n",
    "            for k in range(nz-1):\n",
    "                indices = [\n",
    "                    (i,   j,   k),\n",
    "                    (i+1, j,   k),\n",
    "                    (i+1, j+1, k),\n",
    "                    (i,   j+1, k),\n",
    "\n",
    "                    (i,   j,   k+1),\n",
    "                    (i+1, j,   k+1),\n",
    "                    (i+1, j+1, k+1),\n",
    "                    (i,   j+1, k+1),\n",
    "                ]\n",
    "                \n",
    "                for t in range(tets.shape[0]):\n",
    "                    tmp = [mapping[indices[ii]] for ii in tets[t, :]]\n",
    "                    T[index, :]=tmp\n",
    "                    index += 1\n",
    "                    \n",
    "    assert(index == T.shape[0])\n",
    "    \n",
    "    V += mmin\n",
    "    return V, T"
   ]
  },
  {
   "cell_type": "markdown",
   "metadata": {},
   "source": [
    "# Reading point cloud"
   ]
  },
  {
   "cell_type": "code",
   "execution_count": 3,
   "metadata": {},
   "outputs": [
    {
     "data": {
      "application/vnd.jupyter.widget-view+json": {
       "model_id": "3575de7a16284ee2ac9c8fb0a099699a",
       "version_major": 2,
       "version_minor": 0
      },
      "text/plain": [
       "Renderer(camera=PerspectiveCamera(children=(DirectionalLight(color='white', intensity=0.6, position=(5.0, -23.…"
      ]
     },
     "metadata": {},
     "output_type": "display_data"
    },
    {
     "data": {
      "text/plain": [
       "<meshplot.Viewer.Viewer at 0x26f4a9ca0d0>"
      ]
     },
     "execution_count": 3,
     "metadata": {},
     "output_type": "execute_result"
    }
   ],
   "source": [
    "pi, v = igl.read_triangle_mesh(\"data/cat.off\")\n",
    "pi /= 10\n",
    "ni = igl.per_vertex_normals(pi, v)\n",
    "mp.plot(pi, shading={\"point_size\": 8})"
   ]
  },
  {
   "cell_type": "code",
   "execution_count": 4,
   "metadata": {},
   "outputs": [
    {
     "data": {
      "application/vnd.jupyter.widget-view+json": {
       "model_id": "4009d87753ec4855b0cccfec60758bc9",
       "version_major": 2,
       "version_minor": 0
      },
      "text/plain": [
       "Renderer(camera=PerspectiveCamera(children=(DirectionalLight(color='white', intensity=0.6, position=(5.0, -23.…"
      ]
     },
     "metadata": {},
     "output_type": "display_data"
    },
    {
     "data": {
      "text/plain": [
       "2"
      ]
     },
     "execution_count": 4,
     "metadata": {},
     "output_type": "execute_result"
    }
   ],
   "source": [
    "def find_closed_point(point, points):\n",
    "    distance=np.linalg.norm(points-point,axis=1)\n",
    "    return np.argmin(distance)\n",
    "\n",
    "\n",
    "eps=igl.bounding_box_diagonal(pi)*0.01\n",
    "piplus=np.zeros_like(pi)\n",
    "piminus=np.zeros_like(pi)\n",
    "for (i,point) in enumerate(pi):\n",
    "    temp=point+eps*ni[i]\n",
    "    neweps=eps\n",
    "    while find_closed_point(temp,pi)!=i:\n",
    "        neweps=neweps/2\n",
    "        temp=point+neweps*ni[i]\n",
    "    piplus[i]=temp\n",
    "for (i,point) in enumerate(pi):\n",
    "    temp=point-eps*ni[i]\n",
    "    neweps=eps\n",
    "    while find_closed_point(temp,pi)!=i:\n",
    "        neweps=neweps/2\n",
    "        temp=point-neweps*ni[i]\n",
    "    piminus[i]=temp\n",
    "\n",
    "\n",
    "p=mp.plot(pi,c=np.ones_like(pi)*np.array([0, 0, 1]), shading={\"point_size\": 8})\n",
    "p.add_points(piplus,c=np.ones_like(pi)*np.array([1, 0, 0]), shading={\"point_size\": 8})\n",
    "p.add_points(piminus,c=np.ones_like(pi)*np.array([0, 1, 0]), shading={\"point_size\": 8})"
   ]
  },
  {
   "cell_type": "markdown",
   "metadata": {},
   "source": [
    "# MLS function"
   ]
  },
  {
   "cell_type": "code",
   "execution_count": 37,
   "metadata": {
    "scrolled": true
   },
   "outputs": [],
   "source": [
    "# Parameters\n",
    "bbox_min = np.array([-1., -1., -1.])\n",
    "bbox_max = np.array([1., 1., 1.])\n",
    "bbox_diag = np.linalg.norm(bbox_max - bbox_min)\n",
    "n = 128\n",
    "\n",
    "bv,bf=igl.bounding_box(pi)\n",
    "#print(bv)\n",
    "#print(bf)\n",
    "#print(list(np.min(np.array(bv),axis=0)))\n",
    "V,F=tet_grid([n,n,n],np.min(np.array(bv),axis=0)*1.1,np.max(np.array(bv),axis=0)*1.1)\n",
    "#p.add_points(V,c=np.ones_like(V)*np.array([0.5, 0.5, 0.5]), shading={\"point_size\": 2})\n"
   ]
  },
  {
   "cell_type": "code",
   "execution_count": 38,
   "metadata": {
    "scrolled": true
   },
   "outputs": [],
   "source": [
    "def normalize(points,min,max):\n",
    "    return ((points-np.min(points,axis=0))/(np.max(np.max(points,axis=0)-np.min(points,axis=0))))*(max-min)-(max-min)/2\n",
    "npi=normalize(pi,-1,1)\n",
    "npiplus=normalize(piplus,-1,1)\n",
    "npiminus=normalize(piminus,-1,1)\n",
    "#print(npi)\n",
    "#mp.plot(npi,v)"
   ]
  },
  {
   "cell_type": "code",
   "execution_count": 39,
   "metadata": {
    "scrolled": true
   },
   "outputs": [
    {
     "data": {
      "application/vnd.jupyter.widget-view+json": {
       "model_id": "9e17f615b35940789a29954bfaeb64f4",
       "version_major": 2,
       "version_minor": 0
      },
      "text/plain": [
       "Renderer(camera=PerspectiveCamera(children=(DirectionalLight(color='white', intensity=0.6, position=(-0.471374…"
      ]
     },
     "metadata": {},
     "output_type": "display_data"
    },
    {
     "data": {
      "text/plain": [
       "1"
      ]
     },
     "execution_count": 39,
     "metadata": {},
     "output_type": "execute_result"
    }
   ],
   "source": [
    "# Generate grid n x n x n\n",
    "x, T = tet_grid((n, n, n), bbox_min - 0.05 * bbox_diag, bbox_max + 0.05 * bbox_diag)\n",
    "#x,T=tet_grid((n, n, n), bbox_min, bbox_max)\n",
    "#npi=npi+np.array([-1,-1,0])\n",
    "p=mp.plot(npi,v)\n",
    "p.add_points(x,shading={\"point_size\": 0.1})\n",
    "#print(npi)\n",
    "#print(np.min(npi))\n",
    "#print(np.max(npi))\n",
    "#print(x)\n",
    "#print(np.min(x))\n",
    "#print(np.max(x))\n",
    "\n"
   ]
  },
  {
   "cell_type": "code",
   "execution_count": 43,
   "metadata": {
    "scrolled": true
   },
   "outputs": [],
   "source": [
    "wendlandRadius=0.3\n",
    "coefficientnumber=10\n",
    "def closest_points(point, points, h):\n",
    "    distance=np.linalg.norm(points-point,axis=1)\n",
    "    return np.argwhere(distance < h)\n",
    "\n",
    "def wendlandweight(p1,p2,h):\n",
    "    distance=np.linalg.norm(p1-p2)\n",
    "    return (1-distance/h)**4 * (4*distance/h+1)\n",
    "\n",
    "def functioninvectork2(x,y,z):\n",
    "    return np.array([1,x,y,z,x**2,x*y,x*z,y**2,y*z,z**2])\n",
    "funcargs=np.zeros((x.shape[0],coefficientnumber)) #1,x,y,z,x^2,xy,xz,y^2,yz,z^2\n",
    "points=np.concatenate((npi,npiplus,npiminus))\n",
    "fx=np.zeros((x.shape[0],1))\n",
    "for (i,xi) in enumerate(x): \n",
    "    adjlist=np.array(closest_points(xi,points,wendlandRadius)).squeeze(axis=1)\n",
    "    a=np.zeros((adjlist.size,coefficientnumber))\n",
    "    b=np.zeros((adjlist.size,1))\n",
    "    w=np.zeros((adjlist.size,adjlist.size)) #diagonal matrix\n",
    "    #print(adjlist.shape) if adjlist.shape[0]!=0 else None\n",
    "    if(len(adjlist)<coefficientnumber*2):\n",
    "        fx[i]=1000\n",
    "        continue\n",
    "    #print(adjlist)\n",
    "    for (j,adj) in enumerate(adjlist):\n",
    "        adj_position=points[adj]\n",
    "        originalpiindex=adj % (npi.shape[0])\n",
    "        originalpi_position=points[originalpiindex]\n",
    "        eps=(originalpi_position-adj_position)[0]/ni[originalpiindex,0]\n",
    "        a[j,:]=functioninvectork2(adj_position[0],adj_position[1],adj_position[2])\n",
    "        b[j]=eps  #what would be range?\n",
    "        w[j,j]=wendlandweight(adj_position,xi,wendlandRadius)\n",
    "        #print(a[j,:])\n",
    "        #print(b[j])\n",
    "        #print(w[j,j])\n",
    "    funcargs[i]=np.linalg.solve(a.T@w@a,a.T@w@b).T\n",
    "    fx[i]=(functioninvectork2(xi[0],xi[1],xi[2])@funcargs[i]).T\n",
    "    \n",
    "    "
   ]
  },
  {
   "cell_type": "code",
   "execution_count": 44,
   "metadata": {},
   "outputs": [
    {
     "data": {
      "application/vnd.jupyter.widget-view+json": {
       "model_id": "acaaf935c9a54cbf9b1185074fd0b029",
       "version_major": 2,
       "version_minor": 0
      },
      "text/plain": [
       "Renderer(camera=PerspectiveCamera(children=(DirectionalLight(color='white', intensity=0.6, position=(0.0, 0.0,…"
      ]
     },
     "metadata": {},
     "output_type": "display_data"
    },
    {
     "data": {
      "text/plain": [
       "<meshplot.Viewer.Viewer at 0x26f4d6b7990>"
      ]
     },
     "execution_count": 44,
     "metadata": {},
     "output_type": "execute_result"
    }
   ],
   "source": [
    "# Treshold fx to visualize inside outside\n",
    "\n",
    "ind = np.zeros_like(fx)\n",
    "#print(fx.shape)\n",
    "#print(ind.shape)\n",
    "ind[fx >= 0] = 1\n",
    "ind[fx < 0] = -1\n",
    "#print(ind)\n",
    "mp.plot(x, c=ind, shading={\"point_size\": 0.1,\"width\": 800, \"height\": 800})"
   ]
  },
  {
   "cell_type": "markdown",
   "metadata": {},
   "source": [
    "# Marching to extract surface"
   ]
  },
  {
   "cell_type": "code",
   "execution_count": 45,
   "metadata": {},
   "outputs": [
    {
     "data": {
      "application/vnd.jupyter.widget-view+json": {
       "model_id": "3906c39b62ec4fa7bf0744513de861bf",
       "version_major": 2,
       "version_minor": 0
      },
      "text/plain": [
       "Renderer(camera=PerspectiveCamera(children=(DirectionalLight(color='white', intensity=0.6, position=(-0.461889…"
      ]
     },
     "metadata": {},
     "output_type": "display_data"
    },
    {
     "data": {
      "text/plain": [
       "<meshplot.Viewer.Viewer at 0x26f4d76be10>"
      ]
     },
     "execution_count": 45,
     "metadata": {},
     "output_type": "execute_result"
    }
   ],
   "source": [
    "# Marcing tet to extract surface\n",
    "\n",
    "sv, sf, _, _ = igl.marching_tets(x, T, fx, 0)\n",
    "mp.plot(sv, sf, shading={\"wireframe\": True})"
   ]
  },
  {
   "cell_type": "code",
   "execution_count": null,
   "metadata": {
    "scrolled": true
   },
   "outputs": [],
   "source": []
  }
 ],
 "metadata": {
  "kernelspec": {
   "display_name": "Python 3 (ipykernel)",
   "language": "python",
   "name": "python3"
  },
  "language_info": {
   "codemirror_mode": {
    "name": "ipython",
    "version": 3
   },
   "file_extension": ".py",
   "mimetype": "text/x-python",
   "name": "python",
   "nbconvert_exporter": "python",
   "pygments_lexer": "ipython3",
   "version": "3.11.8"
  }
 },
 "nbformat": 4,
 "nbformat_minor": 4
}
