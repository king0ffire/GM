{
 "cells": [
  {
   "cell_type": "markdown",
   "metadata": {
    "scrolled": true
   },
   "source": [
    "# In this part, we will show a reconstruction on Cat without accelaration or axis-aligning."
   ]
  },
  {
   "cell_type": "code",
   "execution_count": 15,
   "metadata": {
    "scrolled": true
   },
   "outputs": [],
   "source": [
    "from IPython.display import display, HTML,IFrame\n",
    "import numpy as np\n",
    "import igl\n",
    "import meshplot as mp"
   ]
  },
  {
   "cell_type": "code",
   "execution_count": 16,
   "metadata": {
    "scrolled": true
   },
   "outputs": [],
   "source": [
    "#global configuration\n",
    "n = [16,16,16] #resolution\n",
    "normalizationmethod=1 # 0 for \"obj fit the (-1,1) box\" by normalizing obj. 1 for \"box fit the obj closely by constructing a streched grid.\n",
    "if normalizationmethod==0:\n",
    "    wendlandRadius=0.2\n",
    "    point_size=0.1 #in plot\n",
    "    gridlength=0.2\n",
    "elif normalizationmethod==1:\n",
    "    wendlandRadius=15\n",
    "    point_size=5\n",
    "    gridlength=15\n",
    "    \n",
    "    '''hound\n",
    "    wendlandRadius=0.003\n",
    "    point_size=0.001\n",
    "    gridlength=0.003\n",
    "    '''\n",
    "    '''luigi\n",
    "    wendlandRadius=0.2\n",
    "    point_size=1\n",
    "    gridlength=0.2\n",
    "    '''\n",
    "elif normalizationmethod==2:\n",
    "    wendlandRadius=1\n",
    "    point_size=0.5\n",
    "    gridlength=1\n",
    "k=2\n",
    "coefficientnumber=int(np.array([1,4,10])[k])\n",
    "adjindices=[(-1, -1, -1), (-1, -1, 0), (-1, -1, 1), (-1, 0, -1), (-1, 0, 0), (-1, 0, 1), (-1, 1, -1), (-1, 1, 0), (-1, 1, 1), (0, -1, -1), (0, -1, 0), (0, -1, 1), (0, 0, -1), (0, 0, 0), (0, 0, 1), (0, 1, -1), (0, 1, 0), (0, 1, 1), (1, -1, -1), (1, -1, 0), (1, -1, 1), (1, 0, -1), (1, 0, 0), (1, 0, 1), (1, 1, -1), (1, 1, 0), (1, 1, 1)]\n",
    "debug=False\n",
    "spatial=True\n",
    "tohtml=True\n",
    "file=\"data/cat.off\""
   ]
  },
  {
   "cell_type": "code",
   "execution_count": 17,
   "metadata": {
    "scrolled": true
   },
   "outputs": [],
   "source": [
    "# Utility function to generate a tet grid\n",
    "# n is a 3-tuple with the number of cell in every direction\n",
    "# mmin/mmax are the grid bounding box corners\n",
    "\n",
    "def tet_grid(n, mmin, mmax):\n",
    "    nx = n[0]\n",
    "    ny = n[1]\n",
    "    nz = n[2]\n",
    "    \n",
    "    delta = mmax-mmin\n",
    "    \n",
    "    deltax = delta[0]/(nx-1)\n",
    "    deltay = delta[1]/(ny-1)\n",
    "    deltaz = delta[2]/(nz-1)\n",
    "    \n",
    "    T = np.zeros(((nx-1)*(ny-1)*(nz-1)*6, 4), dtype=np.int64)\n",
    "    V = np.zeros((nx*ny*nz, 3))\n",
    "\n",
    "    mapping = -np.ones((nx, ny, nz), dtype=np.int64)\n",
    "\n",
    "\n",
    "    index = 0\n",
    "    for i in range(nx):\n",
    "        for j in range(ny):\n",
    "            for k in range(nz):\n",
    "                mapping[i, j, k] = index\n",
    "                V[index, :] = [i*deltax, j*deltay, k*deltaz]\n",
    "                index += 1\n",
    "    assert(index == V.shape[0])\n",
    "    \n",
    "    tets = np.array([\n",
    "        [0,1,3,4],\n",
    "        [5,2,6,7],\n",
    "        [4,1,5,3],\n",
    "        [4,3,7,5],\n",
    "        [3,1,5,2],\n",
    "        [2,3,7,5]\n",
    "    ])\n",
    "    \n",
    "    index = 0\n",
    "    for i in range(nx-1):\n",
    "        for j in range(ny-1):\n",
    "            for k in range(nz-1):\n",
    "                indices = [\n",
    "                    (i,   j,   k),\n",
    "                    (i+1, j,   k),\n",
    "                    (i+1, j+1, k),\n",
    "                    (i,   j+1, k),\n",
    "\n",
    "                    (i,   j,   k+1),\n",
    "                    (i+1, j,   k+1),\n",
    "                    (i+1, j+1, k+1),\n",
    "                    (i,   j+1, k+1),\n",
    "                ]\n",
    "                \n",
    "                for t in range(tets.shape[0]):\n",
    "                    tmp = [mapping[indices[ii]] for ii in tets[t, :]]\n",
    "                    T[index, :]=tmp\n",
    "                    index += 1\n",
    "                    \n",
    "    assert(index == T.shape[0])\n",
    "    \n",
    "    V += mmin\n",
    "    return V, T"
   ]
  },
  {
   "cell_type": "markdown",
   "metadata": {},
   "source": [
    "# Implementing a spatial index to accelerate neighbor calculations"
   ]
  },
  {
   "cell_type": "code",
   "execution_count": 18,
   "metadata": {},
   "outputs": [],
   "source": [
    "# Implementing a spatial index to accelerate neighbor calculations        \n",
    "def findgridcell(point,bbox_min,gridlength): #bbox_min (1,3) ndarray. point is position\n",
    "    return ((point-bbox_min)/gridlength).astype(np.int64)  # (,3) ndarray\n",
    "    \n",
    "def constructspatialgrid(points,bbox_min,bbox_max,gridlength):  #points is the obj. Pure cube grid. should contain all obj&tet_grid points. length is determined by wendlandradius\n",
    "    gridcellnumbers=findgridcell(bbox_max,bbox_min,gridlength)+1\n",
    "    gridcells=[]        #shape=(gridcellsnumbers[0],gridcellsnumbers[1],gridcellsnumbers[2],*)\n",
    "    for i in range(gridcellnumbers[0]):\n",
    "        gridcells.append([])\n",
    "        for j in range(gridcellnumbers[1]):\n",
    "            gridcells[i].append([])\n",
    "            for k in range(gridcellnumbers[2]):\n",
    "                gridcells[i][j].append([])\n",
    "    for (i,point) in enumerate(points):\n",
    "        index=findgridcell(point,bbox_min,gridlength)\n",
    "        gridcells[index[0]][index[1]][index[2]].append(i)\n",
    "    return gridcells,gridcellnumbers\n",
    "\n",
    "#def spatialgrid_add(pointindex,points,bbox_min,gridcells,gridcellnumbers,gridlength):\n",
    "    #index=findgridcell(points[pointindex],bbox_min,gridlength)\n",
    "    #gridcells[index[0]][index[1]][index[2]].append(pointindex)\n",
    "    \n",
    "def find_closed_point_spatial(point,points,bbox_min,gridcells,gridcellnumbers,gridlength): # point is position. points is positions of obj constraints\n",
    "    cell=findgridcell(point,bbox_min,gridlength)\n",
    "    adjcelllist=[]\n",
    "    for i, j, k in adjindices:\n",
    "        i1,i2,i3=cell[0]+i,cell[1]+j,cell[2]+k\n",
    "        if 0 <= i1 < gridcellnumbers[0] and 0 <= i2 < gridcellnumbers[1] and 0 <= i3 < gridcellnumbers[2]:\n",
    "            adjcelllist.extend(gridcells[i1][i2][i3])\n",
    "    return adjcelllist[find_closed_point(point, points[adjcelllist])]\n",
    "\n",
    "def closest_points_spatial(point,points,bbox_min,gridcells,gridcellnumbers,gridlength,wendlandRadius): # point is position. Return like closest_points\n",
    "    cell=findgridcell(point,bbox_min,gridlength)\n",
    "    adjcelllist=[]\n",
    "    for i, j, k in adjindices:\n",
    "        i1,i2,i3=cell[0]+i,cell[1]+j,cell[2]+k\n",
    "        if 0 <= i1 < gridcellnumbers[0] and 0 <= i2 < gridcellnumbers[1] and 0 <= i3 < gridcellnumbers[2]:\n",
    "            adjcelllist.extend(gridcells[i1][i2][i3])\n",
    "    if len(adjcelllist)==0:\n",
    "        return np.array([],dtype=np.int64)\n",
    "    else:\n",
    "        adjcelllist=np.array(adjcelllist)\n",
    "        return adjcelllist[closest_points(point,points[adjcelllist],wendlandRadius)]\n",
    "    \n",
    "    \n",
    "def normalize(points,min,max):\n",
    "    return ((points-np.min(points,axis=0))/(np.max(np.max(points,axis=0)-np.min(points,axis=0))))*(max-min)-(max-min)/2\n",
    "\n",
    "def find_closed_point(point, points): #assume the return is always a int\n",
    "    distance=np.linalg.norm(points-point,axis=1)\n",
    "    return np.argmin(distance)\n",
    "\n",
    "def closest_points(point, points, h):\n",
    "    distance=np.linalg.norm(points-point,axis=1)\n",
    "    res=np.argwhere(distance < h)\n",
    "    return res.squeeze(axis=1)\n",
    "    \n",
    "file_counter = 0\n",
    "def htmlit(plot):\n",
    "    global file_counter\n",
    "    unique_filename = f\"plot_{file_counter}.html\"\n",
    "    file_counter += 1\n",
    "    plot.save(unique_filename)\n",
    "    IFrame(src=unique_filename, width=700, height=600)"
   ]
  },
  {
   "cell_type": "markdown",
   "metadata": {},
   "source": [
    "# Reading point cloud"
   ]
  },
  {
   "cell_type": "code",
   "execution_count": 19,
   "metadata": {},
   "outputs": [],
   "source": [
    "pi, v = igl.read_triangle_mesh(file)\n",
    "pi /= 10\n",
    "\n",
    "if debug==True: \n",
    "    mp.plot(pi, shading={\"point_size\": point_size})\n",
    "    print(pi.shape)"
   ]
  },
  {
   "cell_type": "code",
   "execution_count": 20,
   "metadata": {},
   "outputs": [],
   "source": [
    "if normalizationmethod==0:\n",
    "    bbox_min = np.array([-1., -1., -1.])\n",
    "    bbox_max = np.array([1., 1., 1.])\n",
    "    bbox_diag = np.linalg.norm(bbox_max - bbox_min)\n",
    "    \n",
    "    npi=normalize(pi,np.min(bbox_min),np.max(bbox_max))\n",
    "    #npiplus=normalize(piplus,np.min(bbox_min),np.max(bbox_max))\n",
    "    #npiminus=normalize(piminus,np.min(bbox_min),np.max(bbox_max))\n",
    "\n",
    "    bbox_min=bbox_min - 0.05 * bbox_diag\n",
    "    bbox_max=bbox_max + 0.05 * bbox_diag\n",
    "\n",
    "\n",
    "if normalizationmethod==1:\n",
    "    bv,bf=igl.bounding_box(pi)\n",
    "    bbox_min=np.min(np.array(bv),axis=0)\n",
    "    bbox_max=np.max(np.array(bv),axis=0)\n",
    "    bbox_diag = np.linalg.norm(bbox_max - bbox_min)\n",
    "    bbox_min=bbox_min - 0.05 * bbox_diag\n",
    "    bbox_max=bbox_max + 0.05 * bbox_diag\n",
    "    if debug==True:\n",
    "        print(bbox_min)\n",
    "        print(bbox_max)\n",
    "    #p.add_points(x,c=np.ones_like(x)*np.array([0.5, 0.5, 0.5]), shading={\"point_size\": 2})\n",
    "    npi=pi\n",
    "    #npiplus=piplus\n",
    "    #npiminus=piminus\n",
    "\n",
    "if normalizationmethod==2:\n",
    "    centered = pi - np.mean(pi, axis=0)\n",
    "    cov = np.cov(centered,rowvar=False)\n",
    "    eigenvalues, eigenvectors = np.linalg.eig(cov)\n",
    "    sorted_indices = np.argsort(eigenvalues)[::-1]\n",
    "    sorted_eigenvectors = eigenvectors[:, sorted_indices]\n",
    "    if np.linalg.det(sorted_eigenvectors)<0:\n",
    "        sorted_eigenvectors[:, 0] *= -1\n",
    "    npi=centered @ sorted_eigenvectors\n",
    "    bv, bf = igl.bounding_box(npi)\n",
    "    bbox_min = np.min(np.array(bv), axis=0)\n",
    "    bbox_max = np.max(np.array(bv), axis=0)\n",
    "    bbox_diag = np.linalg.norm(bbox_max - bbox_min)\n",
    "    bbox_min = bbox_min - 0.05 * bbox_diag\n",
    "    bbox_max = bbox_max + 0.05 * bbox_diag\n",
    "        \n",
    "ni = igl.per_vertex_normals(npi, v)    \n",
    "\n",
    "if debug==True:\n",
    "    print(np.min(npi))\n",
    "    print(np.max(npi))\n",
    "\n",
    "if spatial==True:       \n",
    "    gridcells,gridcellnumbers= constructspatialgrid(npi,bbox_min,bbox_max,gridlength)\n",
    "    if debug==True:\n",
    "        print(gridcells)"
   ]
  },
  {
   "cell_type": "code",
   "execution_count": 21,
   "metadata": {},
   "outputs": [
    {
     "name": "stdout",
     "output_type": "stream",
     "text": [
      "The following plot is the required output for Setting up the Constraints section\n"
     ]
    },
    {
     "data": {
      "application/vnd.jupyter.widget-view+json": {
       "model_id": "033a5d7a53d44509b280be30173512ab",
       "version_major": 2,
       "version_minor": 0
      },
      "text/plain": [
       "Renderer(camera=PerspectiveCamera(children=(DirectionalLight(color='white', intensity=0.6, position=(5.0, -23.…"
      ]
     },
     "metadata": {},
     "output_type": "display_data"
    },
    {
     "name": "stdout",
     "output_type": "stream",
     "text": [
      "Plot saved to file plot_0.html.\n"
     ]
    }
   ],
   "source": [
    "eps=igl.bounding_box_diagonal(npi)*0.01\n",
    "piplus=np.zeros_like(npi)\n",
    "piminus=np.zeros_like(npi)\n",
    "for (i,point) in enumerate(npi):\n",
    "    temp=point+eps*ni[i]\n",
    "    neweps=eps\n",
    "    while True:\n",
    "        if spatial==False:\n",
    "            closest=find_closed_point(temp,npi)\n",
    "        else:\n",
    "            closest=find_closed_point_spatial(temp,npi,bbox_min,gridcells,gridcellnumbers,gridlength)\n",
    "        if closest==i:\n",
    "            break\n",
    "        if debug==True:\n",
    "            test1=find_closed_point(temp,npi)\n",
    "            test2=find_closed_point_spatial(temp,npi,bbox_min,gridcells,gridcellnumbers,gridlength)\n",
    "            if test1!=test2:\n",
    "                print(findgridcell(temp,bbox_min,gridlength))\n",
    "                print(test1)\n",
    "                print(test2)\n",
    "                raise Exception(\"Design wrong!!!\")\n",
    "        neweps=neweps/2\n",
    "        temp=point+neweps*ni[i]\n",
    "    piplus[i]=temp\n",
    "for (i,point) in enumerate(npi):\n",
    "    temp=point-eps*ni[i]\n",
    "    neweps=eps\n",
    "    while True:\n",
    "        if spatial==False:\n",
    "            closest=find_closed_point(temp,npi)\n",
    "        else:\n",
    "            closest=find_closed_point_spatial(temp,npi,bbox_min,gridcells,gridcellnumbers,gridlength)\n",
    "        if closest==i:\n",
    "            break\n",
    "        if debug==True:\n",
    "            test1=find_closed_point(temp,npi)\n",
    "            test2=find_closed_point_spatial(temp,npi,bbox_min,gridcells,gridcellnumbers,gridlength)\n",
    "            if test1!=test2:\n",
    "                print(findgridcell(temp,bbox_min,gridlength))\n",
    "                print(test1)\n",
    "                print(test2)\n",
    "                raise Exception(\"Design wrong!!!\")\n",
    "        neweps=neweps/2\n",
    "        temp=point-neweps*ni[i]\n",
    "    piminus[i]=temp\n",
    "#程序改动：原来是pi和piplus一起算出来后normal。现在是pi normal后算的piplus，所以piplus本身是normal的\n",
    "npiplus=piplus\n",
    "npiminus=piminus\n",
    "print(\"The following plot is the required output for Setting up the Constraints section\")\n",
    "p=mp.plot(npi,c=np.ones_like(npi)*np.array([0, 0, 1]), shading={\"point_size\": point_size})\n",
    "p.add_points(piplus,c=np.ones_like(npi)*np.array([1, 0, 0]), shading={\"point_size\": point_size})\n",
    "p.add_points(piminus,c=np.ones_like(npi)*np.array([0, 1, 0]), shading={\"point_size\": point_size})\n",
    "#p.add_lines(npi,npi+2*ni)\n",
    "if tohtml==True:\n",
    "    htmlit(p)\n",
    "\n",
    "#######临时测试\n",
    "#list=[590,614,616]\n",
    "#list=[248, 249, 614 ,615 ,616 ,981 ,224 ,250 ,590 ,956 ,980 ,982]\n",
    "#p.add_points(np.concatenate((npi,npiplus,npiminus))[list],shading={\"point_size\": point_size*2})"
   ]
  },
  {
   "cell_type": "markdown",
   "metadata": {},
   "source": [
    "# MLS function"
   ]
  },
  {
   "cell_type": "code",
   "execution_count": 22,
   "metadata": {
    "scrolled": true
   },
   "outputs": [],
   "source": [
    "x,T=tet_grid([n[0],n[1],n[2]],bbox_min,bbox_max)"
   ]
  },
  {
   "cell_type": "code",
   "execution_count": 23,
   "metadata": {
    "scrolled": true
   },
   "outputs": [],
   "source": [
    "if debug==True:\n",
    "    p=mp.plot(npi,v)\n",
    "    p.add_points(x,shading={\"point_size\": point_size})\n"
   ]
  },
  {
   "cell_type": "code",
   "execution_count": 24,
   "metadata": {
    "scrolled": true
   },
   "outputs": [],
   "source": [
    "def wendlandweight(p1,p2,h):\n",
    "    distance=np.linalg.norm(p1-p2)\n",
    "    return (1-distance/h)**4 * (4*distance/h+1)\n",
    "\n",
    "def functioninvector_k2(x,y,z):\n",
    "    return np.array([1,x,y,z,x**2,x*y,x*z,y**2,y*z,z**2])\n",
    "\n",
    "def functioninvector_k1(x,y,z):\n",
    "    return np.array([1,x,y,z])\n",
    "\n",
    "def functioninvector_k0(x,y,z):\n",
    "    return np.array([1])\n",
    "    \n",
    "def functioninvector(x,y,z,k):\n",
    "    if k==2:\n",
    "        return functioninvector_k2(x,y,z)\n",
    "    elif k==1:\n",
    "        return functioninvector_k1(x,y,z)\n",
    "    elif k==0:\n",
    "        return functioninvector_k0(x,y,z)"
   ]
  },
  {
   "cell_type": "code",
   "execution_count": 25,
   "metadata": {
    "scrolled": true
   },
   "outputs": [],
   "source": [
    "funcargs=np.zeros((x.shape[0],coefficientnumber)) #1,x,y,z,x^2,xy,xz,y^2,yz,z^2\n",
    "points=np.concatenate((npi,npiplus,npiminus))\n",
    "if spatial==True:       \n",
    "    gridcells,gridcellnumbers=constructspatialgrid(points,bbox_min,bbox_max,gridlength)\n",
    "fx=np.zeros((x.shape[0],1))\n",
    "if debug==True:\n",
    "    test1sum=0\n",
    "    test2sum=0\n",
    "for (i,xi) in enumerate(x): \n",
    "    if spatial==False:\n",
    "        adjlist=np.array(closest_points(xi,points,wendlandRadius))\n",
    "    else:\n",
    "        adjlist=np.array(closest_points_spatial(xi,points,bbox_min,gridcells,gridcellnumbers,gridlength,wendlandRadius)) \n",
    "    if debug==True:\n",
    "        test1=np.array(closest_points(xi,points,wendlandRadius))\n",
    "        test2=np.array(closest_points_spatial(xi,points,bbox_min,gridcells,gridcellnumbers,gridlength,wendlandRadius))\n",
    "\n",
    "        if np.array_equal(test1,np.sort(test2))!=True:\n",
    "            print(repr(test1))\n",
    "            print(repr(test2))\n",
    "            raise Exception(\"Design wrong!!!\")\n",
    "    a=np.zeros((adjlist.size,coefficientnumber))\n",
    "    b=np.zeros((adjlist.size,1))\n",
    "    w=np.zeros((adjlist.size,adjlist.size)) #diagonal matrix\n",
    "    #print(adjlist.shape) if adjlist.shape[0]!=0 else None\n",
    "    if(len(adjlist)<coefficientnumber):\n",
    "        fx[i]=10000\n",
    "        continue\n",
    "    #print(adjlist)\n",
    "\n",
    "    for (j,adj) in enumerate(adjlist):\n",
    "        adj_position=points[adj]\n",
    "        originalpiindex=adj % (npi.shape[0])\n",
    "        originalpi_position=points[originalpiindex]\n",
    "        eps=(adj_position-originalpi_position)[0]/ni[originalpiindex,0]\n",
    "        a[j,:]=functioninvector(adj_position[0],adj_position[1],adj_position[2],k)\n",
    "        b[j]=eps  #what would be range?\n",
    "        w[j,j]=wendlandweight(adj_position,xi,wendlandRadius)\n",
    "        #print(a[j,:])\n",
    "        #print(b[j])\n",
    "        #print(w[j,j])\n",
    "    funcargs[i]=np.linalg.solve(a.T@w@a,a.T@w@b).T\n",
    "    fx[i]=(functioninvector(xi[0],xi[1],xi[2],k)@funcargs[i]).T\n",
    "\n",
    "if debug==True:\n",
    "    print(\"total time on test1:\"+str(test1sum))\n",
    "    print(\"total time on test2:\"+str(test2sum))"
   ]
  },
  {
   "cell_type": "code",
   "execution_count": 26,
   "metadata": {},
   "outputs": [
    {
     "name": "stdout",
     "output_type": "stream",
     "text": [
      "The following plot is the required output for \"Use MLS interpolation to extend to function f\" section\n"
     ]
    },
    {
     "data": {
      "application/vnd.jupyter.widget-view+json": {
       "model_id": "9861ee602fae4e9ea435bae395016bbc",
       "version_major": 2,
       "version_minor": 0
      },
      "text/plain": [
       "Renderer(camera=PerspectiveCamera(children=(DirectionalLight(color='white', intensity=0.6, position=(5.0, -23.…"
      ]
     },
     "metadata": {},
     "output_type": "display_data"
    },
    {
     "name": "stdout",
     "output_type": "stream",
     "text": [
      "Plot saved to file plot_1.html.\n"
     ]
    }
   ],
   "source": [
    "# Treshold fx to visualize inside outside\n",
    "ind = np.zeros_like(fx)\n",
    "ind[fx >= 0] = 1 #yellow\n",
    "ind[fx < 0] = -1 # black\n",
    "print(\"The following plot is the required output for \\\"Use MLS interpolation to extend to function f\\\" section\")\n",
    "p2=mp.plot(x, c=ind, shading={\"point_size\": point_size,\"width\": 800, \"height\": 800})\n",
    "if tohtml==True:\n",
    "    htmlit(p2)\n",
    "if debug==True and False:\n",
    "    p.add_points(np.expand_dims(x[1],0),shading={\"point_size\":30})\n",
    "    p.add_points(x,shading={\"point_size\":10})"
   ]
  },
  {
   "cell_type": "markdown",
   "metadata": {},
   "source": [
    "# Marching to extract surface"
   ]
  },
  {
   "cell_type": "code",
   "execution_count": 27,
   "metadata": {},
   "outputs": [
    {
     "data": {
      "application/vnd.jupyter.widget-view+json": {
       "model_id": "53cd29ba455647cfa8ea41ab4d176c23",
       "version_major": 2,
       "version_minor": 0
      },
      "text/plain": [
       "Renderer(camera=PerspectiveCamera(children=(DirectionalLight(color='white', intensity=0.6, position=(5.0, -20.…"
      ]
     },
     "metadata": {},
     "output_type": "display_data"
    },
    {
     "name": "stdout",
     "output_type": "stream",
     "text": [
      "Plot saved to file plot_2.html.\n"
     ]
    }
   ],
   "source": [
    "# Marcing tet to extract surface\n",
    "sv, sf, _, _ = igl.marching_tets(x, T, fx, 0)\n",
    "components=igl.facet_components(sf)\n",
    "index,count=np.unique(components,return_counts=True)\n",
    "index=np.where(count==np.max(count))[0][0]  #argwhere?\n",
    "filteredf=sf[components==index]\n",
    "p=mp.plot(sv, filteredf, shading={\"wireframe\": True})\n",
    "if tohtml==True:\n",
    "    htmlit(p)"
   ]
  },
  {
   "cell_type": "markdown",
   "metadata": {},
   "source": [
    "# Experienment with parameters\n",
    "All the blocks above shows a reconstruction with fixed parameters.\n",
    "Below we experientment with different configuration. \n",
    "The first block below is just for function definition."
   ]
  },
  {
   "cell_type": "code",
   "execution_count": 14,
   "metadata": {},
   "outputs": [],
   "source": [
    "from IPython.display import display, HTML\n",
    "import numpy as np\n",
    "import igl\n",
    "import meshplot as mp\n",
    "\n",
    "\n",
    "def tet_grid(n, mmin, mmax):\n",
    "    nx = n[0]\n",
    "    ny = n[1]\n",
    "    nz = n[2]\n",
    "\n",
    "    delta = mmax - mmin\n",
    "\n",
    "    deltax = delta[0] / (nx - 1)\n",
    "    deltay = delta[1] / (ny - 1)\n",
    "    deltaz = delta[2] / (nz - 1)\n",
    "\n",
    "    T = np.zeros(((nx - 1) * (ny - 1) * (nz - 1) * 6, 4), dtype=np.int64)\n",
    "    V = np.zeros((nx * ny * nz, 3))\n",
    "\n",
    "    mapping = -np.ones((nx, ny, nz), dtype=np.int64)\n",
    "\n",
    "    index = 0\n",
    "    for i in range(nx):\n",
    "        for j in range(ny):\n",
    "            for k in range(nz):\n",
    "                mapping[i, j, k] = index\n",
    "                V[index, :] = [i * deltax, j * deltay, k * deltaz]\n",
    "                index += 1\n",
    "    assert (index == V.shape[0])\n",
    "\n",
    "    tets = np.array([\n",
    "        [0, 1, 3, 4],\n",
    "        [5, 2, 6, 7],\n",
    "        [4, 1, 5, 3],\n",
    "        [4, 3, 7, 5],\n",
    "        [3, 1, 5, 2],\n",
    "        [2, 3, 7, 5]\n",
    "    ])\n",
    "\n",
    "    index = 0\n",
    "    for i in range(nx - 1):\n",
    "        for j in range(ny - 1):\n",
    "            for k in range(nz - 1):\n",
    "                indices = [\n",
    "                    (i, j, k),\n",
    "                    (i + 1, j, k),\n",
    "                    (i + 1, j + 1, k),\n",
    "                    (i, j + 1, k),\n",
    "\n",
    "                    (i, j, k + 1),\n",
    "                    (i + 1, j, k + 1),\n",
    "                    (i + 1, j + 1, k + 1),\n",
    "                    (i, j + 1, k + 1),\n",
    "                ]\n",
    "\n",
    "                for t in range(tets.shape[0]):\n",
    "                    tmp = [mapping[indices[ii]] for ii in tets[t, :]]\n",
    "                    T[index, :] = tmp\n",
    "                    index += 1\n",
    "\n",
    "    assert (index == T.shape[0])\n",
    "\n",
    "    V += mmin\n",
    "    return V, T\n",
    "\n",
    "\n",
    "# Implementing a spatial index to accelerate neighbor calculations\n",
    "def findgridcell(point, bbox_min, gridlength):  # bbox_min (1,3) ndarray. point is position\n",
    "    return ((point - bbox_min) / gridlength).astype(np.int64)  # (,3) ndarray\n",
    "\n",
    "\n",
    "def constructspatialgrid(points, bbox_min, bbox_max,\n",
    "                         gridlength):  # points is the obj. Pure cube grid. should contain all obj&tet_grid points. length is determined by wendlandradius\n",
    "    gridcellnumbers = findgridcell(bbox_max, bbox_min, gridlength) + 1\n",
    "    gridcells = []  # shape=(gridcellsnumbers[0],gridcellsnumbers[1],gridcellsnumbers[2],*)\n",
    "    for i in range(gridcellnumbers[0]):\n",
    "        gridcells.append([])\n",
    "        for j in range(gridcellnumbers[1]):\n",
    "            gridcells[i].append([])\n",
    "            for k in range(gridcellnumbers[2]):\n",
    "                gridcells[i][j].append([])\n",
    "    for (i, point) in enumerate(points):\n",
    "        index = findgridcell(point, bbox_min, gridlength)\n",
    "        gridcells[index[0]][index[1]][index[2]].append(i)\n",
    "    return gridcells, gridcellnumbers\n",
    "\n",
    "\n",
    "def find_closed_point_spatial(point, points, bbox_min, gridcells, gridcellnumbers,\n",
    "                              gridlength, adjindices):  # point is position. points is positions of obj constraints\n",
    "    cell = findgridcell(point, bbox_min, gridlength)\n",
    "    adjcelllist = []\n",
    "    for i, j, k in adjindices:\n",
    "        i1, i2, i3 = cell[0] + i, cell[1] + j, cell[2] + k\n",
    "        if 0 <= i1 < gridcellnumbers[0] and 0 <= i2 < gridcellnumbers[1] and 0 <= i3 < gridcellnumbers[2]:\n",
    "            adjcelllist.extend(gridcells[i1][i2][i3])\n",
    "    return adjcelllist[find_closed_point(point, points[adjcelllist])]\n",
    "\n",
    "\n",
    "def closest_points_spatial(point, points, bbox_min, gridcells, gridcellnumbers, gridlength,\n",
    "                           wendlandRadius, adjindices):  # point is position. Return like closest_points\n",
    "    cell = findgridcell(point, bbox_min, gridlength)\n",
    "    adjcelllist = []\n",
    "    for i, j, k in adjindices:\n",
    "        i1, i2, i3 = cell[0] + i, cell[1] + j, cell[2] + k\n",
    "        if 0 <= i1 < gridcellnumbers[0] and 0 <= i2 < gridcellnumbers[1] and 0 <= i3 < gridcellnumbers[2]:\n",
    "            adjcelllist.extend(gridcells[i1][i2][i3])\n",
    "    if len(adjcelllist) == 0:\n",
    "        return np.array([], dtype=np.int64)\n",
    "    else:\n",
    "        adjcelllist = np.array(adjcelllist)\n",
    "        return adjcelllist[closest_points(point, points[adjcelllist], wendlandRadius)]\n",
    "\n",
    "\n",
    "def normalize(points, min, max):\n",
    "    return ((points - np.min(points, axis=0)) / (np.max(np.max(points, axis=0) - np.min(points, axis=0)))) * (\n",
    "            max - min) - (max - min) / 2\n",
    "\n",
    "\n",
    "def find_closed_point(point, points):  # assume the return is always a int\n",
    "    distance = np.linalg.norm(points - point, axis=1)\n",
    "    return np.argmin(distance)\n",
    "\n",
    "\n",
    "def closest_points(point, points, h):\n",
    "    distance = np.linalg.norm(points - point, axis=1)\n",
    "    res = np.argwhere(distance < h)\n",
    "    return res.squeeze(axis=1)\n",
    "\n",
    "\n",
    "def wendlandweight(p1, p2, h):\n",
    "    distance = np.linalg.norm(p1 - p2)\n",
    "    return (1 - distance / h) ** 4 * (4 * distance / h + 1)\n",
    "\n",
    "\n",
    "def functioninvector_k2(x, y, z):\n",
    "    return np.array([1, x, y, z, x ** 2, x * y, x * z, y ** 2, y * z, z ** 2])\n",
    "\n",
    "\n",
    "def functioninvector_k1(x, y, z):\n",
    "    return np.array([1, x, y, z])\n",
    "\n",
    "\n",
    "def functioninvector_k0(x, y, z):\n",
    "    return np.array([1])\n",
    "\n",
    "\n",
    "def functioninvector(x, y, z, k):\n",
    "    if k == 2:\n",
    "        return functioninvector_k2(x, y, z)\n",
    "    elif k == 1:\n",
    "        return functioninvector_k1(x, y, z)\n",
    "    elif k == 0:\n",
    "        return functioninvector_k0(x, y, z)\n",
    "\n",
    "\n",
    "def readMesh(filelocation):\n",
    "    pi, v = igl.read_triangle_mesh(filelocation)\n",
    "    pi /= 10\n",
    "    #ni = igl.per_vertex_normals(pi, v)\n",
    "    return pi, v\n",
    "\n",
    "\n",
    "def normalizeMesh(v,normalizationmethod, pi, spatial, gridlength):\n",
    "    if normalizationmethod == 0:\n",
    "        bbox_min = np.array([-1., -1., -1.])\n",
    "        bbox_max = np.array([1., 1., 1.])\n",
    "        bbox_diag = np.linalg.norm(bbox_max - bbox_min)\n",
    "        npi = normalize(pi, np.min(bbox_min), np.max(bbox_max))\n",
    "        bbox_min = bbox_min - 0.05 * bbox_diag\n",
    "        bbox_max = bbox_max + 0.05 * bbox_diag\n",
    "    if normalizationmethod == 1:\n",
    "        bv, bf = igl.bounding_box(pi)\n",
    "        bbox_min = np.min(np.array(bv), axis=0)\n",
    "        bbox_max = np.max(np.array(bv), axis=0)\n",
    "        bbox_diag = np.linalg.norm(bbox_max - bbox_min)\n",
    "        bbox_min = bbox_min - 0.05 * bbox_diag\n",
    "        bbox_max = bbox_max + 0.05 * bbox_diag\n",
    "        npi = pi\n",
    "    if normalizationmethod == 2:\n",
    "        centered = pi - np.mean(pi, axis=0)\n",
    "        cov = np.cov(centered, rowvar=False)\n",
    "        eigenvalues, eigenvectors = np.linalg.eig(cov)\n",
    "        sorted_indices = np.argsort(eigenvalues)[::-1]\n",
    "        sorted_eigenvectors = eigenvectors[:, sorted_indices]\n",
    "        if np.linalg.det(sorted_eigenvectors) < 0:\n",
    "            sorted_eigenvectors[:, 0] *= -1\n",
    "        npi = centered @ sorted_eigenvectors\n",
    "        bv, bf = igl.bounding_box(npi)\n",
    "        bbox_min = np.min(np.array(bv), axis=0)\n",
    "        bbox_max = np.max(np.array(bv), axis=0)\n",
    "        bbox_diag = np.linalg.norm(bbox_max - bbox_min)\n",
    "        bbox_min = bbox_min - 0.05 * bbox_diag\n",
    "        bbox_max = bbox_max + 0.05 * bbox_diag\n",
    "\n",
    "    ni = igl.per_vertex_normals(npi, v)\n",
    "    if spatial == True:\n",
    "        gridcells, gridcellnumbers = constructspatialgrid(npi, bbox_min, bbox_max, gridlength)\n",
    "    else:\n",
    "        gridcells = None\n",
    "        gridcellnumbers = None\n",
    "    return npi, bbox_min, bbox_max, gridcells, gridcellnumbers,ni\n",
    "\n",
    "\n",
    "def constructConstraint(npi, ni, spatial, bbox_min, gridcells, gridcellnumbers, gridlength,adjindices):\n",
    "    eps = igl.bounding_box_diagonal(npi) * 0.01\n",
    "    piplus = np.zeros_like(npi)\n",
    "    piminus = np.zeros_like(npi)\n",
    "    for (i, point) in enumerate(npi):\n",
    "        temp = point + eps * ni[i]\n",
    "        neweps = eps\n",
    "        while True:\n",
    "            if spatial == False:\n",
    "                closest = find_closed_point(temp, npi)\n",
    "            else:\n",
    "                closest = find_closed_point_spatial(temp, npi, bbox_min, gridcells, gridcellnumbers, gridlength,adjindices)\n",
    "            if closest == i:\n",
    "                break\n",
    "            neweps = neweps / 2\n",
    "            temp = point + neweps * ni[i]\n",
    "        piplus[i] = temp\n",
    "    for (i, point) in enumerate(npi):\n",
    "        temp = point - eps * ni[i]\n",
    "        neweps = eps\n",
    "        while True:\n",
    "            if spatial == False:\n",
    "                closest = find_closed_point(temp, npi)\n",
    "            else:\n",
    "                closest = find_closed_point_spatial(temp, npi, bbox_min, gridcells, gridcellnumbers, gridlength,adjindices)\n",
    "            if closest == i:\n",
    "                break\n",
    "            neweps = neweps / 2\n",
    "            temp = point - neweps * ni[i]\n",
    "        piminus[i] = temp\n",
    "    npiplus = piplus\n",
    "    npiminus = piminus\n",
    "    return npiplus, npiminus\n",
    "\n",
    "\n",
    "def calculatefx(x, npi, npiplus, npiminus, ni, bbox_min, coefficientnumber, bbox_max, gridlength, spatial,\n",
    "                wendlandRadius, k,adjindices):\n",
    "    funcargs = np.zeros((x.shape[0], coefficientnumber))  # 1,x,y,z,x^2,xy,xz,y^2,yz,z^2\n",
    "    points = np.concatenate((npi, npiplus, npiminus))\n",
    "    if spatial == True:\n",
    "        gridcells, gridcellnumbers = constructspatialgrid(points, bbox_min, bbox_max, gridlength)\n",
    "    fx = np.zeros((x.shape[0], 1))\n",
    "    for (i, xi) in enumerate(x):\n",
    "        if spatial == False:\n",
    "            adjlist = np.array(closest_points(xi, points, wendlandRadius))\n",
    "        else:\n",
    "            adjlist = np.array(\n",
    "                closest_points_spatial(xi, points, bbox_min, gridcells, gridcellnumbers, gridlength, wendlandRadius,adjindices))\n",
    "        a = np.zeros((adjlist.size, coefficientnumber))\n",
    "        b = np.zeros((adjlist.size, 1))\n",
    "        w = np.zeros((adjlist.size, adjlist.size))  # diagonal matrix\n",
    "        if (len(adjlist) < coefficientnumber):\n",
    "            fx[i] = 10000\n",
    "            continue\n",
    "        for (j, adj) in enumerate(adjlist):\n",
    "            adj_position = points[adj]\n",
    "            originalpiindex = adj % (npi.shape[0])\n",
    "            originalpi_position = points[originalpiindex]\n",
    "            eps = (adj_position - originalpi_position)[0] / ni[originalpiindex, 0]\n",
    "            a[j, :] = functioninvector(adj_position[0], adj_position[1], adj_position[2], k)\n",
    "            b[j] = eps  # what would be range?\n",
    "            w[j, j] = wendlandweight(adj_position, xi, wendlandRadius)\n",
    "        funcargs[i] = np.linalg.solve(a.T @ w @ a, a.T @ w @ b).T\n",
    "        fx[i] = (functioninvector(xi[0], xi[1], xi[2], k) @ funcargs[i]).T\n",
    "    return fx, funcargs\n",
    "\n",
    "\n",
    "def virtualizeinout(fx):\n",
    "    ind = np.zeros_like(fx)\n",
    "    ind[fx >= 0] = 1  # yellow\n",
    "    ind[fx < 0] = -1  # black\n",
    "    return ind\n",
    "\n",
    "\n",
    "def marching(x, T, fx):\n",
    "    sv, sf, _, _ = igl.marching_tets(x, T, fx, 0)\n",
    "    components = igl.facet_components(sf)\n",
    "    index, count = np.unique(components, return_counts=True)\n",
    "    index = np.where(count == np.max(count))[0][0]  # argwhere?\n",
    "    filteredf = sf[components == index]\n",
    "    return sv, filteredf\n",
    "\n",
    "\n",
    "def MyWholeConstructionInOneFunc(filelocation, normalizationmethod, spatial, plotconstrain, plotinout, n,\n",
    "                                 point_size, plotgrid, coefficientnumber, plotreconstructed, gridlength, k,\n",
    "                                 wendlandRadius,adjindices,tohtml=False):  # functioninvector\n",
    "    pi, v= readMesh(filelocation)\n",
    "    npi, bbox_min, bbox_max, gridcells, gridcellnumbers, ni = normalizeMesh(v,normalizationmethod, pi, spatial, gridlength)\n",
    "    npiplus, npiminus = constructConstraint(npi, ni, spatial, bbox_min, gridcells, gridcellnumbers, gridlength,adjindices)\n",
    "    if plotconstrain == True:\n",
    "        print(\"The following plot is the required output for Setting up the Constraints section\")\n",
    "        p = mp.plot(npi, c=np.ones_like(npi) * np.array([0, 0, 1]), shading={\"point_size\": point_size})\n",
    "        p.add_points(npiplus, c=np.ones_like(npi) * np.array([1, 0, 0]), shading={\"point_size\": point_size})\n",
    "        p.add_points(npiminus, c=np.ones_like(npi) * np.array([0, 1, 0]), shading={\"point_size\": point_size})\n",
    "        if tohtml==True:\n",
    "            htmlit(p)\n",
    "    x, T = tet_grid([n[0], n[1], n[2]], bbox_min, bbox_max)\n",
    "    if plotgrid == True:\n",
    "        print(\"The following plot is the required output for Using a non-axis-aligned grid section\")\n",
    "        p = mp.plot(npi, v)\n",
    "        p.add_points(x, shading={\"point_size\": point_size})\n",
    "        if tohtml==True:\n",
    "            htmlit(p)\n",
    "    fx, funcargs = calculatefx(x, npi, npiplus, npiminus, ni, bbox_min, coefficientnumber, bbox_max, gridlength,\n",
    "                               spatial, wendlandRadius, k,adjindices)\n",
    "    ind = virtualizeinout(fx)\n",
    "    if plotinout == True:\n",
    "        print(\"The following plot is the required output for \\\"Use MLS interpolation to extend to function f\\\" section\")\n",
    "        p = mp.plot(x, c=ind, shading={\"point_size\": point_size, \"width\": 800, \"height\": 800})\n",
    "        if tohtml==True:\n",
    "            htmlit(p)\n",
    "    sv, filteredf = marching(x, T, fx)\n",
    "    if plotreconstructed == True:\n",
    "        p=mp.plot(sv, filteredf, shading={\"wireframe\": True})\n",
    "        if tohtml==True:\n",
    "            htmlit(p)\n"
   ]
  },
  {
   "cell_type": "markdown",
   "metadata": {},
   "source": [
    "## Cat in different resolution\n",
    "Without acceleration\n",
    "\n",
    "k=2,coefficientnumber=10\n",
    "\n",
    "wendlandRadius=15\n",
    "\n",
    "\n",
    "1st plot: resolution of 8 8 8 \n",
    "\n",
    "2nd plot: resolution of 32 32 32  (running a bit longer)\n",
    "\n",
    "It's very clear that low resolution leads to bad reconstruction."
   ]
  },
  {
   "cell_type": "code",
   "execution_count": 15,
   "metadata": {},
   "outputs": [
    {
     "data": {
      "application/vnd.jupyter.widget-view+json": {
       "model_id": "23aba71babd4411c818be04fb61ac973",
       "version_major": 2,
       "version_minor": 0
      },
      "text/plain": [
       "Renderer(camera=PerspectiveCamera(children=(DirectionalLight(color='white', intensity=0.6, position=(6.1387853…"
      ]
     },
     "metadata": {},
     "output_type": "display_data"
    }
   ],
   "source": [
    "MyWholeConstructionInOneFunc(filelocation=\"data/cat.off\", normalizationmethod=1, spatial=False, plotconstrain=False, \n",
    "                             plotinout=False, n=[8,8,8],point_size=3,plotgrid=False,coefficientnumber=10,plotreconstructed=True,gridlength=15,k=2,wendlandRadius=15,adjindices=None)\n"
   ]
  },
  {
   "cell_type": "code",
   "execution_count": 16,
   "metadata": {},
   "outputs": [
    {
     "data": {
      "application/vnd.jupyter.widget-view+json": {
       "model_id": "4315e286be1c43939aa35cf8201b554c",
       "version_major": 2,
       "version_minor": 0
      },
      "text/plain": [
       "Renderer(camera=PerspectiveCamera(children=(DirectionalLight(color='white', intensity=0.6, position=(5.0, -23.…"
      ]
     },
     "metadata": {},
     "output_type": "display_data"
    }
   ],
   "source": [
    "MyWholeConstructionInOneFunc(filelocation=\"data/cat.off\", normalizationmethod=1, spatial=False, plotconstrain=False, \n",
    "                             plotinout=False, n=[32,32,32],point_size=3,plotgrid=False,coefficientnumber=10,plotreconstructed=True,gridlength=15,k=2,wendlandRadius=15,adjindices=None)"
   ]
  },
  {
   "cell_type": "markdown",
   "metadata": {},
   "source": [
    "## Cat with anisotropic scaling\n",
    "\n",
    "Without acceleration\n",
    "\n",
    "k=2,coefficientnumber=10\n",
    "\n",
    "wendlandRadius=15\n",
    "\n",
    "\n",
    "1st plot: resolution of 32 32 32 \n",
    "\n",
    "2nd plot: resolution of 20 20 32  (adjusted due to the larger variance in the point distribution of the Cat along the z-axis)\n",
    "\n",
    "Both plots achieve very similar results, with comparable artifacts. Therefore, it is feasible to reduce the resolution in the x and y axes while maintaining the quality."
   ]
  },
  {
   "cell_type": "code",
   "execution_count": 17,
   "metadata": {},
   "outputs": [
    {
     "name": "stdout",
     "output_type": "stream",
     "text": [
      "The following plot is the required output for Using a non-axis-aligned grid section\n"
     ]
    },
    {
     "data": {
      "application/vnd.jupyter.widget-view+json": {
       "model_id": "cae4bf156c1e455a840f704d36262be8",
       "version_major": 2,
       "version_minor": 0
      },
      "text/plain": [
       "Renderer(camera=PerspectiveCamera(children=(DirectionalLight(color='white', intensity=0.6, position=(5.0, -23.…"
      ]
     },
     "metadata": {},
     "output_type": "display_data"
    },
    {
     "data": {
      "application/vnd.jupyter.widget-view+json": {
       "model_id": "d42412596eda43c08a37d71e04001c32",
       "version_major": 2,
       "version_minor": 0
      },
      "text/plain": [
       "Renderer(camera=PerspectiveCamera(children=(DirectionalLight(color='white', intensity=0.6, position=(5.0, -23.…"
      ]
     },
     "metadata": {},
     "output_type": "display_data"
    }
   ],
   "source": [
    "MyWholeConstructionInOneFunc(filelocation=\"data/cat.off\", normalizationmethod=1, spatial=False, plotconstrain=False, \n",
    "                             plotinout=False, n=[32,32,32],point_size=3,plotgrid=True,coefficientnumber=10,plotreconstructed=True,gridlength=15,k=2,wendlandRadius=15,adjindices=None)"
   ]
  },
  {
   "cell_type": "code",
   "execution_count": 18,
   "metadata": {},
   "outputs": [
    {
     "name": "stdout",
     "output_type": "stream",
     "text": [
      "The following plot is the required output for Using a non-axis-aligned grid section\n"
     ]
    },
    {
     "data": {
      "application/vnd.jupyter.widget-view+json": {
       "model_id": "ea6a44f8d7c349afaa46ed57c0a232d6",
       "version_major": 2,
       "version_minor": 0
      },
      "text/plain": [
       "Renderer(camera=PerspectiveCamera(children=(DirectionalLight(color='white', intensity=0.6, position=(5.0, -23.…"
      ]
     },
     "metadata": {},
     "output_type": "display_data"
    },
    {
     "ename": "KeyboardInterrupt",
     "evalue": "",
     "output_type": "error",
     "traceback": [
      "\u001b[1;31m---------------------------------------------------------------------------\u001b[0m",
      "\u001b[1;31mKeyboardInterrupt\u001b[0m                         Traceback (most recent call last)",
      "Cell \u001b[1;32mIn[18], line 1\u001b[0m\n\u001b[1;32m----> 1\u001b[0m \u001b[43mMyWholeConstructionInOneFunc\u001b[49m\u001b[43m(\u001b[49m\u001b[43mfilelocation\u001b[49m\u001b[38;5;241;43m=\u001b[39;49m\u001b[38;5;124;43m\"\u001b[39;49m\u001b[38;5;124;43mdata/cat.off\u001b[39;49m\u001b[38;5;124;43m\"\u001b[39;49m\u001b[43m,\u001b[49m\u001b[43m \u001b[49m\u001b[43mnormalizationmethod\u001b[49m\u001b[38;5;241;43m=\u001b[39;49m\u001b[38;5;241;43m1\u001b[39;49m\u001b[43m,\u001b[49m\u001b[43m \u001b[49m\u001b[43mspatial\u001b[49m\u001b[38;5;241;43m=\u001b[39;49m\u001b[38;5;28;43;01mFalse\u001b[39;49;00m\u001b[43m,\u001b[49m\u001b[43m \u001b[49m\u001b[43mplotconstrain\u001b[49m\u001b[38;5;241;43m=\u001b[39;49m\u001b[38;5;28;43;01mFalse\u001b[39;49;00m\u001b[43m,\u001b[49m\u001b[43m \u001b[49m\n\u001b[0;32m      2\u001b[0m \u001b[43m                             \u001b[49m\u001b[43mplotinout\u001b[49m\u001b[38;5;241;43m=\u001b[39;49m\u001b[38;5;28;43;01mFalse\u001b[39;49;00m\u001b[43m,\u001b[49m\u001b[43m \u001b[49m\u001b[43mn\u001b[49m\u001b[38;5;241;43m=\u001b[39;49m\u001b[43m[\u001b[49m\u001b[38;5;241;43m20\u001b[39;49m\u001b[43m,\u001b[49m\u001b[38;5;241;43m20\u001b[39;49m\u001b[43m,\u001b[49m\u001b[38;5;241;43m32\u001b[39;49m\u001b[43m]\u001b[49m\u001b[43m,\u001b[49m\u001b[43mpoint_size\u001b[49m\u001b[38;5;241;43m=\u001b[39;49m\u001b[38;5;241;43m3\u001b[39;49m\u001b[43m,\u001b[49m\u001b[43mplotgrid\u001b[49m\u001b[38;5;241;43m=\u001b[39;49m\u001b[38;5;28;43;01mTrue\u001b[39;49;00m\u001b[43m,\u001b[49m\u001b[43mcoefficientnumber\u001b[49m\u001b[38;5;241;43m=\u001b[39;49m\u001b[38;5;241;43m10\u001b[39;49m\u001b[43m,\u001b[49m\u001b[43mplotreconstructed\u001b[49m\u001b[38;5;241;43m=\u001b[39;49m\u001b[38;5;28;43;01mTrue\u001b[39;49;00m\u001b[43m,\u001b[49m\u001b[43mgridlength\u001b[49m\u001b[38;5;241;43m=\u001b[39;49m\u001b[38;5;241;43m15\u001b[39;49m\u001b[43m,\u001b[49m\u001b[43mk\u001b[49m\u001b[38;5;241;43m=\u001b[39;49m\u001b[38;5;241;43m2\u001b[39;49m\u001b[43m,\u001b[49m\u001b[43mwendlandRadius\u001b[49m\u001b[38;5;241;43m=\u001b[39;49m\u001b[38;5;241;43m15\u001b[39;49m\u001b[43m,\u001b[49m\u001b[43madjindices\u001b[49m\u001b[38;5;241;43m=\u001b[39;49m\u001b[38;5;28;43;01mNone\u001b[39;49;00m\u001b[43m)\u001b[49m\n",
      "Cell \u001b[1;32mIn[14], line 310\u001b[0m, in \u001b[0;36mMyWholeConstructionInOneFunc\u001b[1;34m(filelocation, normalizationmethod, spatial, plotconstrain, plotinout, n, point_size, plotgrid, coefficientnumber, plotreconstructed, gridlength, k, wendlandRadius, adjindices, tohtml)\u001b[0m\n\u001b[0;32m    308\u001b[0m         html \u001b[38;5;241m=\u001b[39m p\u001b[38;5;241m.\u001b[39mto_html(imports\u001b[38;5;241m=\u001b[39m\u001b[38;5;28;01mTrue\u001b[39;00m, html_frame\u001b[38;5;241m=\u001b[39m\u001b[38;5;28;01mFalse\u001b[39;00m)\n\u001b[0;32m    309\u001b[0m         display(HTML(html))\n\u001b[1;32m--> 310\u001b[0m fx, funcargs \u001b[38;5;241m=\u001b[39m \u001b[43mcalculatefx\u001b[49m\u001b[43m(\u001b[49m\u001b[43mx\u001b[49m\u001b[43m,\u001b[49m\u001b[43m \u001b[49m\u001b[43mnpi\u001b[49m\u001b[43m,\u001b[49m\u001b[43m \u001b[49m\u001b[43mnpiplus\u001b[49m\u001b[43m,\u001b[49m\u001b[43m \u001b[49m\u001b[43mnpiminus\u001b[49m\u001b[43m,\u001b[49m\u001b[43m \u001b[49m\u001b[43mni\u001b[49m\u001b[43m,\u001b[49m\u001b[43m \u001b[49m\u001b[43mbbox_min\u001b[49m\u001b[43m,\u001b[49m\u001b[43m \u001b[49m\u001b[43mcoefficientnumber\u001b[49m\u001b[43m,\u001b[49m\u001b[43m \u001b[49m\u001b[43mbbox_max\u001b[49m\u001b[43m,\u001b[49m\u001b[43m \u001b[49m\u001b[43mgridlength\u001b[49m\u001b[43m,\u001b[49m\n\u001b[0;32m    311\u001b[0m \u001b[43m                           \u001b[49m\u001b[43mspatial\u001b[49m\u001b[43m,\u001b[49m\u001b[43m \u001b[49m\u001b[43mwendlandRadius\u001b[49m\u001b[43m,\u001b[49m\u001b[43m \u001b[49m\u001b[43mk\u001b[49m\u001b[43m,\u001b[49m\u001b[43madjindices\u001b[49m\u001b[43m)\u001b[49m\n\u001b[0;32m    312\u001b[0m ind \u001b[38;5;241m=\u001b[39m virtualizeinout(fx)\n\u001b[0;32m    313\u001b[0m \u001b[38;5;28;01mif\u001b[39;00m plotinout \u001b[38;5;241m==\u001b[39m \u001b[38;5;28;01mTrue\u001b[39;00m:\n",
      "Cell \u001b[1;32mIn[14], line 266\u001b[0m, in \u001b[0;36mcalculatefx\u001b[1;34m(x, npi, npiplus, npiminus, ni, bbox_min, coefficientnumber, bbox_max, gridlength, spatial, wendlandRadius, k, adjindices)\u001b[0m\n\u001b[0;32m    264\u001b[0m     a[j, :] \u001b[38;5;241m=\u001b[39m functioninvector(adj_position[\u001b[38;5;241m0\u001b[39m], adj_position[\u001b[38;5;241m1\u001b[39m], adj_position[\u001b[38;5;241m2\u001b[39m], k)\n\u001b[0;32m    265\u001b[0m     b[j] \u001b[38;5;241m=\u001b[39m eps  \u001b[38;5;66;03m# what would be range?\u001b[39;00m\n\u001b[1;32m--> 266\u001b[0m     w[j, j] \u001b[38;5;241m=\u001b[39m \u001b[43mwendlandweight\u001b[49m\u001b[43m(\u001b[49m\u001b[43madj_position\u001b[49m\u001b[43m,\u001b[49m\u001b[43m \u001b[49m\u001b[43mxi\u001b[49m\u001b[43m,\u001b[49m\u001b[43m \u001b[49m\u001b[43mwendlandRadius\u001b[49m\u001b[43m)\u001b[49m\n\u001b[0;32m    267\u001b[0m funcargs[i] \u001b[38;5;241m=\u001b[39m np\u001b[38;5;241m.\u001b[39mlinalg\u001b[38;5;241m.\u001b[39msolve(a\u001b[38;5;241m.\u001b[39mT \u001b[38;5;241m@\u001b[39m w \u001b[38;5;241m@\u001b[39m a, a\u001b[38;5;241m.\u001b[39mT \u001b[38;5;241m@\u001b[39m w \u001b[38;5;241m@\u001b[39m b)\u001b[38;5;241m.\u001b[39mT\n\u001b[0;32m    268\u001b[0m fx[i] \u001b[38;5;241m=\u001b[39m (functioninvector(xi[\u001b[38;5;241m0\u001b[39m], xi[\u001b[38;5;241m1\u001b[39m], xi[\u001b[38;5;241m2\u001b[39m], k) \u001b[38;5;241m@\u001b[39m funcargs[i])\u001b[38;5;241m.\u001b[39mT\n",
      "Cell \u001b[1;32mIn[14], line 132\u001b[0m, in \u001b[0;36mwendlandweight\u001b[1;34m(p1, p2, h)\u001b[0m\n\u001b[0;32m    131\u001b[0m \u001b[38;5;28;01mdef\u001b[39;00m \u001b[38;5;21mwendlandweight\u001b[39m(p1, p2, h):\n\u001b[1;32m--> 132\u001b[0m     distance \u001b[38;5;241m=\u001b[39m \u001b[43mnp\u001b[49m\u001b[38;5;241;43m.\u001b[39;49m\u001b[43mlinalg\u001b[49m\u001b[38;5;241;43m.\u001b[39;49m\u001b[43mnorm\u001b[49m\u001b[43m(\u001b[49m\u001b[43mp1\u001b[49m\u001b[43m \u001b[49m\u001b[38;5;241;43m-\u001b[39;49m\u001b[43m \u001b[49m\u001b[43mp2\u001b[49m\u001b[43m)\u001b[49m\n\u001b[0;32m    133\u001b[0m     \u001b[38;5;28;01mreturn\u001b[39;00m (\u001b[38;5;241m1\u001b[39m \u001b[38;5;241m-\u001b[39m distance \u001b[38;5;241m/\u001b[39m h) \u001b[38;5;241m*\u001b[39m\u001b[38;5;241m*\u001b[39m \u001b[38;5;241m4\u001b[39m \u001b[38;5;241m*\u001b[39m (\u001b[38;5;241m4\u001b[39m \u001b[38;5;241m*\u001b[39m distance \u001b[38;5;241m/\u001b[39m h \u001b[38;5;241m+\u001b[39m \u001b[38;5;241m1\u001b[39m)\n",
      "File \u001b[1;32mF:\\tools\\miniconda\\envs\\gp2\\Lib\\site-packages\\numpy\\linalg\\linalg.py:2552\u001b[0m, in \u001b[0;36mnorm\u001b[1;34m(x, ord, axis, keepdims)\u001b[0m\n\u001b[0;32m   2550\u001b[0m     sqnorm \u001b[38;5;241m=\u001b[39m x_real\u001b[38;5;241m.\u001b[39mdot(x_real) \u001b[38;5;241m+\u001b[39m x_imag\u001b[38;5;241m.\u001b[39mdot(x_imag)\n\u001b[0;32m   2551\u001b[0m \u001b[38;5;28;01melse\u001b[39;00m:\n\u001b[1;32m-> 2552\u001b[0m     sqnorm \u001b[38;5;241m=\u001b[39m x\u001b[38;5;241m.\u001b[39mdot(x)\n\u001b[0;32m   2553\u001b[0m ret \u001b[38;5;241m=\u001b[39m sqrt(sqnorm)\n\u001b[0;32m   2554\u001b[0m \u001b[38;5;28;01mif\u001b[39;00m keepdims:\n",
      "\u001b[1;31mKeyboardInterrupt\u001b[0m: "
     ]
    }
   ],
   "source": [
    "MyWholeConstructionInOneFunc(filelocation=\"data/cat.off\", normalizationmethod=1, spatial=False, plotconstrain=False, \n",
    "                             plotinout=False, n=[20,20,32],point_size=3,plotgrid=True,coefficientnumber=10,plotreconstructed=True,gridlength=15,k=2,wendlandRadius=15,adjindices=None)"
   ]
  },
  {
   "cell_type": "markdown",
   "metadata": {},
   "source": [
    "## Cat created by different wendland function radius\n",
    "\n",
    "Without acceleration\n",
    "\n",
    "k=2,coefficientnumber=10\n",
    "\n",
    "resolution of 32 32 32 \n",
    "\n",
    "1st plot: wendlandRadius=15\n",
    "\n",
    "2nd plot: wendlandRadius=5 (leads to different results since there is no enough points to calculate the fx.)\n",
    "\n",
    "3nd plot: wendlandRadius=30 (running a bit longer and the surface of the cat is further smoothed)"
   ]
  },
  {
   "cell_type": "code",
   "execution_count": null,
   "metadata": {},
   "outputs": [],
   "source": [
    "MyWholeConstructionInOneFunc(filelocation=\"data/cat.off\", normalizationmethod=1, spatial=False, plotconstrain=False, \n",
    "                             plotinout=False, n=[32,32,32],point_size=3,plotgrid=False,coefficientnumber=10,plotreconstructed=True,gridlength=15,k=2,wendlandRadius=15,adjindices=None)"
   ]
  },
  {
   "cell_type": "code",
   "execution_count": null,
   "metadata": {},
   "outputs": [],
   "source": [
    "MyWholeConstructionInOneFunc(filelocation=\"data/cat.off\", normalizationmethod=1, spatial=False, plotconstrain=False, \n",
    "                             plotinout=False, n=[32,32,32],point_size=3,plotgrid=False,coefficientnumber=10,plotreconstructed=True,gridlength=5,k=2,wendlandRadius=5,adjindices=None)"
   ]
  },
  {
   "cell_type": "code",
   "execution_count": null,
   "metadata": {},
   "outputs": [],
   "source": [
    "MyWholeConstructionInOneFunc(filelocation=\"data/cat.off\", normalizationmethod=1, spatial=False, plotconstrain=False, \n",
    "                             plotinout=False, n=[32,32,32],point_size=3,plotgrid=False,coefficientnumber=10,plotreconstructed=True,gridlength=30,k=2,wendlandRadius=30,adjindices=None)"
   ]
  },
  {
   "cell_type": "markdown",
   "metadata": {},
   "source": [
    "## Luigi with acceleration and axis-aligning\n",
    "\n",
    "k=2,coefficientnumber=10\n",
    "\n",
    "resolution of 32 32 32 \n",
    "\n",
    "wendlandRadius=0.2\n",
    "\n",
    "1st plot: Axis-aligning but no acceleration. Wall time is 33.7 s on my PC. \n",
    "\n",
    "2nd plot: Axis-aligning and acceleration. Wall time is 27.1 s on my PC. \n",
    "\n",
    "3nd plot: Acceleration but no axis-aligning. Wall time is 20.2 s on my PC.\n",
    "\n",
    "Even though axis-aligning achieved by PCA costs a bit time, the acceleration is considerable."
   ]
  },
  {
   "cell_type": "code",
   "execution_count": null,
   "metadata": {},
   "outputs": [],
   "source": [
    "%%time\n",
    "adjindices=[(-1, -1, -1), (-1, -1, 0), (-1, -1, 1), (-1, 0, -1), (-1, 0, 0), (-1, 0, 1), (-1, 1, -1), (-1, 1, 0), (-1, 1, 1), (0, -1, -1), (0, -1, 0), (0, -1, 1), (0, 0, -1), (0, 0, 0), (0, 0, 1), (0, 1, -1), (0, 1, 0), (0, 1, 1), (1, -1, -1), (1, -1, 0), (1, -1, 1), (1, 0, -1), (1, 0, 0), (1, 0, 1), (1, 1, -1), (1, 1, 0), (1, 1, 1)]\n",
    "MyWholeConstructionInOneFunc(filelocation=\"data/luigi.off\", normalizationmethod=2, spatial=False, plotconstrain=True, \n",
    "                             plotinout=True, n=[50,50,50],point_size=0.5,plotgrid=True,coefficientnumber=10,plotreconstructed=True,gridlength=1,k=2,wendlandRadius=1,adjindices=adjindices)"
   ]
  },
  {
   "cell_type": "code",
   "execution_count": null,
   "metadata": {},
   "outputs": [],
   "source": [
    "%%time\n",
    "adjindices=[(-1, -1, -1), (-1, -1, 0), (-1, -1, 1), (-1, 0, -1), (-1, 0, 0), (-1, 0, 1), (-1, 1, -1), (-1, 1, 0), (-1, 1, 1), (0, -1, -1), (0, -1, 0), (0, -1, 1), (0, 0, -1), (0, 0, 0), (0, 0, 1), (0, 1, -1), (0, 1, 0), (0, 1, 1), (1, -1, -1), (1, -1, 0), (1, -1, 1), (1, 0, -1), (1, 0, 0), (1, 0, 1), (1, 1, -1), (1, 1, 0), (1, 1, 1)]\n",
    "MyWholeConstructionInOneFunc(filelocation=\"data/luigi.off\", normalizationmethod=2, spatial=True, plotconstrain=True, \n",
    "                             plotinout=True, n=[50,50,50],point_size=0.5,plotgrid=True,coefficientnumber=10,plotreconstructed=True,gridlength=1,k=2,wendlandRadius=1,adjindices=adjindices)"
   ]
  },
  {
   "cell_type": "code",
   "execution_count": null,
   "metadata": {},
   "outputs": [],
   "source": [
    "%%time\n",
    "adjindices=[(-1, -1, -1), (-1, -1, 0), (-1, -1, 1), (-1, 0, -1), (-1, 0, 0), (-1, 0, 1), (-1, 1, -1), (-1, 1, 0), (-1, 1, 1), (0, -1, -1), (0, -1, 0), (0, -1, 1), (0, 0, -1), (0, 0, 0), (0, 0, 1), (0, 1, -1), (0, 1, 0), (0, 1, 1), (1, -1, -1), (1, -1, 0), (1, -1, 1), (1, 0, -1), (1, 0, 0), (1, 0, 1), (1, 1, -1), (1, 1, 0), (1, 1, 1)]\n",
    "MyWholeConstructionInOneFunc(filelocation=\"data/luigi.off\", normalizationmethod=1, spatial=True, plotconstrain=True, \n",
    "                             plotinout=True, n=[50,50,50],point_size=0.5,plotgrid=True,coefficientnumber=10,plotreconstructed=True,gridlength=1,k=2,wendlandRadius=1,adjindices=adjindices)"
   ]
  },
  {
   "cell_type": "markdown",
   "metadata": {},
   "source": [
    "## Cat reconstructed by different polynomial degree\n",
    "\n",
    "resolution of 32 32 32 \n",
    "\n",
    "plot 1: k=2 wendlandradius=16\n",
    "plot 2: k=1 wendlandradius=16\n",
    "plot 3: k=0 wendlandradius=16\n",
    "plot 4: k=0 wendlandradius=5\n",
    "\n",
    "For the same Wendland radius, a higher degree results in more artifacts.\r\n",
    "\r\n",
    "With a low degree, it's feasible to use a minimal Wendland radius for object reconstruction, which is not the case with higher degrees."
   ]
  },
  {
   "cell_type": "code",
   "execution_count": null,
   "metadata": {},
   "outputs": [],
   "source": [
    "MyWholeConstructionInOneFunc(filelocation=\"data/cat.off\", normalizationmethod=1, spatial=False, plotconstrain=False,plotinout=False, \n",
    "                             n=[32,32,32],point_size=5,plotgrid=False,coefficientnumber=10,plotreconstructed=True,gridlength=16,k=2,\n",
    "                             wendlandRadius=16,adjindices=None)"
   ]
  },
  {
   "cell_type": "code",
   "execution_count": null,
   "metadata": {},
   "outputs": [],
   "source": [
    "MyWholeConstructionInOneFunc(filelocation=\"data/cat.off\", normalizationmethod=1, spatial=False, plotconstrain=False,plotinout=False, \n",
    "                             n=[32,32,32],point_size=5,plotgrid=False,coefficientnumber=4,plotreconstructed=True,gridlength=16,k=1,\n",
    "                             wendlandRadius=16,adjindices=None)"
   ]
  },
  {
   "cell_type": "code",
   "execution_count": null,
   "metadata": {},
   "outputs": [],
   "source": [
    "MyWholeConstructionInOneFunc(filelocation=\"data/cat.off\", normalizationmethod=1, spatial=False, plotconstrain=False,plotinout=False, \n",
    "                             n=[32,32,32],point_size=5,plotgrid=False,coefficientnumber=1,plotreconstructed=True,gridlength=16,k=0,\n",
    "                             wendlandRadius=16,adjindices=None)"
   ]
  },
  {
   "cell_type": "code",
   "execution_count": null,
   "metadata": {},
   "outputs": [],
   "source": [
    "MyWholeConstructionInOneFunc(filelocation=\"data/cat.off\", normalizationmethod=1, spatial=False, plotconstrain=False,plotinout=False, \n",
    "                             n=[32,32,32],point_size=5,plotgrid=False,coefficientnumber=1,plotreconstructed=True,gridlength=5,k=0,\n",
    "                             wendlandRadius=8,adjindices=None)"
   ]
  },
  {
   "cell_type": "code",
   "execution_count": null,
   "metadata": {},
   "outputs": [],
   "source": []
  }
 ],
 "metadata": {
  "kernelspec": {
   "display_name": "Python 3 (ipykernel)",
   "language": "python",
   "name": "python3"
  },
  "language_info": {
   "codemirror_mode": {
    "name": "ipython",
    "version": 3
   },
   "file_extension": ".py",
   "mimetype": "text/x-python",
   "name": "python",
   "nbconvert_exporter": "python",
   "pygments_lexer": "ipython3",
   "version": "3.11.8"
  }
 },
 "nbformat": 4,
 "nbformat_minor": 4
}
