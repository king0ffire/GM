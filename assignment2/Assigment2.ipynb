{
 "cells": [
  {
   "cell_type": "code",
   "execution_count": 1,
   "metadata": {
    "scrolled": true
   },
   "outputs": [],
   "source": [
    "import numpy as np\n",
    "import igl\n",
    "import meshplot as mp"
   ]
  },
  {
   "cell_type": "code",
   "execution_count": 2,
   "metadata": {
    "scrolled": true
   },
   "outputs": [],
   "source": [
    "#global configuration\n",
    "n = 32 #resolution\n",
    "normalizationmethod=1 # 0 for \"obj fit the (-1,1) box\" by normalizing obj. 1 for \"box fit the obj closely by constructing a streched grid.\n",
    "if normalizationmethod==0:\n",
    "    wendlandRadius=0.2\n",
    "    point_size=0.1 #in plot\n",
    "    gridlength=0.4\n",
    "elif normalizationmethod==1:\n",
    "    wendlandRadius=0.2\n",
    "    point_size=1\n",
    "    gridlength=0.2\n",
    "k=0\n",
    "coefficientnumber=int(np.array([1,4,10])[k])\n",
    "adjindices=[(-1, -1, -1), (-1, -1, 0), (-1, -1, 1), (-1, 0, -1), (-1, 0, 0), (-1, 0, 1), (-1, 1, -1), (-1, 1, 0), (-1, 1, 1), (0, -1, -1), (0, -1, 0), (0, -1, 1), (0, 0, -1), (0, 0, 0), (0, 0, 1), (0, 1, -1), (0, 1, 0), (0, 1, 1), (1, -1, -1), (1, -1, 0), (1, -1, 1), (1, 0, -1), (1, 0, 0), (1, 0, 1), (1, 1, -1), (1, 1, 0), (1, 1, 1)]\n",
    "debug=False\n",
    "spatial=False"
   ]
  },
  {
   "cell_type": "code",
   "execution_count": 3,
   "metadata": {
    "scrolled": true
   },
   "outputs": [],
   "source": [
    "# Utility function to generate a tet grid\n",
    "# n is a 3-tuple with the number of cell in every direction\n",
    "# mmin/mmax are the grid bounding box corners\n",
    "\n",
    "def tet_grid(n, mmin, mmax):\n",
    "    nx = n[0]\n",
    "    ny = n[1]\n",
    "    nz = n[2]\n",
    "    \n",
    "    delta = mmax-mmin\n",
    "    \n",
    "    deltax = delta[0]/(nx-1)\n",
    "    deltay = delta[1]/(ny-1)\n",
    "    deltaz = delta[2]/(nz-1)\n",
    "    \n",
    "    T = np.zeros(((nx-1)*(ny-1)*(nz-1)*6, 4), dtype=np.int64)\n",
    "    V = np.zeros((nx*ny*nz, 3))\n",
    "\n",
    "    mapping = -np.ones((nx, ny, nz), dtype=np.int64)\n",
    "\n",
    "\n",
    "    index = 0\n",
    "    for i in range(nx):\n",
    "        for j in range(ny):\n",
    "            for k in range(nz):\n",
    "                mapping[i, j, k] = index\n",
    "                V[index, :] = [i*deltax, j*deltay, k*deltaz]\n",
    "                index += 1\n",
    "    assert(index == V.shape[0])\n",
    "    \n",
    "    tets = np.array([\n",
    "        [0,1,3,4],\n",
    "        [5,2,6,7],\n",
    "        [4,1,5,3],\n",
    "        [4,3,7,5],\n",
    "        [3,1,5,2],\n",
    "        [2,3,7,5]\n",
    "    ])\n",
    "    \n",
    "    index = 0\n",
    "    for i in range(nx-1):\n",
    "        for j in range(ny-1):\n",
    "            for k in range(nz-1):\n",
    "                indices = [\n",
    "                    (i,   j,   k),\n",
    "                    (i+1, j,   k),\n",
    "                    (i+1, j+1, k),\n",
    "                    (i,   j+1, k),\n",
    "\n",
    "                    (i,   j,   k+1),\n",
    "                    (i+1, j,   k+1),\n",
    "                    (i+1, j+1, k+1),\n",
    "                    (i,   j+1, k+1),\n",
    "                ]\n",
    "                \n",
    "                for t in range(tets.shape[0]):\n",
    "                    tmp = [mapping[indices[ii]] for ii in tets[t, :]]\n",
    "                    T[index, :]=tmp\n",
    "                    index += 1\n",
    "                    \n",
    "    assert(index == T.shape[0])\n",
    "    \n",
    "    V += mmin\n",
    "    return V, T"
   ]
  },
  {
   "cell_type": "markdown",
   "metadata": {},
   "source": [
    "# Implementing a spatial index to accelerate neighbor calculations"
   ]
  },
  {
   "cell_type": "code",
   "execution_count": 4,
   "metadata": {},
   "outputs": [],
   "source": [
    "# Implementing a spatial index to accelerate neighbor calculations        \n",
    "def findgridcell(point,bbox_min,gridlength): #bbox_min (1,3) ndarray. point is position\n",
    "    return ((point-bbox_min)/gridlength).astype(np.int64)  # (,3) ndarray\n",
    "    \n",
    "def constructspatialgrid(points,bbox_min,bbox_max,gridlength):  #points is the obj. Pure cube grid. should contain all obj&tet_grid points. length is determined by wendlandradius\n",
    "    gridcellnumbers=findgridcell(bbox_max,bbox_min,gridlength)+1\n",
    "    if debug==True:\n",
    "        print(\"gridcellnumbers\"+str(gridcellnumbers))\n",
    "    gridcells=[]        #shape=(gridcellsnumbers[0],gridcellsnumbers[1],gridcellsnumbers[2],*)\n",
    "    for i in range(gridcellnumbers[0]):\n",
    "        gridcells.append([])\n",
    "        for j in range(gridcellnumbers[1]):\n",
    "            gridcells[i].append([])\n",
    "            for k in range(gridcellnumbers[2]):\n",
    "                gridcells[i][j].append([])\n",
    "    for (i,point) in enumerate(points):\n",
    "        index=findgridcell(point,bbox_min,gridlength)\n",
    "        gridcells[index[0]][index[1]][index[2]].append(i)\n",
    "    return gridcells,gridcellnumbers\n",
    "\n",
    "#def spatialgrid_add(pointindex,points,bbox_min,gridcells,gridcellnumbers,gridlength):\n",
    "    #index=findgridcell(points[pointindex],bbox_min,gridlength)\n",
    "    #gridcells[index[0]][index[1]][index[2]].append(pointindex)\n",
    "    \n",
    "def find_closed_point_spatial(point,points,bbox_min,gridcells,gridcellnumbers,gridlength): # point is position. points is positions of obj constraints\n",
    "    cell=findgridcell(point,bbox_min,gridlength)\n",
    "    adjcelllist=[]\n",
    "    for i, j, k in adjindices:\n",
    "        i1,i2,i3=cell[0]+i,cell[1]+j,cell[2]+k\n",
    "        if 0 <= i1 < gridcellnumbers[0] and 0 <= i2 < gridcellnumbers[1] and 0 <= i3 < gridcellnumbers[2]:\n",
    "            adjcelllist.extend(gridcells[i1][i2][i3])\n",
    "    return adjcelllist[find_closed_point(point, points[adjcelllist])]\n",
    "\n",
    "def closest_points_spatial(point,points,bbox_min,gridcells,gridcellnumbers,gridlength,wendlandRadius): # point is position. Return like closest_points\n",
    "    cell=findgridcell(point,bbox_min,gridlength)\n",
    "    adjcelllist=[]\n",
    "    for i, j, k in adjindices:\n",
    "        i1,i2,i3=cell[0]+i,cell[1]+j,cell[2]+k\n",
    "        if 0 <= i1 < gridcellnumbers[0] and 0 <= i2 < gridcellnumbers[1] and 0 <= i3 < gridcellnumbers[2]:\n",
    "            adjcelllist.extend(gridcells[i1][i2][i3])\n",
    "    if len(adjcelllist)==0:\n",
    "        return np.array([],dtype=np.int64)\n",
    "    else:\n",
    "        adjcelllist=np.array(adjcelllist)\n",
    "        return adjcelllist[closest_points(point,points[adjcelllist],wendlandRadius)]\n",
    "    \n",
    "    \n",
    "def normalize(points,min,max):\n",
    "    return ((points-np.min(points,axis=0))/(np.max(np.max(points,axis=0)-np.min(points,axis=0))))*(max-min)-(max-min)/2\n",
    "\n",
    "def find_closed_point(point, points): #assume the return is always a int\n",
    "    distance=np.linalg.norm(points-point,axis=1)\n",
    "    return np.argmin(distance)\n",
    "\n",
    "def closest_points(point, points, h):\n",
    "    distance=np.linalg.norm(points-point,axis=1)\n",
    "    res=np.argwhere(distance < h)\n",
    "    return res.squeeze(axis=1)\n"
   ]
  },
  {
   "cell_type": "markdown",
   "metadata": {},
   "source": [
    "# Reading point cloud"
   ]
  },
  {
   "cell_type": "code",
   "execution_count": 5,
   "metadata": {},
   "outputs": [],
   "source": [
    "pi, v = igl.read_triangle_mesh(\"data/luigi.off\")\n",
    "pi /= 10\n",
    "ni = igl.per_vertex_normals(pi, v)\n",
    "if debug==True: \n",
    "    mp.plot(pi, shading={\"point_size\": point_size})\n",
    "    print(pi.shape)"
   ]
  },
  {
   "cell_type": "code",
   "execution_count": 6,
   "metadata": {},
   "outputs": [],
   "source": [
    "if normalizationmethod==0:\n",
    "    bbox_min = np.array([-1., -1., -1.])\n",
    "    bbox_max = np.array([1., 1., 1.])\n",
    "    bbox_diag = np.linalg.norm(bbox_max - bbox_min)\n",
    "    \n",
    "    npi=normalize(pi,np.min(bbox_min),np.max(bbox_max))\n",
    "    #npiplus=normalize(piplus,np.min(bbox_min),np.max(bbox_max))\n",
    "    #npiminus=normalize(piminus,np.min(bbox_min),np.max(bbox_max))\n",
    "\n",
    "    bbox_min=bbox_min - 0.05 * bbox_diag\n",
    "    bbox_max=bbox_max + 0.05 * bbox_diag\n",
    "\n",
    "\n",
    "if normalizationmethod==1:\n",
    "    bv,bf=igl.bounding_box(pi)\n",
    "    bbox_min=np.min(np.array(bv),axis=0)\n",
    "    bbox_max=np.max(np.array(bv),axis=0)\n",
    "    bbox_diag = np.linalg.norm(bbox_max - bbox_min)\n",
    "    bbox_min=bbox_min - 0.05 * bbox_diag\n",
    "    bbox_max=bbox_max + 0.05 * bbox_diag\n",
    "    if debug==True:\n",
    "        print(bbox_min)\n",
    "        print(bbox_max)\n",
    "    #p.add_points(x,c=np.ones_like(x)*np.array([0.5, 0.5, 0.5]), shading={\"point_size\": 2})\n",
    "    npi=pi\n",
    "    #npiplus=piplus\n",
    "    #npiminus=piminus\n",
    "if debug==True:\n",
    "    print(np.min(npi))\n",
    "    print(np.max(npi))\n",
    "\n",
    "if spatial==True:       \n",
    "    gridcells,gridcellnumbers= constructspatialgrid(npi,bbox_min,bbox_max,gridlength)\n",
    "    if debug==True:\n",
    "        print(gridcells)"
   ]
  },
  {
   "cell_type": "code",
   "execution_count": 7,
   "metadata": {},
   "outputs": [
    {
     "name": "stdout",
     "output_type": "stream",
     "text": [
      "The following plot is the required output for Setting up the Constraints section\n"
     ]
    },
    {
     "data": {
      "application/vnd.jupyter.widget-view+json": {
       "model_id": "b12da6d5f23240768e27e58c56c2d997",
       "version_major": 2,
       "version_minor": 0
      },
      "text/plain": [
       "Renderer(camera=PerspectiveCamera(children=(DirectionalLight(color='white', intensity=0.6, position=(1.1287999…"
      ]
     },
     "metadata": {},
     "output_type": "display_data"
    },
    {
     "data": {
      "text/plain": [
       "2"
      ]
     },
     "execution_count": 7,
     "metadata": {},
     "output_type": "execute_result"
    }
   ],
   "source": [
    "eps=igl.bounding_box_diagonal(npi)*0.01\n",
    "piplus=np.zeros_like(npi)\n",
    "piminus=np.zeros_like(npi)\n",
    "for (i,point) in enumerate(npi):\n",
    "    temp=point+eps*ni[i]\n",
    "    neweps=eps\n",
    "    while True:\n",
    "        if spatial==False:\n",
    "            closest=find_closed_point(temp,npi)\n",
    "        else:\n",
    "            closest=find_closed_point_spatial(temp,npi,bbox_min,gridcells,gridcellnumbers,gridlength)\n",
    "        if closest==i:\n",
    "            break\n",
    "        if debug==True:\n",
    "            test1=find_closed_point(temp,npi)\n",
    "            test2=find_closed_point_spatial(temp,npi,bbox_min,gridcells,gridcellnumbers,gridlength)\n",
    "            if test1!=test2:\n",
    "                print(findgridcell(temp,bbox_min,gridlength))\n",
    "                print(test1)\n",
    "                print(test2)\n",
    "                raise Exception(\"Design wrong!!!\")\n",
    "        neweps=neweps/2\n",
    "        temp=point+neweps*ni[i]\n",
    "    piplus[i]=temp\n",
    "for (i,point) in enumerate(npi):\n",
    "    temp=point-eps*ni[i]\n",
    "    neweps=eps\n",
    "    while True:\n",
    "        if spatial==False:\n",
    "            closest=find_closed_point(temp,npi)\n",
    "        else:\n",
    "            closest=find_closed_point_spatial(temp,npi,bbox_min,gridcells,gridcellnumbers,gridlength)\n",
    "        if closest==i:\n",
    "            break\n",
    "        if debug==True:\n",
    "            test1=find_closed_point(temp,npi)\n",
    "            test2=find_closed_point_spatial(temp,npi,bbox_min,gridcells,gridcellnumbers,gridlength)\n",
    "            if test1!=test2:\n",
    "                print(findgridcell(temp,bbox_min,gridlength))\n",
    "                print(test1)\n",
    "                print(test2)\n",
    "                raise Exception(\"Design wrong!!!\")\n",
    "        neweps=neweps/2\n",
    "        temp=point-neweps*ni[i]\n",
    "    piminus[i]=temp\n",
    "#程序改动：原来是pi和piplus一起算出来后normal。现在是pi normal后算的piplus，所以piplus本身是normal的\n",
    "npiplus=piplus\n",
    "npiminus=piminus\n",
    "print(\"The following plot is the required output for Setting up the Constraints section\")\n",
    "p=mp.plot(npi,c=np.ones_like(npi)*np.array([0, 0, 1]), shading={\"point_size\": point_size})\n",
    "p.add_points(piplus,c=np.ones_like(npi)*np.array([1, 0, 0]), shading={\"point_size\": point_size})\n",
    "p.add_points(piminus,c=np.ones_like(npi)*np.array([0, 1, 0]), shading={\"point_size\": point_size})\n",
    "\n",
    "\n",
    "\n",
    "#######临时测试\n",
    "#list=[590,614,616]\n",
    "#list=[248, 249, 614 ,615 ,616 ,981 ,224 ,250 ,590 ,956 ,980 ,982]\n",
    "#p.add_points(np.concatenate((npi,npiplus,npiminus))[list],shading={\"point_size\": point_size*2})"
   ]
  },
  {
   "cell_type": "markdown",
   "metadata": {},
   "source": [
    "# MLS function"
   ]
  },
  {
   "cell_type": "code",
   "execution_count": 8,
   "metadata": {
    "scrolled": true
   },
   "outputs": [],
   "source": [
    "x,T=tet_grid([n,n,n],bbox_min,bbox_max)"
   ]
  },
  {
   "cell_type": "code",
   "execution_count": 9,
   "metadata": {
    "scrolled": true
   },
   "outputs": [],
   "source": [
    "if debug==True:\n",
    "    p=mp.plot(npi,v)\n",
    "    p.add_points(x,shading={\"point_size\": point_size})\n"
   ]
  },
  {
   "cell_type": "code",
   "execution_count": 10,
   "metadata": {
    "scrolled": true
   },
   "outputs": [],
   "source": [
    "def wendlandweight(p1,p2,h):\n",
    "    distance=np.linalg.norm(p1-p2)\n",
    "    return (1-distance/h)**4 * (4*distance/h+1)\n",
    "\n",
    "def functioninvector_k2(x,y,z):\n",
    "    return np.array([1,x,y,z,x**2,x*y,x*z,y**2,y*z,z**2])\n",
    "\n",
    "def functioninvector_k1(x,y,z):\n",
    "    return np.array([1,x,y,z])\n",
    "\n",
    "def functioninvector_k0(x,y,z):\n",
    "    return np.array([1])\n",
    "    \n",
    "def functioninvector(x,y,z,k):\n",
    "    if k==2:\n",
    "        return functioninvector_k2(x,y,z)\n",
    "    elif k==1:\n",
    "        return functioninvector_k1(x,y,z)\n",
    "    elif k==0:\n",
    "        return functioninvector_k0(x,y,z)"
   ]
  },
  {
   "cell_type": "code",
   "execution_count": 11,
   "metadata": {
    "scrolled": true
   },
   "outputs": [],
   "source": [
    "funcargs=np.zeros((x.shape[0],coefficientnumber)) #1,x,y,z,x^2,xy,xz,y^2,yz,z^2\n",
    "points=np.concatenate((npi,npiplus,npiminus))\n",
    "if spatial==True:       \n",
    "    gridcells,gridcellnumbers=constructspatialgrid(points,bbox_min,bbox_max,gridlength)\n",
    "fx=np.zeros((x.shape[0],1))\n",
    "if debug==True:\n",
    "    test1sum=0\n",
    "    test2sum=0\n",
    "for (i,xi) in enumerate(x): \n",
    "    if spatial==False:\n",
    "        adjlist=np.array(closest_points(xi,points,wendlandRadius))\n",
    "    else:\n",
    "        adjlist=np.array(closest_points_spatial(xi,points,bbox_min,gridcells,gridcellnumbers,gridlength,wendlandRadius)) \n",
    "    if debug==True:\n",
    "        test1=np.array(closest_points(xi,points,wendlandRadius))\n",
    "        test2=np.array(closest_points_spatial(xi,points,bbox_min,gridcells,gridcellnumbers,gridlength,wendlandRadius))\n",
    "\n",
    "        if np.array_equal(test1,np.sort(test2))!=True:\n",
    "            print(repr(test1))\n",
    "            print(repr(test2))\n",
    "            raise Exception(\"Design wrong!!!\")\n",
    "    a=np.zeros((adjlist.size,coefficientnumber))\n",
    "    b=np.zeros((adjlist.size,1))\n",
    "    w=np.zeros((adjlist.size,adjlist.size)) #diagonal matrix\n",
    "    #print(adjlist.shape) if adjlist.shape[0]!=0 else None\n",
    "    if(len(adjlist)<coefficientnumber):\n",
    "        fx[i]=10000\n",
    "        continue\n",
    "    #print(adjlist)\n",
    "\n",
    "    for (j,adj) in enumerate(adjlist):\n",
    "        adj_position=points[adj]\n",
    "        originalpiindex=adj % (npi.shape[0])\n",
    "        originalpi_position=points[originalpiindex]\n",
    "        eps=(adj_position-originalpi_position)[0]/ni[originalpiindex,0]\n",
    "        a[j,:]=functioninvector(adj_position[0],adj_position[1],adj_position[2],k)\n",
    "        b[j]=eps  #what would be range?\n",
    "        w[j,j]=wendlandweight(adj_position,xi,wendlandRadius)\n",
    "        #print(a[j,:])\n",
    "        #print(b[j])\n",
    "        #print(w[j,j])\n",
    "    funcargs[i]=np.linalg.solve(a.T@w@a,a.T@w@b).T\n",
    "    fx[i]=(functioninvector(xi[0],xi[1],xi[2],k)@funcargs[i]).T\n",
    "\n",
    "if debug==True:\n",
    "    print(\"total time on test1:\"+str(test1sum))\n",
    "    print(\"total time on test2:\"+str(test2sum))"
   ]
  },
  {
   "cell_type": "code",
   "execution_count": 12,
   "metadata": {},
   "outputs": [
    {
     "name": "stdout",
     "output_type": "stream",
     "text": [
      "The following plot is the required output for \"Use MLS interpolation to extend to function f\" section\n"
     ]
    },
    {
     "data": {
      "application/vnd.jupyter.widget-view+json": {
       "model_id": "5076643909dd4a85b2ef775d96028843",
       "version_major": 2,
       "version_minor": 0
      },
      "text/plain": [
       "Renderer(camera=PerspectiveCamera(children=(DirectionalLight(color='white', intensity=0.6, position=(1.1287999…"
      ]
     },
     "metadata": {},
     "output_type": "display_data"
    }
   ],
   "source": [
    "# Treshold fx to visualize inside outside\n",
    "ind = np.zeros_like(fx)\n",
    "ind[fx >= 0] = 1 #yellow\n",
    "ind[fx < 0] = -1 # black\n",
    "print(\"The following plot is the required output for \\\"Use MLS interpolation to extend to function f\\\" section\")\n",
    "p=mp.plot(x, c=ind, shading={\"point_size\": point_size,\"width\": 800, \"height\": 800})\n",
    "if debug==True and False:\n",
    "    p.add_points(np.expand_dims(x[1],0),shading={\"point_size\":30})\n",
    "    p.add_points(x,shading={\"point_size\":10})"
   ]
  },
  {
   "cell_type": "markdown",
   "metadata": {},
   "source": [
    "# Marching to extract surface"
   ]
  },
  {
   "cell_type": "code",
   "execution_count": 13,
   "metadata": {},
   "outputs": [
    {
     "name": "stdout",
     "output_type": "stream",
     "text": [
      "[0]\n",
      "[19164]\n",
      "0\n"
     ]
    },
    {
     "data": {
      "application/vnd.jupyter.widget-view+json": {
       "model_id": "de172106f5d44007b11098f6e8f7a73e",
       "version_major": 2,
       "version_minor": 0
      },
      "text/plain": [
       "Renderer(camera=PerspectiveCamera(children=(DirectionalLight(color='white', intensity=0.6, position=(1.1065939…"
      ]
     },
     "metadata": {},
     "output_type": "display_data"
    },
    {
     "data": {
      "text/plain": [
       "<meshplot.Viewer.Viewer at 0x18bff7b3e50>"
      ]
     },
     "execution_count": 13,
     "metadata": {},
     "output_type": "execute_result"
    }
   ],
   "source": [
    "# Marcing tet to extract surface\n",
    "sv, sf, _, _ = igl.marching_tets(x, T, fx, 0)\n",
    "components=igl.facet_components(sf)\n",
    "index,count=np.unique(components,return_counts=True)\n",
    "print(index)\n",
    "print(count)\n",
    "index=np.where(count==np.max(count))[0][0]  #argwhere?\n",
    "print(index)\n",
    "filteredf=sf[components==index]\n",
    "mp.plot(sv, filteredf, shading={\"wireframe\": True})"
   ]
  },
  {
   "cell_type": "markdown",
   "metadata": {},
   "source": [
    "# Experienment with parameters\n",
    "All the blocks above shows a reconstruction with fixed parameters.\n",
    "Below we experientment with different configuration. "
   ]
  },
  {
   "cell_type": "code",
   "execution_count": 14,
   "metadata": {},
   "outputs": [],
   "source": [
    "def myimplicitandreconstruct(x,T,npi,npiplus,npiminus,k,coefficientnumber,n,wendlandRadius): #functioninvector\n",
    "    funcargs=np.zeros((x.shape[0],coefficientnumber)) #1,x,y,z,x^2,xy,xz,y^2,yz,z^2\n",
    "    points=np.concatenate((npi,npiplus,npiminus))\n",
    "    fx=np.zeros((x.shape[0],1))\n",
    "    for (i,xi) in enumerate(x): \n",
    "        adjlist=np.array(closest_points(xi,points,wendlandRadius)).squeeze(axis=1)\n",
    "        a=np.zeros((adjlist.size,coefficientnumber))\n",
    "        b=np.zeros((adjlist.size,1))\n",
    "        w=np.zeros((adjlist.size,adjlist.size)) #diagonal matrix\n",
    "        #print(adjlist.shape) if adjlist.shape[0]!=0 else None\n",
    "        if(len(adjlist)<coefficientnumber):\n",
    "            fx[i]=10000\n",
    "            continue\n",
    "        #print(adjlist)\n",
    "\n",
    "        for (j,adj) in enumerate(adjlist):\n",
    "            adj_position=points[adj]\n",
    "            originalpiindex=adj % (npi.shape[0])\n",
    "            originalpi_position=points[originalpiindex]\n",
    "            eps=(adj_position-originalpi_position)[0]/ni[originalpiindex,0]\n",
    "            a[j,:]=functioninvector(adj_position[0],adj_position[1],adj_position[2],k)\n",
    "            b[j]=eps  #what would be range?\n",
    "            w[j,j]=wendlandweight(adj_position,xi,wendlandRadius)\n",
    "            #print(a[j,:])\n",
    "            #print(b[j])\n",
    "            #print(w[j,j])\n",
    "        funcargs[i]=np.linalg.solve(a.T@w@a,a.T@w@b).T\n",
    "        fx[i]=(functioninvector(xi[0],xi[1],xi[2],k)@funcargs[i]).T\n",
    "    sv, sf, _, _ = igl.marching_tets(x, T, fx, 0)\n",
    "    components=igl.facet_components(sf)\n",
    "    index,count=np.unique(components,return_counts=True)\n",
    "    index=np.where(count==np.max(count))[0][0]\n",
    "    filteredf=sf[components==index]\n",
    "    return sv,filteredf"
   ]
  }
 ],
 "metadata": {
  "kernelspec": {
   "display_name": "Python 3 (ipykernel)",
   "language": "python",
   "name": "python3"
  },
  "language_info": {
   "codemirror_mode": {
    "name": "ipython",
    "version": 3
   },
   "file_extension": ".py",
   "mimetype": "text/x-python",
   "name": "python",
   "nbconvert_exporter": "python",
   "pygments_lexer": "ipython3",
   "version": "3.11.8"
  }
 },
 "nbformat": 4,
 "nbformat_minor": 4
}
