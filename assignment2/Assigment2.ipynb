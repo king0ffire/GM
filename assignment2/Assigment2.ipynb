{
 "cells": [
  {
   "cell_type": "code",
   "execution_count": 52,
   "metadata": {
    "scrolled": true
   },
   "outputs": [],
   "source": [
    "import numpy as np\n",
    "import igl\n",
    "import meshplot as mp"
   ]
  },
  {
   "cell_type": "code",
   "execution_count": 73,
   "metadata": {
    "scrolled": true
   },
   "outputs": [],
   "source": [
    "#global configuration\n",
    "n = 32 #resolution\n",
    "normalizationmethod=1 # 0 for \"obj fit the (-1,1) box\" by normalizing obj. 1 for \"box fit the obj closely by constructing a streched grid.\n",
    "if normalizationmethod==0:\n",
    "    wendlandRadius=0.2\n",
    "    point_size=0.1 #in plot\n",
    "elif normalizationmethod==1:\n",
    "    wendlandRadius=13\n",
    "    point_size=6\n",
    "k=2\n",
    "coefficientnumber=int(np.array([1,4,10])[k])\n",
    "debug=False\n",
    "spatial=True"
   ]
  },
  {
   "cell_type": "code",
   "execution_count": 74,
   "metadata": {
    "scrolled": true
   },
   "outputs": [],
   "source": [
    "# Utility function to generate a tet grid\n",
    "# n is a 3-tuple with the number of cell in every direction\n",
    "# mmin/mmax are the grid bounding box corners\n",
    "\n",
    "def tet_grid(n, mmin, mmax):\n",
    "    nx = n[0]\n",
    "    ny = n[1]\n",
    "    nz = n[2]\n",
    "    \n",
    "    delta = mmax-mmin\n",
    "    \n",
    "    deltax = delta[0]/(nx-1)\n",
    "    deltay = delta[1]/(ny-1)\n",
    "    deltaz = delta[2]/(nz-1)\n",
    "    \n",
    "    T = np.zeros(((nx-1)*(ny-1)*(nz-1)*6, 4), dtype=np.int64)\n",
    "    V = np.zeros((nx*ny*nz, 3))\n",
    "\n",
    "    mapping = -np.ones((nx, ny, nz), dtype=np.int64)\n",
    "\n",
    "\n",
    "    index = 0\n",
    "    for i in range(nx):\n",
    "        for j in range(ny):\n",
    "            for k in range(nz):\n",
    "                mapping[i, j, k] = index\n",
    "                V[index, :] = [i*deltax, j*deltay, k*deltaz]\n",
    "                index += 1\n",
    "    assert(index == V.shape[0])\n",
    "    \n",
    "    tets = np.array([\n",
    "        [0,1,3,4],\n",
    "        [5,2,6,7],\n",
    "        [4,1,5,3],\n",
    "        [4,3,7,5],\n",
    "        [3,1,5,2],\n",
    "        [2,3,7,5]\n",
    "    ])\n",
    "    \n",
    "    index = 0\n",
    "    for i in range(nx-1):\n",
    "        for j in range(ny-1):\n",
    "            for k in range(nz-1):\n",
    "                indices = [\n",
    "                    (i,   j,   k),\n",
    "                    (i+1, j,   k),\n",
    "                    (i+1, j+1, k),\n",
    "                    (i,   j+1, k),\n",
    "\n",
    "                    (i,   j,   k+1),\n",
    "                    (i+1, j,   k+1),\n",
    "                    (i+1, j+1, k+1),\n",
    "                    (i,   j+1, k+1),\n",
    "                ]\n",
    "                \n",
    "                for t in range(tets.shape[0]):\n",
    "                    tmp = [mapping[indices[ii]] for ii in tets[t, :]]\n",
    "                    T[index, :]=tmp\n",
    "                    index += 1\n",
    "                    \n",
    "    assert(index == T.shape[0])\n",
    "    \n",
    "    V += mmin\n",
    "    return V, T"
   ]
  },
  {
   "cell_type": "markdown",
   "metadata": {},
   "source": [
    "# Reading point cloud"
   ]
  },
  {
   "cell_type": "code",
   "execution_count": 75,
   "metadata": {},
   "outputs": [],
   "source": [
    "pi, v = igl.read_triangle_mesh(\"data/cat.off\")\n",
    "pi /= 10\n",
    "ni = igl.per_vertex_normals(pi, v)\n",
    "if debug==True: \n",
    "    mp.plot(pi, shading={\"point_size\": point_size})"
   ]
  },
  {
   "cell_type": "code",
   "execution_count": 76,
   "metadata": {},
   "outputs": [
    {
     "name": "stdout",
     "output_type": "stream",
     "text": [
      "The following plot is the required output for Setting up the Constraints section\n"
     ]
    },
    {
     "data": {
      "application/vnd.jupyter.widget-view+json": {
       "model_id": "a0ef2cd941f841a9911fb5a7c6fb6125",
       "version_major": 2,
       "version_minor": 0
      },
      "text/plain": [
       "Renderer(camera=PerspectiveCamera(children=(DirectionalLight(color='white', intensity=0.6, position=(5.0, -23.…"
      ]
     },
     "metadata": {},
     "output_type": "display_data"
    },
    {
     "data": {
      "text/plain": [
       "2"
      ]
     },
     "execution_count": 76,
     "metadata": {},
     "output_type": "execute_result"
    }
   ],
   "source": [
    "def find_closed_point(point, points):\n",
    "    distance=np.linalg.norm(points-point,axis=1)\n",
    "    return np.argmin(distance)\n",
    "\n",
    "\n",
    "eps=igl.bounding_box_diagonal(pi)*0.01\n",
    "piplus=np.zeros_like(pi)\n",
    "piminus=np.zeros_like(pi)\n",
    "for (i,point) in enumerate(pi):\n",
    "    temp=point+eps*ni[i]\n",
    "    neweps=eps\n",
    "    while find_closed_point(temp,pi)!=i:\n",
    "        neweps=neweps/2\n",
    "        temp=point+neweps*ni[i]\n",
    "    piplus[i]=temp\n",
    "for (i,point) in enumerate(pi):\n",
    "    temp=point-eps*ni[i]\n",
    "    neweps=eps\n",
    "    while find_closed_point(temp,pi)!=i:\n",
    "        neweps=neweps/2\n",
    "        temp=point-neweps*ni[i]\n",
    "    piminus[i]=temp\n",
    "\n",
    "print(\"The following plot is the required output for Setting up the Constraints section\")\n",
    "p=mp.plot(pi,c=np.ones_like(pi)*np.array([0, 0, 1]), shading={\"point_size\": point_size})\n",
    "p.add_points(piplus,c=np.ones_like(pi)*np.array([1, 0, 0]), shading={\"point_size\": point_size})\n",
    "p.add_points(piminus,c=np.ones_like(pi)*np.array([0, 1, 0]), shading={\"point_size\": point_size})"
   ]
  },
  {
   "cell_type": "markdown",
   "metadata": {},
   "source": [
    "# Implementing a spatial index to accelerate neighbor calculations"
   ]
  },
  {
   "cell_type": "code",
   "execution_count": null,
   "metadata": {},
   "outputs": [],
   "source": [
    "# Implementing a spatial index to accelerate neighbor calculations\n",
    "if spatial==True:\n",
    "    "
   ]
  },
  {
   "cell_type": "markdown",
   "metadata": {},
   "source": [
    "# MLS function"
   ]
  },
  {
   "cell_type": "code",
   "execution_count": 77,
   "metadata": {
    "scrolled": true
   },
   "outputs": [],
   "source": [
    "# Parameters\n",
    "if normalizationmethod==0:\n",
    "    bbox_min = np.array([-1., -1., -1.])\n",
    "    bbox_max = np.array([1., 1., 1.])\n",
    "    bbox_diag = np.linalg.norm(bbox_max - bbox_min)\n",
    "\n",
    "if normalizationmethod==1:\n",
    "    bv,bf=igl.bounding_box(pi)\n",
    "    x,T=tet_grid([n,n,n],np.min(np.array(bv),axis=0)*1.1,np.max(np.array(bv),axis=0)*1.1)\n",
    "    #p.add_points(x,c=np.ones_like(x)*np.array([0.5, 0.5, 0.5]), shading={\"point_size\": 2})\n"
   ]
  },
  {
   "cell_type": "code",
   "execution_count": 78,
   "metadata": {
    "scrolled": true
   },
   "outputs": [
    {
     "name": "stdout",
     "output_type": "stream",
     "text": [
      "-99.0\n",
      "32.7\n"
     ]
    }
   ],
   "source": [
    "def normalize(points,min,max):\n",
    "    return ((points-np.min(points,axis=0))/(np.max(np.max(points,axis=0)-np.min(points,axis=0))))*(max-min)-(max-min)/2\n",
    "    \n",
    "if normalizationmethod==0:\n",
    "    npi=normalize(pi,np.min(bbox_min),np.max(bbox_max))\n",
    "    npiplus=normalize(piplus,np.min(bbox_min),np.max(bbox_max))\n",
    "    npiminus=normalize(piminus,np.min(bbox_min),np.max(bbox_max))\n",
    "elif normalizationmethod==1:\n",
    "    npi=pi\n",
    "    npiplus=piplus\n",
    "    npiminus=piminus\n",
    "print(np.min(npi))\n",
    "print(np.max(npi))"
   ]
  },
  {
   "cell_type": "code",
   "execution_count": 79,
   "metadata": {
    "scrolled": true
   },
   "outputs": [],
   "source": [
    "# Generate grid n x n x n\n",
    "if normalizationmethod==0:\n",
    "    x, T = tet_grid((n, n, n), bbox_min - 0.05 * bbox_diag, bbox_max + 0.05 * bbox_diag)\n",
    "    #p.add_points(x,c=np.ones_like(x)*np.array([0.5, 0.5, 0.5]), shading={\"point_size\": 2})\n",
    "\n",
    "#x,T=tet_grid((n, n, n), bbox_min, bbox_max)\n",
    "#npi=npi+np.array([-1,-1,0])\n",
    "if debug==True:\n",
    "    p=mp.plot(npi,v)\n",
    "    p.add_points(x,shading={\"point_size\": point_size})\n",
    "#print(npi)\n",
    "#print(np.min(npi))\n",
    "#print(np.max(npi))\n",
    "#print(x)\n",
    "#print(np.min(x))\n",
    "#print(np.max(x))\n",
    "\n"
   ]
  },
  {
   "cell_type": "code",
   "execution_count": 80,
   "metadata": {
    "scrolled": true
   },
   "outputs": [],
   "source": [
    "\n",
    "def closest_points(point, points, h):\n",
    "    distance=np.linalg.norm(points-point,axis=1)\n",
    "    return np.argwhere(distance < h)\n",
    "\n",
    "def wendlandweight(p1,p2,h):\n",
    "    distance=np.linalg.norm(p1-p2)\n",
    "    return (1-distance/h)**4 * (4*distance/h+1)\n",
    "\n",
    "def functioninvector_k2(x,y,z):\n",
    "    return np.array([1,x,y,z,x**2,x*y,x*z,y**2,y*z,z**2])\n",
    "\n",
    "def functioninvector_k1(x,y,z):\n",
    "    return np.array([1,x,y,z])\n",
    "\n",
    "def functioninvector_k0(x,y,z):\n",
    "    return np.array([1])\n",
    "    \n",
    "def functioninvector(x,y,z,k):\n",
    "    if k==2:\n",
    "        return functioninvector_k2(x,y,z)\n",
    "    elif k==1:\n",
    "        return functioninvector_k1(x,y,z)\n",
    "    elif k==0:\n",
    "        return functioninvector_k0(x,y,z)\n",
    "\n",
    "\n",
    "funcargs=np.zeros((x.shape[0],coefficientnumber)) #1,x,y,z,x^2,xy,xz,y^2,yz,z^2\n",
    "points=np.concatenate((npi,npiplus,npiminus))\n",
    "fx=np.zeros((x.shape[0],1))\n",
    "for (i,xi) in enumerate(x): \n",
    "    adjlist=np.array(closest_points(xi,points,wendlandRadius)).squeeze(axis=1)\n",
    "    a=np.zeros((adjlist.size,coefficientnumber))\n",
    "    b=np.zeros((adjlist.size,1))\n",
    "    w=np.zeros((adjlist.size,adjlist.size)) #diagonal matrix\n",
    "    #print(adjlist.shape) if adjlist.shape[0]!=0 else None\n",
    "    if(len(adjlist)<coefficientnumber):\n",
    "        fx[i]=10000\n",
    "        continue\n",
    "    #print(adjlist)\n",
    "\n",
    "    for (j,adj) in enumerate(adjlist):\n",
    "        adj_position=points[adj]\n",
    "        originalpiindex=adj % (npi.shape[0])\n",
    "        originalpi_position=points[originalpiindex]\n",
    "        eps=(adj_position-originalpi_position)[0]/ni[originalpiindex,0]\n",
    "        a[j,:]=functioninvector(adj_position[0],adj_position[1],adj_position[2],k)\n",
    "        b[j]=eps  #what would be range?\n",
    "        w[j,j]=wendlandweight(adj_position,xi,wendlandRadius)\n",
    "        #print(a[j,:])\n",
    "        #print(b[j])\n",
    "        #print(w[j,j])\n",
    "    funcargs[i]=np.linalg.solve(a.T@w@a,a.T@w@b).T\n",
    "    fx[i]=(functioninvector(xi[0],xi[1],xi[2],k)@funcargs[i]).T"
   ]
  },
  {
   "cell_type": "code",
   "execution_count": 81,
   "metadata": {},
   "outputs": [
    {
     "name": "stdout",
     "output_type": "stream",
     "text": [
      "The following plot is the required output for \"Use MLS interpolation to extend to function f\" section\n"
     ]
    },
    {
     "data": {
      "application/vnd.jupyter.widget-view+json": {
       "model_id": "6b71d736303545ccbed7aedc4600305c",
       "version_major": 2,
       "version_minor": 0
      },
      "text/plain": [
       "Renderer(camera=PerspectiveCamera(children=(DirectionalLight(color='white', intensity=0.6, position=(5.5000009…"
      ]
     },
     "metadata": {},
     "output_type": "display_data"
    }
   ],
   "source": [
    "# Treshold fx to visualize inside outside\n",
    "\n",
    "ind = np.zeros_like(fx)\n",
    "#print(fx.shape)\n",
    "#print(ind.shape)\n",
    "ind[fx >= 0] = 1 #yellow\n",
    "ind[fx < 0] = -1 # black\n",
    "#print(ind)\n",
    "print(\"The following plot is the required output for \\\"Use MLS interpolation to extend to function f\\\" section\")\n",
    "p=mp.plot(x, c=ind, shading={\"point_size\": point_size,\"width\": 800, \"height\": 800})\n",
    "#p.add_points(np.expand_dims(x[1],0),shading={\"point_size\":30})\n",
    "#p.add_points(x,shading={\"point_size\":10})"
   ]
  },
  {
   "cell_type": "markdown",
   "metadata": {},
   "source": [
    "# Marching to extract surface"
   ]
  },
  {
   "cell_type": "code",
   "execution_count": 82,
   "metadata": {},
   "outputs": [
    {
     "name": "stdout",
     "output_type": "stream",
     "text": [
      "[ 0  1  2  3  4  5  6  7  8  9 10 11 12 13 14 15 16 17 18 19 20 21 22 23\n",
      " 24 25 26 27 28 29 30 31 32 33 34 35 36 37 38 39 40 41 42 43 44 45 46 47\n",
      " 48 49 50 51 52 53 54 55 56 57 58 59 60 61 62 63 64 65 66 67 68 69 70 71\n",
      " 72 73 74 75 76 77 78 79 80 81 82 83 84]\n",
      "[   36    24    48    96 34546    36    12    12   198    12   148    12\n",
      "    48    24    92    24    24    48    24    24    24    24    56    24\n",
      "    68    72    24    24    12    24    24    24    52    24    48   120\n",
      "    24    24    48   136    68    48    24    24    24    24    24    24\n",
      "    48    24    24    24    24    48    24    12    92    12    24    24\n",
      "   132    24    12    48    24    24    24    24    24    24    12    48\n",
      "    48    72    24    24    24    48    24    72    24    12    12    12\n",
      "    12]\n",
      "4\n"
     ]
    },
    {
     "data": {
      "application/vnd.jupyter.widget-view+json": {
       "model_id": "0dcc8da7be4d46e9895b3ab59db1f903",
       "version_major": 2,
       "version_minor": 0
      },
      "text/plain": [
       "Renderer(camera=PerspectiveCamera(children=(DirectionalLight(color='white', intensity=0.6, position=(5.5000009…"
      ]
     },
     "metadata": {},
     "output_type": "display_data"
    },
    {
     "data": {
      "text/plain": [
       "<meshplot.Viewer.Viewer at 0x1a252966110>"
      ]
     },
     "execution_count": 82,
     "metadata": {},
     "output_type": "execute_result"
    }
   ],
   "source": [
    "# Marcing tet to extract surface\n",
    "\n",
    "sv, sf, _, _ = igl.marching_tets(x, T, fx, 0)\n",
    "components=igl.facet_components(sf)\n",
    "index,count=np.unique(components,return_counts=True)\n",
    "print(index)\n",
    "print(count)\n",
    "index=np.where(count==np.max(count))[0][0]\n",
    "print(index)\n",
    "filteredf=sf[components==index]\n",
    "mp.plot(sv, filteredf, shading={\"wireframe\": True})"
   ]
  },
  {
   "cell_type": "code",
   "execution_count": null,
   "metadata": {},
   "outputs": [],
   "source": []
  },
  {
   "cell_type": "markdown",
   "metadata": {},
   "source": [
    "# Experienment with parameters\n",
    "All the blocks above shows a reconstruction with fixed parameters.\n",
    "Below we experientment with different resolution, "
   ]
  },
  {
   "cell_type": "code",
   "execution_count": null,
   "metadata": {},
   "outputs": [],
   "source": [
    "def myimplicitandreconstruct(x,T,npi,npiplus,npiminus,k,coefficientnumber,n,wendlandRadius): #functioninvector\n",
    "    funcargs=np.zeros((x.shape[0],coefficientnumber)) #1,x,y,z,x^2,xy,xz,y^2,yz,z^2\n",
    "    points=np.concatenate((npi,npiplus,npiminus))\n",
    "    fx=np.zeros((x.shape[0],1))\n",
    "    for (i,xi) in enumerate(x): \n",
    "        adjlist=np.array(closest_points(xi,points,wendlandRadius)).squeeze(axis=1)\n",
    "        a=np.zeros((adjlist.size,coefficientnumber))\n",
    "        b=np.zeros((adjlist.size,1))\n",
    "        w=np.zeros((adjlist.size,adjlist.size)) #diagonal matrix\n",
    "        #print(adjlist.shape) if adjlist.shape[0]!=0 else None\n",
    "        if(len(adjlist)<coefficientnumber):\n",
    "            fx[i]=10000\n",
    "            continue\n",
    "        #print(adjlist)\n",
    "\n",
    "        for (j,adj) in enumerate(adjlist):\n",
    "            adj_position=points[adj]\n",
    "            originalpiindex=adj % (npi.shape[0])\n",
    "            originalpi_position=points[originalpiindex]\n",
    "            eps=(adj_position-originalpi_position)[0]/ni[originalpiindex,0]\n",
    "            a[j,:]=functioninvector(adj_position[0],adj_position[1],adj_position[2],k)\n",
    "            b[j]=eps  #what would be range?\n",
    "            w[j,j]=wendlandweight(adj_position,xi,wendlandRadius)\n",
    "            #print(a[j,:])\n",
    "            #print(b[j])\n",
    "            #print(w[j,j])\n",
    "        funcargs[i]=np.linalg.solve(a.T@w@a,a.T@w@b).T\n",
    "        fx[i]=(functioninvector(xi[0],xi[1],xi[2],k)@funcargs[i]).T\n",
    "    sv, sf, _, _ = igl.marching_tets(x, T, fx, 0)\n",
    "    components=igl.facet_components(sf)\n",
    "    index,count=np.unique(components,return_counts=True)\n",
    "    index=np.where(count==np.max(count))[0][0]\n",
    "    filteredf=sf[components==index]\n",
    "    return sv,filteredf"
   ]
  },
  {
   "cell_type": "code",
   "execution_count": null,
   "metadata": {},
   "outputs": [],
   "source": []
  },
  {
   "cell_type": "code",
   "execution_count": null,
   "metadata": {},
   "outputs": [],
   "source": []
  },
  {
   "cell_type": "code",
   "execution_count": null,
   "metadata": {},
   "outputs": [],
   "source": []
  },
  {
   "cell_type": "code",
   "execution_count": null,
   "metadata": {},
   "outputs": [],
   "source": []
  }
 ],
 "metadata": {
  "kernelspec": {
   "display_name": "Python 3 (ipykernel)",
   "language": "python",
   "name": "python3"
  },
  "language_info": {
   "codemirror_mode": {
    "name": "ipython",
    "version": 3
   },
   "file_extension": ".py",
   "mimetype": "text/x-python",
   "name": "python",
   "nbconvert_exporter": "python",
   "pygments_lexer": "ipython3",
   "version": "3.11.8"
  }
 },
 "nbformat": 4,
 "nbformat_minor": 4
}
