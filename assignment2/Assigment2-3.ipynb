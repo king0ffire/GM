{
 "cells": [
  {
   "cell_type": "markdown",
   "metadata": {},
   "source": [
    "## Cat reconstructed by different polynomial degree\n",
    "\n",
    "resolution of 32 32 32 \n",
    "\n",
    "plot 1: k=2 wendlandradius=16\n",
    "\n",
    "plot 2: k=1 wendlandradius=16\n",
    "\n",
    "plot 3: k=0 wendlandradius=16\n",
    "\n",
    "plot 4: k=0 wendlandradius=8\n",
    "\n",
    "For a given Wendland radius, increasing the degreek) introduces more artifacts in the reconstructio\n",
    "\n",
    "Meanwhile, with a lower degree, it's possible to decrease the Wendland radius without compromising reconstruction quality, a strategy that doesn't work as well with higher degrees. \n",
    "\n",
    "This finding suggests that careful selection of both degree and Wendland radius is crucial for optimizing reconstruction resultsn."
   ]
  },
  {
   "cell_type": "code",
   "execution_count": 43,
   "metadata": {},
   "outputs": [
    {
     "name": "stdout",
     "output_type": "stream",
     "text": [
      "Plot saved to file ./htmls/plot_24.html.\n"
     ]
    }
   ],
   "source": [
    "_,_,_,iframe4=MyWholeConstructionInOneFunc(filelocation=\"data/cat.off\", normalizationmethod=1, spatial=False, plotconstrain=False,plotinout=False, \n",
    "                             n=[32,32,32],point_size=5,plotgrid=False,coefficientnumber=10,plotreconstructed=True,gridlength=16,k=2,\n",
    "                             wendlandRadius=16,adjindices=None)\n"
   ]
  },
  {
   "cell_type": "code",
   "execution_count": 44,
   "metadata": {},
   "outputs": [
    {
     "data": {
      "text/html": [
       "\n",
       "        <iframe\n",
       "            width=\"700\"\n",
       "            height=\"600\"\n",
       "            src=\"./htmls/plot_24.html\"\n",
       "            frameborder=\"0\"\n",
       "            allowfullscreen\n",
       "            \n",
       "        ></iframe>\n",
       "        "
      ],
      "text/plain": [
       "<IPython.lib.display.IFrame at 0x1e39853ebe0>"
      ]
     },
     "execution_count": 44,
     "metadata": {},
     "output_type": "execute_result"
    }
   ],
   "source": [
    "IFrame(src=iframe4, width=700, height=600)"
   ]
  },
  {
   "cell_type": "code",
   "execution_count": 45,
   "metadata": {},
   "outputs": [
    {
     "name": "stdout",
     "output_type": "stream",
     "text": [
      "Plot saved to file ./htmls/plot_25.html.\n"
     ]
    }
   ],
   "source": [
    "_,_,_,iframe4=MyWholeConstructionInOneFunc(filelocation=\"data/cat.off\", normalizationmethod=1, spatial=False, plotconstrain=False,plotinout=False, \n",
    "                             n=[32,32,32],point_size=5,plotgrid=False,coefficientnumber=4,plotreconstructed=True,gridlength=16,k=1,\n",
    "                             wendlandRadius=16,adjindices=None)\n"
   ]
  },
  {
   "cell_type": "code",
   "execution_count": 46,
   "metadata": {},
   "outputs": [
    {
     "data": {
      "text/html": [
       "\n",
       "        <iframe\n",
       "            width=\"700\"\n",
       "            height=\"600\"\n",
       "            src=\"./htmls/plot_25.html\"\n",
       "            frameborder=\"0\"\n",
       "            allowfullscreen\n",
       "            \n",
       "        ></iframe>\n",
       "        "
      ],
      "text/plain": [
       "<IPython.lib.display.IFrame at 0x1e3986f5190>"
      ]
     },
     "execution_count": 46,
     "metadata": {},
     "output_type": "execute_result"
    }
   ],
   "source": [
    "IFrame(src=iframe4, width=700, height=600)"
   ]
  },
  {
   "cell_type": "code",
   "execution_count": 47,
   "metadata": {},
   "outputs": [
    {
     "name": "stdout",
     "output_type": "stream",
     "text": [
      "Plot saved to file ./htmls/plot_26.html.\n"
     ]
    }
   ],
   "source": [
    "_,_,_,iframe4=MyWholeConstructionInOneFunc(filelocation=\"data/cat.off\", normalizationmethod=1, spatial=False, plotconstrain=False,plotinout=False, \n",
    "                             n=[32,32,32],point_size=5,plotgrid=False,coefficientnumber=1,plotreconstructed=True,gridlength=16,k=0,\n",
    "                             wendlandRadius=16,adjindices=None)\n"
   ]
  },
  {
   "cell_type": "code",
   "execution_count": 48,
   "metadata": {},
   "outputs": [
    {
     "data": {
      "text/html": [
       "\n",
       "        <iframe\n",
       "            width=\"700\"\n",
       "            height=\"600\"\n",
       "            src=\"./htmls/plot_26.html\"\n",
       "            frameborder=\"0\"\n",
       "            allowfullscreen\n",
       "            \n",
       "        ></iframe>\n",
       "        "
      ],
      "text/plain": [
       "<IPython.lib.display.IFrame at 0x1e39881f3d0>"
      ]
     },
     "execution_count": 48,
     "metadata": {},
     "output_type": "execute_result"
    }
   ],
   "source": [
    "IFrame(src=iframe4, width=700, height=600)"
   ]
  },
  {
   "cell_type": "code",
   "execution_count": 49,
   "metadata": {},
   "outputs": [
    {
     "name": "stdout",
     "output_type": "stream",
     "text": [
      "Plot saved to file ./htmls/plot_27.html.\n"
     ]
    }
   ],
   "source": [
    "_,_,_,iframe4=MyWholeConstructionInOneFunc(filelocation=\"data/cat.off\", normalizationmethod=1, spatial=False, plotconstrain=False,plotinout=False, \n",
    "                             n=[32,32,32],point_size=5,plotgrid=False,coefficientnumber=1,plotreconstructed=True,gridlength=9,k=0,\n",
    "                             wendlandRadius=9,adjindices=None)\n"
   ]
  },
  {
   "cell_type": "code",
   "execution_count": 50,
   "metadata": {},
   "outputs": [
    {
     "data": {
      "text/html": [
       "\n",
       "        <iframe\n",
       "            width=\"700\"\n",
       "            height=\"600\"\n",
       "            src=\"./htmls/plot_27.html\"\n",
       "            frameborder=\"0\"\n",
       "            allowfullscreen\n",
       "            \n",
       "        ></iframe>\n",
       "        "
      ],
      "text/plain": [
       "<IPython.lib.display.IFrame at 0x1e39850bd30>"
      ]
     },
     "execution_count": 50,
     "metadata": {},
     "output_type": "execute_result"
    }
   ],
   "source": [
    "IFrame(src=iframe4, width=700, height=600)"
   ]
  },
  {
   "cell_type": "markdown",
   "metadata": {},
   "source": [
    "# Optional Task 1:"
   ]
  },
  {
   "cell_type": "code",
   "execution_count": 51,
   "metadata": {},
   "outputs": [],
   "source": [
    "def calculatefx_trueconstraint(x, npi,npiplus, npiminus, ni, bbox_min, coefficientnumber, bbox_max, gridlength, spatial,\n",
    "                wendlandRadius, k,adjindices):\n",
    "    funcargs = np.zeros((x.shape[0], coefficientnumber))  # 1,x,y,z,x^2,xy,xz,y^2,yz,z^2\n",
    "    points = np.concatenate((npi, npiplus, npiminus))\n",
    "    if spatial == True:\n",
    "        gridcells, gridcellnumbers = constructspatialgrid(points, bbox_min, bbox_max, gridlength)\n",
    "    fx = np.zeros((x.shape[0], 1))\n",
    "    for (i, xi) in enumerate(x):\n",
    "        if spatial == False:\n",
    "            adjlist = np.array(closest_points(xi, points, wendlandRadius))\n",
    "        else:\n",
    "            adjlist = np.array(\n",
    "                closest_points_spatial(xi, points, bbox_min, gridcells, gridcellnumbers, gridlength, wendlandRadius,adjindices))\n",
    "        a = np.zeros((adjlist.size, coefficientnumber))\n",
    "        b = np.zeros((adjlist.size, 1))\n",
    "        w = np.zeros((adjlist.size, adjlist.size))  # diagonal matrix\n",
    "        if (len(adjlist) < coefficientnumber):\n",
    "            fx[i] = 10000\n",
    "            continue\n",
    "        for (j, adj) in enumerate(adjlist):\n",
    "            adj_position = points[adj]\n",
    "            originalpiindex = adj % (npi.shape[0])\n",
    "            originalpi_position = points[originalpiindex]\n",
    "            eps = (adj_position - originalpi_position)[0] / ni[originalpiindex, 0]\n",
    "            Sx=eps+ ((xi-adj_position).T @ ni[originalpiindex])\n",
    "            a[j, :] = functioninvector(adj_position[0], adj_position[1], adj_position[2], k)\n",
    "            b[j] = Sx  # what would be range?\n",
    "            w[j, j] = wendlandweight(adj_position, xi, wendlandRadius)\n",
    "        funcargs[i] = np.linalg.solve(a.T @ w @ a, a.T @ w @ b).T\n",
    "        fx[i] = (functioninvector(xi[0], xi[1], xi[2], k) @ funcargs[i]).T\n",
    "    return fx, funcargs\n",
    "\n",
    "def MyWholeConstructionInOneFunc_trueconstraint(filelocation, normalizationmethod, spatial, plotconstrain, plotinout, n,\n",
    "                                 point_size, plotgrid, coefficientnumber, plotreconstructed, gridlength, k,\n",
    "                                 wendlandRadius,adjindices,tohtml=True,trueconstraint=True):  # functioninvector\n",
    "    pi, v= readMesh(filelocation)\n",
    "    npi, bbox_min, bbox_max, gridcells, gridcellnumbers, ni = normalizeMesh(v,normalizationmethod, pi, spatial, gridlength)\n",
    "    npiplus, npiminus = constructConstraint(npi, ni, spatial, bbox_min, gridcells, gridcellnumbers, gridlength,adjindices)\n",
    "    if plotconstrain == True:\n",
    "        print(\"The following plot is the required output for Setting up the Constraints section\")\n",
    "        p = mp.plot(npi, c=np.ones_like(npi) * np.array([0, 0, 1]), shading={\"point_size\": point_size})\n",
    "        p.add_points(npiplus, c=np.ones_like(npi) * np.array([1, 0, 0]), shading={\"point_size\": point_size})\n",
    "        p.add_points(npiminus, c=np.ones_like(npi) * np.array([0, 1, 0]), shading={\"point_size\": point_size})\n",
    "        if tohtml==True:\n",
    "            htmlit(p)\n",
    "    x, T = tet_grid([n[0], n[1], n[2]], bbox_min, bbox_max)\n",
    "    if plotgrid == True:\n",
    "        print(\"The following plot is the required output for Using a non-axis-aligned grid section\")\n",
    "        p = mp.plot(npi, v)\n",
    "        p.add_points(x, shading={\"point_size\": point_size})\n",
    "        if tohtml==True:\n",
    "            htmlit(p)\n",
    "    fx, funcargs = calculatefx_trueconstraint(x, npi,npiplus, npiminus, ni, bbox_min, coefficientnumber, bbox_max, gridlength,\n",
    "                               spatial, wendlandRadius, k,adjindices)\n",
    "    ind = virtualizeinout(fx)\n",
    "    if plotinout == True:\n",
    "        print(\"The following plot is the required output for \\\"Use MLS interpolation to extend to function f\\\" section\")\n",
    "        p = mp.plot(x, c=ind, shading={\"point_size\": point_size, \"width\": 800, \"height\": 800})\n",
    "        if tohtml==True:\n",
    "            htmlit(p)\n",
    "    sv, filteredf = marching(x, T, fx)\n",
    "    if plotreconstructed == True:\n",
    "        p=mp.plot(sv, filteredf, shading={\"wireframe\": True})\n",
    "        if tohtml==True:\n",
    "            iframe4=htmlit(p)\n",
    "    return fx,iframe4\n",
    "\n",
    "def MyWholeConstructionInOneFunc(filelocation, normalizationmethod, spatial, plotconstrain, plotinout, n,\n",
    "                                 point_size, plotgrid, coefficientnumber, plotreconstructed, gridlength, k,\n",
    "                                 wendlandRadius,adjindices,tohtml=True):  # functioninvector\n",
    "    iframe4=None\n",
    "    pi, v= readMesh(filelocation)\n",
    "    npi, bbox_min, bbox_max, gridcells, gridcellnumbers, ni = normalizeMesh(v,normalizationmethod, pi, spatial, gridlength)\n",
    "    npiplus, npiminus = constructConstraint(npi, ni, spatial, bbox_min, gridcells, gridcellnumbers, gridlength,adjindices)\n",
    "    if plotconstrain == True:\n",
    "        print(\"The following plot is the required output for Setting up the Constraints section\")\n",
    "        p = mp.plot(npi, c=np.ones_like(npi) * np.array([0, 0, 1]), shading={\"point_size\": point_size})\n",
    "        p.add_points(npiplus, c=np.ones_like(npi) * np.array([1, 0, 0]), shading={\"point_size\": point_size})\n",
    "        p.add_points(npiminus, c=np.ones_like(npi) * np.array([0, 1, 0]), shading={\"point_size\": point_size})\n",
    "        if tohtml==True:\n",
    "            htmlit(p)\n",
    "    x, T = tet_grid([n[0], n[1], n[2]], bbox_min, bbox_max)\n",
    "    if plotgrid == True:\n",
    "        print(\"The following plot is the required output for Using a non-axis-aligned grid section\")\n",
    "        p = mp.plot(npi, v)\n",
    "        p.add_points(x, shading={\"point_size\": point_size})\n",
    "        if tohtml==True:\n",
    "            htmlit(p)\n",
    "    fx, funcargs = calculatefx(x, npi, npiplus, npiminus, ni, bbox_min, coefficientnumber, bbox_max, gridlength,\n",
    "                               spatial, wendlandRadius, k,adjindices)\n",
    "    ind = virtualizeinout(fx)\n",
    "    if plotinout == True:\n",
    "        print(\"The following plot is the required output for \\\"Use MLS interpolation to extend to function f\\\" section\")\n",
    "        p = mp.plot(x, c=ind, shading={\"point_size\": point_size, \"width\": 800, \"height\": 800})\n",
    "        if tohtml==True:\n",
    "            htmlit(p)\n",
    "    sv, filteredf = marching(x, T, fx)\n",
    "    if plotreconstructed == True:\n",
    "        p=mp.plot(sv, filteredf, shading={\"wireframe\": True})\n",
    "        if tohtml==True:\n",
    "            iframe4=htmlit(p)\n",
    "    return fx,iframe4"
   ]
  },
  {
   "cell_type": "markdown",
   "metadata": {},
   "source": [
    "resolution of 32 32 32\n",
    "\n",
    "wendlandRadius=16\n",
    "\n",
    "k=0\n",
    "\n",
    "Plot 1: point constraints (original one)\n",
    "\n",
    "Plot 2: true normal constraints (modified one)\n",
    "\n",
    "In this comparison, the two plots look very similar, showing that both ways of setting constraints work almost the same for reconstructing the object. We added a bit of code to check the differences more closely. This check found that only 40 points disagree on if they are part of the cat or not. This tells us that both methods are quite good at getting the shape of the cat right, with just a few small differences."
   ]
  },
  {
   "cell_type": "code",
   "execution_count": 52,
   "metadata": {},
   "outputs": [
    {
     "name": "stdout",
     "output_type": "stream",
     "text": [
      "Plot saved to file ./htmls/plot_28.html.\n"
     ]
    },
    {
     "data": {
      "text/html": [
       "\n",
       "        <iframe\n",
       "            width=\"700\"\n",
       "            height=\"600\"\n",
       "            src=\"./htmls/plot_28.html\"\n",
       "            frameborder=\"0\"\n",
       "            allowfullscreen\n",
       "            \n",
       "        ></iframe>\n",
       "        "
      ],
      "text/plain": [
       "<IPython.lib.display.IFrame at 0x1e3987b0e80>"
      ]
     },
     "execution_count": 52,
     "metadata": {},
     "output_type": "execute_result"
    }
   ],
   "source": [
    "fx1,iframe4=MyWholeConstructionInOneFunc(filelocation=\"data/cat.off\", normalizationmethod=1, spatial=False, plotconstrain=False,plotinout=False, \n",
    "                             n=[32,32,32],point_size=5,plotgrid=False,coefficientnumber=1,plotreconstructed=True,gridlength=16,k=0,\n",
    "                             wendlandRadius=16,adjindices=None)\n",
    "IFrame(src=iframe4, width=700, height=600)"
   ]
  },
  {
   "cell_type": "code",
   "execution_count": 53,
   "metadata": {},
   "outputs": [
    {
     "name": "stdout",
     "output_type": "stream",
     "text": [
      "Plot saved to file ./htmls/plot_29.html.\n"
     ]
    },
    {
     "data": {
      "text/html": [
       "\n",
       "        <iframe\n",
       "            width=\"700\"\n",
       "            height=\"600\"\n",
       "            src=\"./htmls/plot_29.html\"\n",
       "            frameborder=\"0\"\n",
       "            allowfullscreen\n",
       "            \n",
       "        ></iframe>\n",
       "        "
      ],
      "text/plain": [
       "<IPython.lib.display.IFrame at 0x1e3987a3f10>"
      ]
     },
     "execution_count": 53,
     "metadata": {},
     "output_type": "execute_result"
    }
   ],
   "source": [
    "fx2,iframe4=MyWholeConstructionInOneFunc_trueconstraint(filelocation=\"data/cat.off\", normalizationmethod=1, spatial=False, plotconstrain=False,plotinout=False, \n",
    "                             n=[32,32,32],point_size=5,plotgrid=False,coefficientnumber=1,plotreconstructed=True,gridlength=16,k=0,\n",
    "                             wendlandRadius=16,adjindices=None)\n",
    "IFrame(src=iframe4, width=700, height=600)"
   ]
  },
  {
   "cell_type": "code",
   "execution_count": 54,
   "metadata": {},
   "outputs": [
    {
     "name": "stdout",
     "output_type": "stream",
     "text": [
      "40\n"
     ]
    }
   ],
   "source": [
    "differentfx=0\n",
    "for i, x in enumerate(fx1):\n",
    "    if(fx1[i]*fx2[i]<0):\n",
    "        differentfx+=1\n",
    "print(str(differentfx))"
   ]
  },
  {
   "cell_type": "markdown",
   "metadata": {},
   "source": [
    "# Optional Task 2\n",
    "\n",
    "There is a pymeshlab library, which is easy to implement in ipynb. \n",
    "\n",
    "Please install it by `pip3 install pymeshlab`\n",
    "\n",
    "Discussion for task 2:\n",
    "\n",
    "Using screened Poisson for reconstructing Luigi showed better detail, like a jagged brim on his hat. It also used fewer triangles for flat surfaces with less detail. This method was much quicker, taking only 6.17 seconds, which is significantly faster than my previous algorithm.\r\n",
    "\r\n",
    "For the cat model, screened Poisson was more accurate than my reconstruction technique. My method resulted in a solid base with artifacts and incorrectly marked many inside points as \"outside,\" creating unwanted inner surfaces. Screened Poisson, however, created a clean surface of the cat without any artifacts."
   ]
  },
  {
   "cell_type": "code",
   "execution_count": 55,
   "metadata": {},
   "outputs": [
    {
     "name": "stdout",
     "output_type": "stream",
     "text": [
      "Plot saved to file ./htmls/plot_30.html.\n",
      "CPU times: total: 15 s\n",
      "Wall time: 5.95 s\n"
     ]
    },
    {
     "data": {
      "text/html": [
       "\n",
       "        <iframe\n",
       "            width=\"700\"\n",
       "            height=\"600\"\n",
       "            src=\"./htmls/plot_30.html\"\n",
       "            frameborder=\"0\"\n",
       "            allowfullscreen\n",
       "            \n",
       "        ></iframe>\n",
       "        "
      ],
      "text/plain": [
       "<IPython.lib.display.IFrame at 0x1e396912f40>"
      ]
     },
     "execution_count": 55,
     "metadata": {},
     "output_type": "execute_result"
    }
   ],
   "source": [
    "%%time\n",
    "import pymeshlab\n",
    "import meshplot as mp\n",
    "\n",
    "ms = pymeshlab.MeshSet()\n",
    "ms.load_new_mesh('./data/luigi.off')\n",
    "ms.generate_surface_reconstruction_screened_poisson()\n",
    "m=ms.current_mesh()\n",
    "v_matrix = m.vertex_matrix()\n",
    "f_matrix = m.face_matrix()\n",
    "p=mp.plot(v_matrix, f_matrix, shading={\"point_size\": 5,\"wireframe\":False})\n",
    "html=htmlit(p)\n",
    "IFrame(src=html, width=700, height=600)"
   ]
  },
  {
   "cell_type": "code",
   "execution_count": 56,
   "metadata": {},
   "outputs": [
    {
     "name": "stdout",
     "output_type": "stream",
     "text": [
      "Plot saved to file ./htmls/plot_31.html.\n"
     ]
    },
    {
     "data": {
      "text/html": [
       "\n",
       "        <iframe\n",
       "            width=\"700\"\n",
       "            height=\"600\"\n",
       "            src=\"./htmls/plot_31.html\"\n",
       "            frameborder=\"0\"\n",
       "            allowfullscreen\n",
       "            \n",
       "        ></iframe>\n",
       "        "
      ],
      "text/plain": [
       "<IPython.lib.display.IFrame at 0x1e3987b68e0>"
      ]
     },
     "execution_count": 56,
     "metadata": {},
     "output_type": "execute_result"
    }
   ],
   "source": [
    "ms = pymeshlab.MeshSet()\n",
    "ms.load_new_mesh('./data/cat.off')\n",
    "ms.generate_surface_reconstruction_screened_poisson()\n",
    "m=ms.current_mesh()\n",
    "v_matrix = m.vertex_matrix()\n",
    "v_matrix /= 10\n",
    "f_matrix = m.face_matrix()\n",
    "p=mp.plot(v_matrix, f_matrix, shading={\"point_size\": 5})\n",
    "html=htmlit(p)\n",
    "IFrame(src=html, width=700, height=600)"
   ]
  },
  {
   "cell_type": "code",
   "execution_count": null,
   "metadata": {},
   "outputs": [],
   "source": []
  }
 ],
 "metadata": {
  "kernelspec": {
   "display_name": "Python 3 (ipykernel)",
   "language": "python",
   "name": "python3"
  },
  "language_info": {
   "codemirror_mode": {
    "name": "ipython",
    "version": 3
   },
   "file_extension": ".py",
   "mimetype": "text/x-python",
   "name": "python",
   "nbconvert_exporter": "python",
   "pygments_lexer": "ipython3",
   "version": "3.8.18"
  }
 },
 "nbformat": 4,
 "nbformat_minor": 4
}
